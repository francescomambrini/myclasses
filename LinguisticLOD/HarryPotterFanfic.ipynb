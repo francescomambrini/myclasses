{
 "cells": [
  {
   "cell_type": "markdown",
   "metadata": {},
   "source": [
    "# Transform the dataset on Harry Potter Fanfiction into LOD"
   ]
  },
  {
   "cell_type": "markdown",
   "metadata": {},
   "source": [
    "We tak the big [Harry Potter fanfiction data](https://www.kaggle.com/datasets/nehatiwari03/harry-potter-fanfiction-data), which can be download from [kaggle](https://www.kaggle.com/) and we transform it into RDF with Python. The idea is then to combine it with the RDF version of the characters from the [Harry Potter Dataset](https://www.kaggle.com/datasets/gulsahdemiryurek/harry-potter-dataset) that we prepare on other class from an original also avaible on [kaggle](https://www.kaggle.com/)."
   ]
  },
  {
   "cell_type": "markdown",
   "metadata": {},
   "source": [
    "## Perparation"
   ]
  },
  {
   "cell_type": "markdown",
   "metadata": {},
   "source": [
    "To follow along, you need:\n",
    "* `pandas`\n",
    "* `rdflib`\n",
    "* the dataset in a file called `hpcleanvlarge1.csv.zip` that can be directly from kaggle (I have it in the my `~/Dowloads` folder and I read it from there; place it wherever you want and change the path accordingly)"
   ]
  },
  {
   "cell_type": "code",
   "execution_count": 1,
   "metadata": {},
   "outputs": [],
   "source": [
    "import pandas as pd\n",
    "import zipfile\n",
    "import os"
   ]
  },
  {
   "cell_type": "code",
   "execution_count": 2,
   "metadata": {},
   "outputs": [],
   "source": [
    "zip_path = os.path.expanduser('~/Downloads/hpcleanvlarge1.csv.zip')\n",
    "csv_filename = 'hpcleanvlarge1.csv'\n",
    "\n",
    "with zipfile.ZipFile(zip_path, 'r') as zip_file:\n",
    "    with zip_file.open(csv_filename) as csv_file:        \n",
    "        df = pd.read_csv(csv_file)\n"
   ]
  },
  {
   "cell_type": "code",
   "execution_count": 4,
   "metadata": {},
   "outputs": [
    {
     "data": {
      "text/html": [
       "<div>\n",
       "<style scoped>\n",
       "    .dataframe tbody tr th:only-of-type {\n",
       "        vertical-align: middle;\n",
       "    }\n",
       "\n",
       "    .dataframe tbody tr th {\n",
       "        vertical-align: top;\n",
       "    }\n",
       "\n",
       "    .dataframe thead th {\n",
       "        text-align: right;\n",
       "    }\n",
       "</style>\n",
       "<table border=\"1\" class=\"dataframe\">\n",
       "  <thead>\n",
       "    <tr style=\"text-align: right;\">\n",
       "      <th></th>\n",
       "      <th>Chapters</th>\n",
       "      <th>Favs</th>\n",
       "      <th>Follows</th>\n",
       "      <th>Published</th>\n",
       "      <th>Reviews</th>\n",
       "      <th>Updated</th>\n",
       "      <th>Words</th>\n",
       "      <th>author</th>\n",
       "      <th>characters</th>\n",
       "      <th>genre</th>\n",
       "      <th>language</th>\n",
       "      <th>rating</th>\n",
       "      <th>story_link</th>\n",
       "      <th>synopsis</th>\n",
       "      <th>title</th>\n",
       "      <th>published_mmyy</th>\n",
       "      <th>pairing</th>\n",
       "    </tr>\n",
       "  </thead>\n",
       "  <tbody>\n",
       "    <tr>\n",
       "      <th>0</th>\n",
       "      <td>1</td>\n",
       "      <td>2</td>\n",
       "      <td>NaN</td>\n",
       "      <td>12/31/2019</td>\n",
       "      <td>1.0</td>\n",
       "      <td>NaN</td>\n",
       "      <td>6,840</td>\n",
       "      <td>reviews</td>\n",
       "      <td>Sirius B., Remus L., James P., Regulus B.</td>\n",
       "      <td>Angst/Hurt/Comfort</td>\n",
       "      <td>English</td>\n",
       "      <td>T</td>\n",
       "      <td>https://www.fanfiction.net/s/13466909/1/If-You...</td>\n",
       "      <td>Regulus and James aren't happy. They know they...</td>\n",
       "      <td>If You Change Your Mind</td>\n",
       "      <td>12-2019</td>\n",
       "      <td>NaN</td>\n",
       "    </tr>\n",
       "    <tr>\n",
       "      <th>1</th>\n",
       "      <td>1</td>\n",
       "      <td>1</td>\n",
       "      <td>NaN</td>\n",
       "      <td>12/31/2019</td>\n",
       "      <td>NaN</td>\n",
       "      <td>NaN</td>\n",
       "      <td>10,962</td>\n",
       "      <td>JoyI9199</td>\n",
       "      <td>Harry P., Draco M., Narcissa M., Charlie W.</td>\n",
       "      <td>Angst/Drama</td>\n",
       "      <td>English</td>\n",
       "      <td>M</td>\n",
       "      <td>https://www.fanfiction.net/s/13466894/1/Bloody...</td>\n",
       "      <td>When a plot from the Founder's age is revealed...</td>\n",
       "      <td>Bloody Ballgowns</td>\n",
       "      <td>12-2019</td>\n",
       "      <td>NaN</td>\n",
       "    </tr>\n",
       "    <tr>\n",
       "      <th>2</th>\n",
       "      <td>1</td>\n",
       "      <td>3</td>\n",
       "      <td>2</td>\n",
       "      <td>12/31/2019</td>\n",
       "      <td>NaN</td>\n",
       "      <td>NaN</td>\n",
       "      <td>8,592</td>\n",
       "      <td>MoonytheMarauder1</td>\n",
       "      <td>[James P., Regulus B.]</td>\n",
       "      <td>Angst</td>\n",
       "      <td>English</td>\n",
       "      <td>M</td>\n",
       "      <td>https://www.fanfiction.net/s/13466885/1/Nothin...</td>\n",
       "      <td>Regulus Black is supposed to be dead, but he's...</td>\n",
       "      <td>Nothing Left To Do</td>\n",
       "      <td>12-2019</td>\n",
       "      <td>James P., Regulus B.</td>\n",
       "    </tr>\n",
       "    <tr>\n",
       "      <th>3</th>\n",
       "      <td>2</td>\n",
       "      <td>NaN</td>\n",
       "      <td>NaN</td>\n",
       "      <td>12/31/2019</td>\n",
       "      <td>NaN</td>\n",
       "      <td>NaN</td>\n",
       "      <td>7,260</td>\n",
       "      <td>LaviniaKatt</td>\n",
       "      <td>Cedric D.</td>\n",
       "      <td>Romance/Fantasy</td>\n",
       "      <td>English</td>\n",
       "      <td>M</td>\n",
       "      <td>https://www.fanfiction.net/s/13466880/1/Patien...</td>\n",
       "      <td>This is a spin off of Harry Potter taking plac...</td>\n",
       "      <td>Patience is a Virtue</td>\n",
       "      <td>12-2019</td>\n",
       "      <td>NaN</td>\n",
       "    </tr>\n",
       "    <tr>\n",
       "      <th>4</th>\n",
       "      <td>1</td>\n",
       "      <td>4</td>\n",
       "      <td>3</td>\n",
       "      <td>12/31/2019</td>\n",
       "      <td>NaN</td>\n",
       "      <td>NaN</td>\n",
       "      <td>1,529</td>\n",
       "      <td>Rowena-Moon-Moon</td>\n",
       "      <td>NaN</td>\n",
       "      <td>NaN</td>\n",
       "      <td>English</td>\n",
       "      <td>T</td>\n",
       "      <td>https://www.fanfiction.net/s/13466807/1/An-Und...</td>\n",
       "      <td>Harry makes a new discovery and perhaps a few ...</td>\n",
       "      <td>An Understanding</td>\n",
       "      <td>12-2019</td>\n",
       "      <td>NaN</td>\n",
       "    </tr>\n",
       "  </tbody>\n",
       "</table>\n",
       "</div>"
      ],
      "text/plain": [
       "   Chapters Favs Follows    Published  Reviews Updated    Words  \\\n",
       "0         1    2     NaN   12/31/2019      1.0     NaN    6,840   \n",
       "1         1    1     NaN   12/31/2019      NaN     NaN   10,962   \n",
       "2         1    3       2   12/31/2019      NaN     NaN    8,592   \n",
       "3         2  NaN     NaN   12/31/2019      NaN     NaN    7,260   \n",
       "4         1    4       3   12/31/2019      NaN     NaN    1,529   \n",
       "\n",
       "              author                                   characters  \\\n",
       "0            reviews    Sirius B., Remus L., James P., Regulus B.   \n",
       "1           JoyI9199  Harry P., Draco M., Narcissa M., Charlie W.   \n",
       "2  MoonytheMarauder1                       [James P., Regulus B.]   \n",
       "3        LaviniaKatt                                    Cedric D.   \n",
       "4   Rowena-Moon-Moon                                          NaN   \n",
       "\n",
       "                genre language rating  \\\n",
       "0  Angst/Hurt/Comfort  English      T   \n",
       "1         Angst/Drama  English      M   \n",
       "2               Angst  English      M   \n",
       "3     Romance/Fantasy  English      M   \n",
       "4                 NaN  English      T   \n",
       "\n",
       "                                          story_link  \\\n",
       "0  https://www.fanfiction.net/s/13466909/1/If-You...   \n",
       "1  https://www.fanfiction.net/s/13466894/1/Bloody...   \n",
       "2  https://www.fanfiction.net/s/13466885/1/Nothin...   \n",
       "3  https://www.fanfiction.net/s/13466880/1/Patien...   \n",
       "4  https://www.fanfiction.net/s/13466807/1/An-Und...   \n",
       "\n",
       "                                            synopsis                    title  \\\n",
       "0  Regulus and James aren't happy. They know they...  If You Change Your Mind   \n",
       "1  When a plot from the Founder's age is revealed...         Bloody Ballgowns   \n",
       "2  Regulus Black is supposed to be dead, but he's...       Nothing Left To Do   \n",
       "3  This is a spin off of Harry Potter taking plac...     Patience is a Virtue   \n",
       "4  Harry makes a new discovery and perhaps a few ...         An Understanding   \n",
       "\n",
       "  published_mmyy               pairing  \n",
       "0        12-2019                   NaN  \n",
       "1        12-2019                   NaN  \n",
       "2        12-2019  James P., Regulus B.  \n",
       "3        12-2019                   NaN  \n",
       "4        12-2019                   NaN  "
      ]
     },
     "execution_count": 4,
     "metadata": {},
     "output_type": "execute_result"
    }
   ],
   "source": [
    "df.head()"
   ]
  },
  {
   "cell_type": "code",
   "execution_count": 5,
   "metadata": {},
   "outputs": [
    {
     "data": {
      "text/plain": [
       "648493"
      ]
     },
     "execution_count": 5,
     "metadata": {},
     "output_type": "execute_result"
    }
   ],
   "source": [
    "len(df)"
   ]
  },
  {
   "cell_type": "code",
   "execution_count": 6,
   "metadata": {},
   "outputs": [
    {
     "data": {
      "text/plain": [
       "630"
      ]
     },
     "execution_count": 6,
     "metadata": {},
     "output_type": "execute_result"
    }
   ],
   "source": [
    "itdf = df[df.language == 'Italian']\n",
    "len(itdf)"
   ]
  },
  {
   "cell_type": "code",
   "execution_count": 7,
   "metadata": {},
   "outputs": [],
   "source": [
    "itdf.to_csv('/Users/francesco.mambrini/Desktop/fanfic_it.csv')"
   ]
  },
  {
   "cell_type": "markdown",
   "metadata": {},
   "source": [
    "## Model the RDF graph version"
   ]
  },
  {
   "cell_type": "markdown",
   "metadata": {},
   "source": [
    "We would use a very trivial mapping strategy to a set of custom and invented URI (in the http://example.org domain). We are not interested in all columns, and we will leave many of them as data types. Any other linking might be left for a further stage."
   ]
  },
  {
   "cell_type": "markdown",
   "metadata": {},
   "source": [
    "Let's inspect the list of the columns, to see what properties we are interested in."
   ]
  },
  {
   "cell_type": "code",
   "execution_count": 5,
   "metadata": {},
   "outputs": [
    {
     "data": {
      "text/plain": [
       "Index(['Chapters', 'Favs', 'Follows', 'Published', 'Reviews', 'Updated',\n",
       "       'Words', 'author', 'characters', 'genre', 'language', 'rating',\n",
       "       'story_link', 'synopsis', 'title', 'published_mmyy', 'pairing'],\n",
       "      dtype='object')"
      ]
     },
     "execution_count": 5,
     "metadata": {},
     "output_type": "execute_result"
    }
   ],
   "source": [
    "df.columns"
   ]
  },
  {
   "cell_type": "code",
   "execution_count": 6,
   "metadata": {},
   "outputs": [
    {
     "data": {
      "text/html": [
       "<div>\n",
       "<style scoped>\n",
       "    .dataframe tbody tr th:only-of-type {\n",
       "        vertical-align: middle;\n",
       "    }\n",
       "\n",
       "    .dataframe tbody tr th {\n",
       "        vertical-align: top;\n",
       "    }\n",
       "\n",
       "    .dataframe thead th {\n",
       "        text-align: right;\n",
       "    }\n",
       "</style>\n",
       "<table border=\"1\" class=\"dataframe\">\n",
       "  <thead>\n",
       "    <tr style=\"text-align: right;\">\n",
       "      <th></th>\n",
       "      <th>Chapters</th>\n",
       "      <th>Favs</th>\n",
       "      <th>Follows</th>\n",
       "      <th>Published</th>\n",
       "      <th>Reviews</th>\n",
       "      <th>Updated</th>\n",
       "      <th>Words</th>\n",
       "      <th>author</th>\n",
       "      <th>characters</th>\n",
       "      <th>genre</th>\n",
       "      <th>language</th>\n",
       "      <th>rating</th>\n",
       "      <th>story_link</th>\n",
       "      <th>synopsis</th>\n",
       "      <th>title</th>\n",
       "      <th>published_mmyy</th>\n",
       "      <th>pairing</th>\n",
       "    </tr>\n",
       "  </thead>\n",
       "  <tbody>\n",
       "    <tr>\n",
       "      <th>484379</th>\n",
       "      <td>6</td>\n",
       "      <td>22</td>\n",
       "      <td>44</td>\n",
       "      <td>1/26/2008</td>\n",
       "      <td>44.0</td>\n",
       "      <td>6/4/2008</td>\n",
       "      <td>3,418</td>\n",
       "      <td>LuvtoWrite</td>\n",
       "      <td>Hermione G., Ron W.</td>\n",
       "      <td>NaN</td>\n",
       "      <td>English</td>\n",
       "      <td>K+</td>\n",
       "      <td>https://www.fanfiction.net/s/4036064/1/Hermion...</td>\n",
       "      <td>Ron...those...they're my parents!\"</td>\n",
       "      <td>Hermione's Parents</td>\n",
       "      <td>1-2008</td>\n",
       "      <td>Hermione G., Ron W.</td>\n",
       "    </tr>\n",
       "    <tr>\n",
       "      <th>484380</th>\n",
       "      <td>6</td>\n",
       "      <td>22</td>\n",
       "      <td>44</td>\n",
       "      <td>1/26/2008</td>\n",
       "      <td>44.0</td>\n",
       "      <td>6/4/2008</td>\n",
       "      <td>3,418</td>\n",
       "      <td>LuvtoWrite</td>\n",
       "      <td>Hermione G., Ron W.</td>\n",
       "      <td>NaN</td>\n",
       "      <td>English</td>\n",
       "      <td>K+</td>\n",
       "      <td>https://www.fanfiction.net/s/4036064/1/Hermion...</td>\n",
       "      <td>Ron...those...they're my parents!\"</td>\n",
       "      <td>Hermione's Parents</td>\n",
       "      <td>1-2008</td>\n",
       "      <td>Hermione G., Ron W.</td>\n",
       "    </tr>\n",
       "  </tbody>\n",
       "</table>\n",
       "</div>"
      ],
      "text/plain": [
       "        Chapters Favs Follows   Published  Reviews    Updated   Words  \\\n",
       "484379         6   22      44   1/26/2008     44.0   6/4/2008   3,418   \n",
       "484380         6   22      44   1/26/2008     44.0   6/4/2008   3,418   \n",
       "\n",
       "            author           characters genre language rating  \\\n",
       "484379  LuvtoWrite  Hermione G., Ron W.   NaN  English     K+   \n",
       "484380  LuvtoWrite  Hermione G., Ron W.   NaN  English     K+   \n",
       "\n",
       "                                               story_link  \\\n",
       "484379  https://www.fanfiction.net/s/4036064/1/Hermion...   \n",
       "484380  https://www.fanfiction.net/s/4036064/1/Hermion...   \n",
       "\n",
       "                                  synopsis               title published_mmyy  \\\n",
       "484379  Ron...those...they're my parents!\"  Hermione's Parents         1-2008   \n",
       "484380  Ron...those...they're my parents!\"  Hermione's Parents         1-2008   \n",
       "\n",
       "                    pairing  \n",
       "484379  Hermione G., Ron W.  \n",
       "484380  Hermione G., Ron W.  "
      ]
     },
     "execution_count": 6,
     "metadata": {},
     "output_type": "execute_result"
    }
   ],
   "source": [
    "df[df.story_link == 'https://www.fanfiction.net/s/4036064/1/Hermione-s-Parents']"
   ]
  },
  {
   "cell_type": "code",
   "execution_count": 10,
   "metadata": {},
   "outputs": [],
   "source": [
    "from rdflib import Graph, Literal, XSD, URIRef, Namespace\n",
    "from rdflib.namespace import DCTERMS, RDF, RDFS\n"
   ]
  },
  {
   "cell_type": "code",
   "execution_count": 24,
   "metadata": {},
   "outputs": [],
   "source": [
    "a = RDF.type\n",
    "onto = Namespace('http://example.org/HP/ontology/')"
   ]
  },
  {
   "cell_type": "code",
   "execution_count": 9,
   "metadata": {},
   "outputs": [
    {
     "data": {
      "text/plain": [
       "Index(['Chapters', 'Favs', 'Follows', 'Published', 'Reviews', 'Updated',\n",
       "       'Words', 'author', 'characters', 'genre', 'language', 'rating',\n",
       "       'story_link', 'synopsis', 'title', 'published_mmyy', 'pairing'],\n",
       "      dtype='object')"
      ]
     },
     "execution_count": 9,
     "metadata": {},
     "output_type": "execute_result"
    }
   ],
   "source": [
    "df.columns"
   ]
  },
  {
   "cell_type": "code",
   "execution_count": null,
   "metadata": {},
   "outputs": [],
   "source": []
  },
  {
   "cell_type": "code",
   "execution_count": 10,
   "metadata": {},
   "outputs": [
    {
     "name": "stderr",
     "output_type": "stream",
     "text": [
      "10000it [09:03, 18.39it/s]\n"
     ]
    }
   ],
   "source": [
    "from tqdm import tqdm\n",
    "g = Graph()\n",
    "\n",
    "\n",
    "chars = {}\n",
    "couples = {}\n",
    "\n",
    "story = onto.FanFiction\n",
    "for row in tqdm(df.sample(10000).itertuples()):\n",
    "    sbj = URIRef(row.story_link)\n",
    "    if sbj in g.subjects():\n",
    "        continue\n",
    "    chars[row.story_link] = row.characters\n",
    "    couples[row.story_link] = row.pairing\n",
    "\n",
    "    g.add((sbj, a, story))\n",
    "    g.add((sbj, DCTERMS.issued, Literal(row.Published, datatype=XSD.date)))\n",
    "    g.add((sbj, DCTERMS.abstract, Literal(row.synopsis)))\n",
    "    g.add((sbj, DCTERMS.modified, Literal(row.Updated, datatype=XSD.date)))\n",
    "    g.add((sbj, onto.wordCount, Literal(row.Words, datatype=XSD.integer)))\n",
    "    g.add((sbj, onto.genre, Literal(row.genre)))\n",
    "    g.add((sbj, onto.language, Literal(row.language)))\n",
    "    g.add((sbj, onto.rating, Literal(row.rating)))\n",
    "    g.add((sbj, DCTERMS.title, Literal(row.title)))\n"
   ]
  },
  {
   "cell_type": "code",
   "execution_count": 11,
   "metadata": {},
   "outputs": [],
   "source": [
    "g.bind('hp', onto)\n",
    "g.bind('dct', DCTERMS)\n",
    "g.bind('rdf', RDF)"
   ]
  },
  {
   "cell_type": "code",
   "execution_count": 12,
   "metadata": {},
   "outputs": [
    {
     "data": {
      "text/plain": [
       "<Graph identifier=Nc81f1fc994464e7abea1325017cde39a (<class 'rdflib.graph.Graph'>)>"
      ]
     },
     "execution_count": 12,
     "metadata": {},
     "output_type": "execute_result"
    }
   ],
   "source": [
    "g.serialize(destination='/Users/francesco.mambrini/Desktop/hpfanfic_selection.ttl', format='turtle')"
   ]
  },
  {
   "cell_type": "code",
   "execution_count": 25,
   "metadata": {},
   "outputs": [
    {
     "data": {
      "text/plain": [
       "False"
      ]
     },
     "execution_count": 25,
     "metadata": {},
     "output_type": "execute_result"
    }
   ],
   "source": [
    "import numpy as np\n",
    "chars['https://www.fanfiction.net/s/10001163/1/Of-Purebloods-Mudbloods-and-Loyalty'] is np.nan"
   ]
  },
  {
   "cell_type": "code",
   "execution_count": 23,
   "metadata": {},
   "outputs": [
    {
     "data": {
      "text/plain": [
       "True"
      ]
     },
     "execution_count": 23,
     "metadata": {},
     "output_type": "execute_result"
    }
   ],
   "source": [
    "couples['https://www.fanfiction.net/s/10001163/1/Of-Purebloods-Mudbloods-and-Loyalty'] is np.nan"
   ]
  },
  {
   "cell_type": "code",
   "execution_count": 30,
   "metadata": {},
   "outputs": [
    {
     "data": {
      "text/plain": [
       "'Draco M., Hermione G., Voldemort, Harry P.'"
      ]
     },
     "execution_count": 30,
     "metadata": {},
     "output_type": "execute_result"
    }
   ],
   "source": [
    "chars['https://www.fanfiction.net/s/10001163/1/Of-Purebloods-Mudbloods-and-Loyalty']"
   ]
  },
  {
   "cell_type": "code",
   "execution_count": 29,
   "metadata": {},
   "outputs": [],
   "source": [
    "with open('/Users/francesco.mambrini/Desktop/couples.tsv', 'w') as out:\n",
    "    out.write('Story\\tCouple\\n')\n",
    "    for st, coup in couples.items():\n",
    "        if coup is not np.nan:\n",
    "            out.write(f'{st}\\t{coup}\\n')\n",
    "\n",
    "with open('/Users/francesco.mambrini/Desktop/characters.tsv', 'w') as out:\n",
    "    out.write('Story\\tCharacter\\n')\n",
    "    for st, ch in chars.items():\n",
    "        if coup is not np.nan:\n",
    "            out.write(f'{st}\\t{coup}\\n')"
   ]
  },
  {
   "cell_type": "code",
   "execution_count": 17,
   "metadata": {},
   "outputs": [],
   "source": [
    "g = Graph()"
   ]
  },
  {
   "cell_type": "code",
   "execution_count": 18,
   "metadata": {},
   "outputs": [
    {
     "data": {
      "text/plain": [
       "<Graph identifier=Nd60a707e18304a91b18cbe52229941f3 (<class 'rdflib.graph.Graph'>)>"
      ]
     },
     "execution_count": 18,
     "metadata": {},
     "output_type": "execute_result"
    }
   ],
   "source": [
    "g.parse('/Users/francesco.mambrini/Downloads/Italian-Fanfiction.ttl')"
   ]
  },
  {
   "cell_type": "code",
   "execution_count": 19,
   "metadata": {},
   "outputs": [],
   "source": [
    "sbs = [s for s in g.subjects()]\n",
    "preds = [p for p in g.predicates()]"
   ]
  },
  {
   "cell_type": "code",
   "execution_count": 21,
   "metadata": {},
   "outputs": [],
   "source": [
    "g.bind('hp', 'http://example.org/HP/ontology/')\n",
    "g.bind('dct', DCTERMS)\n",
    "g.bind('rdf', RDF)\n",
    "g.bind('rdfs', RDFS)"
   ]
  },
  {
   "cell_type": "code",
   "execution_count": 25,
   "metadata": {},
   "outputs": [],
   "source": [
    "hp = Namespace('http://example.org/HP/ontology/')\n",
    "a = RDF.type"
   ]
  },
  {
   "cell_type": "code",
   "execution_count": 23,
   "metadata": {},
   "outputs": [
    {
     "data": {
      "text/plain": [
       "False"
      ]
     },
     "execution_count": 23,
     "metadata": {},
     "output_type": "execute_result"
    }
   ],
   "source": [
    "sbs[0].startswith('https://www.fanfiction')"
   ]
  },
  {
   "cell_type": "code",
   "execution_count": 26,
   "metadata": {},
   "outputs": [],
   "source": [
    "for s in g.subjects():\n",
    "    if s.startswith('https://www.fanfiction'):\n",
    "        g.add((s, a, hp.FanfictionNarrative))"
   ]
  },
  {
   "cell_type": "code",
   "execution_count": 27,
   "metadata": {},
   "outputs": [],
   "source": [
    "chrs = [c for c in g.objects(predicate=hp.hasCharacter)]"
   ]
  },
  {
   "cell_type": "code",
   "execution_count": 30,
   "metadata": {},
   "outputs": [],
   "source": [
    "for c in chrs:\n",
    "    g.add((c, a, hp.Character))"
   ]
  },
  {
   "cell_type": "code",
   "execution_count": 43,
   "metadata": {},
   "outputs": [],
   "source": [
    "for story in itdf.itertuples():\n",
    "     s = URIRef(story.story_link)\n",
    "     if s in sbs:\n",
    "          g.add((s, hp.rating, Literal(story.rating)))"
   ]
  },
  {
   "cell_type": "code",
   "execution_count": 44,
   "metadata": {},
   "outputs": [
    {
     "data": {
      "text/plain": [
       "<Graph identifier=Nd60a707e18304a91b18cbe52229941f3 (<class 'rdflib.graph.Graph'>)>"
      ]
     },
     "execution_count": 44,
     "metadata": {},
     "output_type": "execute_result"
    }
   ],
   "source": [
    "g.serialize(destination='/Users/francesco.mambrini/Desktop/italian_fanfiction.ttl', format='turtle')"
   ]
  },
  {
   "cell_type": "code",
   "execution_count": null,
   "metadata": {},
   "outputs": [],
   "source": []
  }
 ],
 "metadata": {
  "kernelspec": {
   "display_name": "lila-kernel",
   "language": "python",
   "name": "lila-kernel"
  },
  "language_info": {
   "codemirror_mode": {
    "name": "ipython",
    "version": 3
   },
   "file_extension": ".py",
   "mimetype": "text/x-python",
   "name": "python",
   "nbconvert_exporter": "python",
   "pygments_lexer": "ipython3",
   "version": "3.9.7"
  }
 },
 "nbformat": 4,
 "nbformat_minor": 2
}
