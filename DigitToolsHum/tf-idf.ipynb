{
 "cells": [
  {
   "cell_type": "code",
   "execution_count": 1,
   "metadata": {},
   "outputs": [],
   "source": [
    "import os\n",
    "from glob import glob\n",
    "from sklearn.feature_extraction.text import TfidfVectorizer\n",
    "from nltk.corpus.reader import PlaintextCorpusReader\n",
    "from nltk.corpus import stopwords\n",
    "import pandas as pd"
   ]
  },
  {
   "cell_type": "code",
   "execution_count": 2,
   "metadata": {},
   "outputs": [],
   "source": [
    "from matplotlib import pyplot as plt"
   ]
  },
  {
   "cell_type": "code",
   "execution_count": 3,
   "metadata": {},
   "outputs": [],
   "source": [
    "en_stopwords = stopwords.words('english')"
   ]
  },
  {
   "cell_type": "code",
   "execution_count": 4,
   "metadata": {},
   "outputs": [
    {
     "data": {
      "text/plain": [
       "True"
      ]
     },
     "execution_count": 4,
     "metadata": {},
     "output_type": "execute_result"
    }
   ],
   "source": [
    "data_dir = os.path.expanduser('/Users/francesco.mambrini/Documents/sync/data/corpora/hp/cleared/')\n",
    "os.path.isdir(data_dir)"
   ]
  },
  {
   "cell_type": "code",
   "execution_count": 5,
   "metadata": {},
   "outputs": [],
   "source": [
    "chilit = PlaintextCorpusReader(root=data_dir, fileids='.*\\.txt')"
   ]
  },
  {
   "cell_type": "code",
   "execution_count": 6,
   "metadata": {},
   "outputs": [],
   "source": [
    "flist = chilit.fileids()"
   ]
  },
  {
   "cell_type": "code",
   "execution_count": 7,
   "metadata": {},
   "outputs": [
    {
     "name": "stdout",
     "output_type": "stream",
     "text": [
      "THE BOY WHO LIVED \n",
      "\n",
      "Mr. and Mrs. Dursley, of number four, Privet Drive, \n",
      "were proud to say that they were perfectly normal, \n",
      "thank you very much. They were the last people you’d \n",
      "expect to be involved in anything strange or \n",
      "mysterious, because they just didn’t hold with such \n",
      "nonsense. \n",
      "\n",
      "Mr. Dursley was the director of a firm called \n",
      "Grunnings, which made drills. He was a big, beefy \n",
      "man with hardly any neck, although he did have a \n",
      "very large mustache. Mrs. Dursley was thin and \n",
      "blonde and had\n"
     ]
    }
   ],
   "source": [
    "print(chilit.raw(fileids=flist[0])[:500])"
   ]
  },
  {
   "cell_type": "code",
   "execution_count": 8,
   "metadata": {},
   "outputs": [
    {
     "data": {
      "text/plain": [
       "['to',\n",
       " 'say',\n",
       " 'that',\n",
       " 'they',\n",
       " 'were',\n",
       " 'perfectly',\n",
       " 'normal',\n",
       " ',',\n",
       " 'thank',\n",
       " 'you',\n",
       " 'very',\n",
       " 'much',\n",
       " '.',\n",
       " 'They',\n",
       " 'were',\n",
       " 'the',\n",
       " 'last',\n",
       " 'people',\n",
       " 'you',\n",
       " '’',\n",
       " 'd',\n",
       " 'expect',\n",
       " 'to',\n",
       " 'be',\n",
       " 'involved',\n",
       " 'in',\n",
       " 'anything',\n",
       " 'strange',\n",
       " 'or',\n",
       " 'mysterious']"
      ]
     },
     "execution_count": 8,
     "metadata": {},
     "output_type": "execute_result"
    }
   ],
   "source": [
    "words = chilit.words(fileids=flist[0])\n",
    "words[20:50]"
   ]
  },
  {
   "cell_type": "code",
   "execution_count": 9,
   "metadata": {},
   "outputs": [],
   "source": [
    "preproc_texts = [chilit.raw(fileids=d) for d in flist]"
   ]
  },
  {
   "cell_type": "code",
   "execution_count": 10,
   "metadata": {},
   "outputs": [],
   "source": [
    "vectorizer = TfidfVectorizer()"
   ]
  },
  {
   "cell_type": "code",
   "execution_count": 11,
   "metadata": {},
   "outputs": [],
   "source": [
    "vectors = vectorizer.fit_transform(preproc_texts)"
   ]
  },
  {
   "cell_type": "code",
   "execution_count": 12,
   "metadata": {},
   "outputs": [
    {
     "name": "stderr",
     "output_type": "stream",
     "text": [
      "/opt/homebrew/Caskroom/miniforge/base/envs/data/lib/python3.10/site-packages/sklearn/utils/deprecation.py:87: FutureWarning: Function get_feature_names is deprecated; get_feature_names is deprecated in 1.0 and will be removed in 1.2. Please use get_feature_names_out instead.\n",
      "  warnings.warn(msg, category=FutureWarning)\n"
     ]
    }
   ],
   "source": [
    "feature_names = vectorizer.get_feature_names()"
   ]
  },
  {
   "cell_type": "code",
   "execution_count": 13,
   "metadata": {},
   "outputs": [],
   "source": [
    "dense = vectors.todense()\n",
    "denselist = dense.tolist()\n",
    "df = pd.DataFrame(denselist, columns=feature_names, index=flist)"
   ]
  },
  {
   "cell_type": "code",
   "execution_count": 14,
   "metadata": {},
   "outputs": [
    {
     "data": {
      "text/html": [
       "<div>\n",
       "<style scoped>\n",
       "    .dataframe tbody tr th:only-of-type {\n",
       "        vertical-align: middle;\n",
       "    }\n",
       "\n",
       "    .dataframe tbody tr th {\n",
       "        vertical-align: top;\n",
       "    }\n",
       "\n",
       "    .dataframe thead th {\n",
       "        text-align: right;\n",
       "    }\n",
       "</style>\n",
       "<table border=\"1\" class=\"dataframe\">\n",
       "  <thead>\n",
       "    <tr style=\"text-align: right;\">\n",
       "      <th></th>\n",
       "      <th>01</th>\n",
       "      <th>10</th>\n",
       "      <th>11</th>\n",
       "      <th>111</th>\n",
       "      <th>12</th>\n",
       "      <th>125</th>\n",
       "      <th>1289</th>\n",
       "      <th>1296</th>\n",
       "      <th>12th</th>\n",
       "      <th>13</th>\n",
       "      <th>...</th>\n",
       "      <th>zis</th>\n",
       "      <th>zograf</th>\n",
       "      <th>zombie</th>\n",
       "      <th>zone</th>\n",
       "      <th>zonko</th>\n",
       "      <th>zoo</th>\n",
       "      <th>zoological</th>\n",
       "      <th>zoom</th>\n",
       "      <th>zoomed</th>\n",
       "      <th>zooming</th>\n",
       "    </tr>\n",
       "  </thead>\n",
       "  <tbody>\n",
       "    <tr>\n",
       "      <th>Book1.txt</th>\n",
       "      <td>0.0</td>\n",
       "      <td>0.000156</td>\n",
       "      <td>0.000623</td>\n",
       "      <td>0.000000</td>\n",
       "      <td>0.000000</td>\n",
       "      <td>0.000000</td>\n",
       "      <td>0.000000</td>\n",
       "      <td>0.000000</td>\n",
       "      <td>0.000000</td>\n",
       "      <td>0.000000</td>\n",
       "      <td>...</td>\n",
       "      <td>0.000000</td>\n",
       "      <td>0.000000</td>\n",
       "      <td>0.000617</td>\n",
       "      <td>0.000000</td>\n",
       "      <td>0.000000</td>\n",
       "      <td>0.002158</td>\n",
       "      <td>0.000000</td>\n",
       "      <td>0.000229</td>\n",
       "      <td>0.000156</td>\n",
       "      <td>0.000353</td>\n",
       "    </tr>\n",
       "    <tr>\n",
       "      <th>Book2.txt</th>\n",
       "      <td>0.0</td>\n",
       "      <td>0.000140</td>\n",
       "      <td>0.000421</td>\n",
       "      <td>0.000000</td>\n",
       "      <td>0.000278</td>\n",
       "      <td>0.000000</td>\n",
       "      <td>0.000335</td>\n",
       "      <td>0.000000</td>\n",
       "      <td>0.000000</td>\n",
       "      <td>0.000237</td>\n",
       "      <td>...</td>\n",
       "      <td>0.000000</td>\n",
       "      <td>0.000000</td>\n",
       "      <td>0.000000</td>\n",
       "      <td>0.000000</td>\n",
       "      <td>0.000000</td>\n",
       "      <td>0.000555</td>\n",
       "      <td>0.000000</td>\n",
       "      <td>0.000000</td>\n",
       "      <td>0.000280</td>\n",
       "      <td>0.000000</td>\n",
       "    </tr>\n",
       "    <tr>\n",
       "      <th>Book3.txt</th>\n",
       "      <td>0.0</td>\n",
       "      <td>0.000111</td>\n",
       "      <td>0.000556</td>\n",
       "      <td>0.000429</td>\n",
       "      <td>0.000000</td>\n",
       "      <td>0.000265</td>\n",
       "      <td>0.000000</td>\n",
       "      <td>0.000265</td>\n",
       "      <td>0.000000</td>\n",
       "      <td>0.000000</td>\n",
       "      <td>...</td>\n",
       "      <td>0.000000</td>\n",
       "      <td>0.000000</td>\n",
       "      <td>0.000220</td>\n",
       "      <td>0.000000</td>\n",
       "      <td>0.001798</td>\n",
       "      <td>0.000000</td>\n",
       "      <td>0.000000</td>\n",
       "      <td>0.000000</td>\n",
       "      <td>0.001001</td>\n",
       "      <td>0.000378</td>\n",
       "    </tr>\n",
       "    <tr>\n",
       "      <th>Book4.txt</th>\n",
       "      <td>0.0</td>\n",
       "      <td>0.000062</td>\n",
       "      <td>0.000309</td>\n",
       "      <td>0.000159</td>\n",
       "      <td>0.000000</td>\n",
       "      <td>0.000000</td>\n",
       "      <td>0.000000</td>\n",
       "      <td>0.000000</td>\n",
       "      <td>0.000000</td>\n",
       "      <td>0.000000</td>\n",
       "      <td>...</td>\n",
       "      <td>0.000858</td>\n",
       "      <td>0.000295</td>\n",
       "      <td>0.000000</td>\n",
       "      <td>0.000000</td>\n",
       "      <td>0.000091</td>\n",
       "      <td>0.000000</td>\n",
       "      <td>0.000148</td>\n",
       "      <td>0.000364</td>\n",
       "      <td>0.000557</td>\n",
       "      <td>0.000842</td>\n",
       "    </tr>\n",
       "    <tr>\n",
       "      <th>Book5.txt</th>\n",
       "      <td>0.0</td>\n",
       "      <td>0.000047</td>\n",
       "      <td>0.000236</td>\n",
       "      <td>0.000243</td>\n",
       "      <td>0.000000</td>\n",
       "      <td>0.000000</td>\n",
       "      <td>0.000000</td>\n",
       "      <td>0.000000</td>\n",
       "      <td>0.000225</td>\n",
       "      <td>0.000080</td>\n",
       "      <td>...</td>\n",
       "      <td>0.000000</td>\n",
       "      <td>0.000000</td>\n",
       "      <td>0.000000</td>\n",
       "      <td>0.000112</td>\n",
       "      <td>0.000208</td>\n",
       "      <td>0.000000</td>\n",
       "      <td>0.000000</td>\n",
       "      <td>0.000139</td>\n",
       "      <td>0.001084</td>\n",
       "      <td>0.000374</td>\n",
       "    </tr>\n",
       "  </tbody>\n",
       "</table>\n",
       "<p>5 rows × 20936 columns</p>\n",
       "</div>"
      ],
      "text/plain": [
       "            01        10        11       111        12       125      1289  \\\n",
       "Book1.txt  0.0  0.000156  0.000623  0.000000  0.000000  0.000000  0.000000   \n",
       "Book2.txt  0.0  0.000140  0.000421  0.000000  0.000278  0.000000  0.000335   \n",
       "Book3.txt  0.0  0.000111  0.000556  0.000429  0.000000  0.000265  0.000000   \n",
       "Book4.txt  0.0  0.000062  0.000309  0.000159  0.000000  0.000000  0.000000   \n",
       "Book5.txt  0.0  0.000047  0.000236  0.000243  0.000000  0.000000  0.000000   \n",
       "\n",
       "               1296      12th        13  ...       zis    zograf    zombie  \\\n",
       "Book1.txt  0.000000  0.000000  0.000000  ...  0.000000  0.000000  0.000617   \n",
       "Book2.txt  0.000000  0.000000  0.000237  ...  0.000000  0.000000  0.000000   \n",
       "Book3.txt  0.000265  0.000000  0.000000  ...  0.000000  0.000000  0.000220   \n",
       "Book4.txt  0.000000  0.000000  0.000000  ...  0.000858  0.000295  0.000000   \n",
       "Book5.txt  0.000000  0.000225  0.000080  ...  0.000000  0.000000  0.000000   \n",
       "\n",
       "               zone     zonko       zoo  zoological      zoom    zoomed  \\\n",
       "Book1.txt  0.000000  0.000000  0.002158    0.000000  0.000229  0.000156   \n",
       "Book2.txt  0.000000  0.000000  0.000555    0.000000  0.000000  0.000280   \n",
       "Book3.txt  0.000000  0.001798  0.000000    0.000000  0.000000  0.001001   \n",
       "Book4.txt  0.000000  0.000091  0.000000    0.000148  0.000364  0.000557   \n",
       "Book5.txt  0.000112  0.000208  0.000000    0.000000  0.000139  0.001084   \n",
       "\n",
       "            zooming  \n",
       "Book1.txt  0.000353  \n",
       "Book2.txt  0.000000  \n",
       "Book3.txt  0.000378  \n",
       "Book4.txt  0.000842  \n",
       "Book5.txt  0.000374  \n",
       "\n",
       "[5 rows x 20936 columns]"
      ]
     },
     "execution_count": 14,
     "metadata": {},
     "output_type": "execute_result"
    }
   ],
   "source": [
    "df.head()"
   ]
  },
  {
   "cell_type": "code",
   "execution_count": 15,
   "metadata": {},
   "outputs": [
    {
     "data": {
      "text/plain": [
       "0.5644807861815424"
      ]
     },
     "execution_count": 15,
     "metadata": {},
     "output_type": "execute_result"
    }
   ],
   "source": [
    "df.loc['Book1.txt'].max()"
   ]
  },
  {
   "cell_type": "code",
   "execution_count": 16,
   "metadata": {},
   "outputs": [
    {
     "data": {
      "text/plain": [
       "Book1.txt    0.010739\n",
       "Book2.txt    0.015700\n",
       "Book3.txt    0.007559\n",
       "Book4.txt    0.006684\n",
       "Book5.txt    0.005562\n",
       "Book6.txt    0.008161\n",
       "Book7.txt    0.003735\n",
       "Name: school, dtype: float64"
      ]
     },
     "execution_count": 16,
     "metadata": {},
     "output_type": "execute_result"
    }
   ],
   "source": [
    "df['school']"
   ]
  },
  {
   "cell_type": "code",
   "execution_count": 39,
   "metadata": {},
   "outputs": [
    {
     "data": {
      "image/png": "[encoded data removed]",
      "text/plain": [
       "<Figure size 864x576 with 1 Axes>"
      ]
     },
     "metadata": {
      "needs_background": "light"
     },
     "output_type": "display_data"
    }
   ],
   "source": [
    "import matplotlib.pyplot as plt\n",
    "import numpy as np\n",
    "\n",
    "plt.figure(figsize=(12, 8))\n",
    "\n",
    "# Sample data\n",
    "categories = ['Book 1', 'Book 2', 'Book 3', 'Book 4', 'Book 5', 'Book 6', 'Book 7']\n",
    "values1 = df['school']\n",
    "values2 = df['death']\n",
    "\n",
    "# Create an array of x positions for the bars\n",
    "x = np.arange(len(categories))\n",
    "\n",
    "# Define the width of the bars\n",
    "bar_width = 0.35\n",
    "\n",
    "# Create the bar plot for the first set of data\n",
    "plt.bar(x - bar_width/2, values1, bar_width, label='school', color='orange')\n",
    "\n",
    "# Create the bar plot for the second set of data\n",
    "plt.bar(x + bar_width/2, values2, bar_width, label='death', color='midnightblue')\n",
    "\n",
    "plt.xlabel('Books in the series')\n",
    "plt.ylabel('Weighted Frequency')\n",
    "\n",
    "# Set the x-axis ticks and labels\n",
    "plt.xticks(x, categories)\n",
    "\n",
    "# Add a legend\n",
    "plt.legend()\n",
    "\n",
    "# Add a title\n",
    "plt.title('Weighted Frequency (TF/IDF) of \"school\" and \"death\" in the 7 novels')\n",
    "\n",
    "\n",
    "# Show the plot\n",
    "plt.show()\n"
   ]
  },
  {
   "cell_type": "code",
   "execution_count": 29,
   "metadata": {},
   "outputs": [
    {
     "data": {
      "image/png": "[encoded data removed]",
      "text/plain": [
       "<Figure size 720x720 with 1 Axes>"
      ]
     },
     "metadata": {
      "needs_background": "light"
     },
     "output_type": "display_data"
    }
   ],
   "source": [
    "df['death'].plot(kind='bar', color='midnightblue')\n",
    "\n",
    "# Add labels and title\n",
    "plt.xlabel('Books in the series')\n",
    "plt.ylabel('Weighted Frequency')\n",
    "plt.title('Weighted Frequency (TF/IDF) of word \"death\" in the 7 novels')\n",
    "\n",
    "# Show the plot\n",
    "plt.show()\n"
   ]
  },
  {
   "cell_type": "code",
   "execution_count": 18,
   "metadata": {},
   "outputs": [
    {
     "data": {
      "text/plain": [
       "harry         0.199295\n",
       "said          0.174741\n",
       "dumbledore    0.074020\n",
       "ron           0.062781\n",
       "slughorn      0.056720\n",
       "hermione      0.049681\n",
       "could         0.034504\n",
       "would         0.032643\n",
       "back          0.030281\n",
       "well          0.028706\n",
       "know          0.027274\n",
       "snape         0.027060\n",
       "malfoy        0.026630\n",
       "like          0.025270\n",
       "think         0.024196\n",
       "looked        0.023838\n",
       "time          0.022764\n",
       "see           0.022693\n",
       "though        0.021619\n",
       "around        0.021333\n",
       "Name: Book6.txt, dtype: float64"
      ]
     },
     "execution_count": 18,
     "metadata": {},
     "output_type": "execute_result"
    }
   ],
   "source": [
    "bk1 = df.loc['Book6.txt']\n",
    "bk1[~bk1.index.isin(stopwords.words())].nlargest(20)"
   ]
  },
  {
   "cell_type": "code",
   "execution_count": 19,
   "metadata": {},
   "outputs": [
    {
     "ename": "KeyError",
     "evalue": "'006'",
     "output_type": "error",
     "traceback": [
      "\u001b[0;31m---------------------------------------------------------------------------\u001b[0m",
      "\u001b[0;31mKeyError\u001b[0m                                  Traceback (most recent call last)",
      "File \u001b[0;32m/opt/homebrew/Caskroom/miniforge/base/envs/data/lib/python3.10/site-packages/pandas/core/indexes/base.py:3621\u001b[0m, in \u001b[0;36mIndex.get_loc\u001b[0;34m(self, key, method, tolerance)\u001b[0m\n\u001b[1;32m   3620\u001b[0m \u001b[39mtry\u001b[39;00m:\n\u001b[0;32m-> 3621\u001b[0m     \u001b[39mreturn\u001b[39;00m \u001b[39mself\u001b[39;49m\u001b[39m.\u001b[39;49m_engine\u001b[39m.\u001b[39;49mget_loc(casted_key)\n\u001b[1;32m   3622\u001b[0m \u001b[39mexcept\u001b[39;00m \u001b[39mKeyError\u001b[39;00m \u001b[39mas\u001b[39;00m err:\n",
      "File \u001b[0;32m/opt/homebrew/Caskroom/miniforge/base/envs/data/lib/python3.10/site-packages/pandas/_libs/index.pyx:136\u001b[0m, in \u001b[0;36mpandas._libs.index.IndexEngine.get_loc\u001b[0;34m()\u001b[0m\n",
      "File \u001b[0;32m/opt/homebrew/Caskroom/miniforge/base/envs/data/lib/python3.10/site-packages/pandas/_libs/index.pyx:163\u001b[0m, in \u001b[0;36mpandas._libs.index.IndexEngine.get_loc\u001b[0;34m()\u001b[0m\n",
      "File \u001b[0;32mpandas/_libs/hashtable_class_helper.pxi:5198\u001b[0m, in \u001b[0;36mpandas._libs.hashtable.PyObjectHashTable.get_item\u001b[0;34m()\u001b[0m\n",
      "File \u001b[0;32mpandas/_libs/hashtable_class_helper.pxi:5206\u001b[0m, in \u001b[0;36mpandas._libs.hashtable.PyObjectHashTable.get_item\u001b[0;34m()\u001b[0m\n",
      "\u001b[0;31mKeyError\u001b[0m: '006'",
      "\nThe above exception was the direct cause of the following exception:\n",
      "\u001b[0;31mKeyError\u001b[0m                                  Traceback (most recent call last)",
      "\u001b[1;32m/Users/francesco.mambrini/Documents/sync/sync_scripta/corsi_seminari/myclasses/DigitToolsHum/tf-idf.ipynb Cella 19\u001b[0m line \u001b[0;36m<module>\u001b[0;34m\u001b[0m\n\u001b[0;32m----> <a href='vscode-notebook-cell:/Users/francesco.mambrini/Documents/sync/sync_scripta/corsi_seminari/myclasses/DigitToolsHum/tf-idf.ipynb#X23sZmlsZQ%3D%3D?line=0'>1</a>\u001b[0m df[df[\u001b[39m'\u001b[39;49m\u001b[39m006\u001b[39;49m\u001b[39m'\u001b[39;49m]\u001b[39m>\u001b[39m \u001b[39m0\u001b[39m][\u001b[39m'\u001b[39m\u001b[39m783\u001b[39m\u001b[39m'\u001b[39m]\n",
      "File \u001b[0;32m/opt/homebrew/Caskroom/miniforge/base/envs/data/lib/python3.10/site-packages/pandas/core/frame.py:3506\u001b[0m, in \u001b[0;36mDataFrame.__getitem__\u001b[0;34m(self, key)\u001b[0m\n\u001b[1;32m   3504\u001b[0m \u001b[39mif\u001b[39;00m \u001b[39mself\u001b[39m\u001b[39m.\u001b[39mcolumns\u001b[39m.\u001b[39mnlevels \u001b[39m>\u001b[39m \u001b[39m1\u001b[39m:\n\u001b[1;32m   3505\u001b[0m     \u001b[39mreturn\u001b[39;00m \u001b[39mself\u001b[39m\u001b[39m.\u001b[39m_getitem_multilevel(key)\n\u001b[0;32m-> 3506\u001b[0m indexer \u001b[39m=\u001b[39m \u001b[39mself\u001b[39;49m\u001b[39m.\u001b[39;49mcolumns\u001b[39m.\u001b[39;49mget_loc(key)\n\u001b[1;32m   3507\u001b[0m \u001b[39mif\u001b[39;00m is_integer(indexer):\n\u001b[1;32m   3508\u001b[0m     indexer \u001b[39m=\u001b[39m [indexer]\n",
      "File \u001b[0;32m/opt/homebrew/Caskroom/miniforge/base/envs/data/lib/python3.10/site-packages/pandas/core/indexes/base.py:3623\u001b[0m, in \u001b[0;36mIndex.get_loc\u001b[0;34m(self, key, method, tolerance)\u001b[0m\n\u001b[1;32m   3621\u001b[0m     \u001b[39mreturn\u001b[39;00m \u001b[39mself\u001b[39m\u001b[39m.\u001b[39m_engine\u001b[39m.\u001b[39mget_loc(casted_key)\n\u001b[1;32m   3622\u001b[0m \u001b[39mexcept\u001b[39;00m \u001b[39mKeyError\u001b[39;00m \u001b[39mas\u001b[39;00m err:\n\u001b[0;32m-> 3623\u001b[0m     \u001b[39mraise\u001b[39;00m \u001b[39mKeyError\u001b[39;00m(key) \u001b[39mfrom\u001b[39;00m \u001b[39merr\u001b[39;00m\n\u001b[1;32m   3624\u001b[0m \u001b[39mexcept\u001b[39;00m \u001b[39mTypeError\u001b[39;00m:\n\u001b[1;32m   3625\u001b[0m     \u001b[39m# If we have a listlike key, _check_indexing_error will raise\u001b[39;00m\n\u001b[1;32m   3626\u001b[0m     \u001b[39m#  InvalidIndexError. Otherwise we fall through and re-raise\u001b[39;00m\n\u001b[1;32m   3627\u001b[0m     \u001b[39m#  the TypeError.\u001b[39;00m\n\u001b[1;32m   3628\u001b[0m     \u001b[39mself\u001b[39m\u001b[39m.\u001b[39m_check_indexing_error(key)\n",
      "\u001b[0;31mKeyError\u001b[0m: '006'"
     ]
    }
   ],
   "source": [
    "df[df['006']> 0]['783']"
   ]
  },
  {
   "cell_type": "code",
   "execution_count": 20,
   "metadata": {},
   "outputs": [
    {
     "data": {
      "text/plain": [
       "(7, 20936)"
      ]
     },
     "execution_count": 20,
     "metadata": {},
     "output_type": "execute_result"
    }
   ],
   "source": [
    "df.shape"
   ]
  },
  {
   "attachments": {},
   "cell_type": "markdown",
   "metadata": {},
   "source": [
    "As we normalized per `l2` during the TF-IDF vectorization, we can just get the cosine distance with a simple dot product between each of the document vectors."
   ]
  },
  {
   "cell_type": "code",
   "execution_count": 21,
   "metadata": {},
   "outputs": [
    {
     "data": {
      "text/html": [
       "<div>\n",
       "<style scoped>\n",
       "    .dataframe tbody tr th:only-of-type {\n",
       "        vertical-align: middle;\n",
       "    }\n",
       "\n",
       "    .dataframe tbody tr th {\n",
       "        vertical-align: top;\n",
       "    }\n",
       "\n",
       "    .dataframe thead th {\n",
       "        text-align: right;\n",
       "    }\n",
       "</style>\n",
       "<table border=\"1\" class=\"dataframe\">\n",
       "  <thead>\n",
       "    <tr style=\"text-align: right;\">\n",
       "      <th></th>\n",
       "      <th>Book1.txt</th>\n",
       "      <th>Book2.txt</th>\n",
       "      <th>Book3.txt</th>\n",
       "      <th>Book4.txt</th>\n",
       "      <th>Book5.txt</th>\n",
       "      <th>Book6.txt</th>\n",
       "      <th>Book7.txt</th>\n",
       "    </tr>\n",
       "  </thead>\n",
       "  <tbody>\n",
       "    <tr>\n",
       "      <th>Book1.txt</th>\n",
       "      <td>1.000000</td>\n",
       "      <td>0.986449</td>\n",
       "      <td>0.986676</td>\n",
       "      <td>0.985481</td>\n",
       "      <td>0.982069</td>\n",
       "      <td>0.979316</td>\n",
       "      <td>0.982407</td>\n",
       "    </tr>\n",
       "    <tr>\n",
       "      <th>Book2.txt</th>\n",
       "      <td>0.986449</td>\n",
       "      <td>1.000000</td>\n",
       "      <td>0.989689</td>\n",
       "      <td>0.988572</td>\n",
       "      <td>0.986002</td>\n",
       "      <td>0.982192</td>\n",
       "      <td>0.983639</td>\n",
       "    </tr>\n",
       "    <tr>\n",
       "      <th>Book3.txt</th>\n",
       "      <td>0.986676</td>\n",
       "      <td>0.989689</td>\n",
       "      <td>1.000000</td>\n",
       "      <td>0.988217</td>\n",
       "      <td>0.987385</td>\n",
       "      <td>0.981845</td>\n",
       "      <td>0.983797</td>\n",
       "    </tr>\n",
       "    <tr>\n",
       "      <th>Book4.txt</th>\n",
       "      <td>0.985481</td>\n",
       "      <td>0.988572</td>\n",
       "      <td>0.988217</td>\n",
       "      <td>1.000000</td>\n",
       "      <td>0.990858</td>\n",
       "      <td>0.985848</td>\n",
       "      <td>0.988657</td>\n",
       "    </tr>\n",
       "    <tr>\n",
       "      <th>Book5.txt</th>\n",
       "      <td>0.982069</td>\n",
       "      <td>0.986002</td>\n",
       "      <td>0.987385</td>\n",
       "      <td>0.990858</td>\n",
       "      <td>1.000000</td>\n",
       "      <td>0.990884</td>\n",
       "      <td>0.988015</td>\n",
       "    </tr>\n",
       "  </tbody>\n",
       "</table>\n",
       "</div>"
      ],
      "text/plain": [
       "           Book1.txt  Book2.txt  Book3.txt  Book4.txt  Book5.txt  Book6.txt  \\\n",
       "Book1.txt   1.000000   0.986449   0.986676   0.985481   0.982069   0.979316   \n",
       "Book2.txt   0.986449   1.000000   0.989689   0.988572   0.986002   0.982192   \n",
       "Book3.txt   0.986676   0.989689   1.000000   0.988217   0.987385   0.981845   \n",
       "Book4.txt   0.985481   0.988572   0.988217   1.000000   0.990858   0.985848   \n",
       "Book5.txt   0.982069   0.986002   0.987385   0.990858   1.000000   0.990884   \n",
       "\n",
       "           Book7.txt  \n",
       "Book1.txt   0.982407  \n",
       "Book2.txt   0.983639  \n",
       "Book3.txt   0.983797  \n",
       "Book4.txt   0.988657  \n",
       "Book5.txt   0.988015  "
      ]
     },
     "execution_count": 21,
     "metadata": {},
     "output_type": "execute_result"
    }
   ],
   "source": [
    "import numpy as np\n",
    "\n",
    "dat = {}\n",
    "\n",
    "for f in df.index:\n",
    "    dat[f] = df.dot(df.loc[f])\n",
    "\n",
    "result_df = pd.DataFrame.from_dict(data=dat)\n",
    "result_df.head()"
   ]
  },
  {
   "cell_type": "code",
   "execution_count": 22,
   "metadata": {},
   "outputs": [],
   "source": [
    "from sklearn.decomposition import PCA\n",
    "from matplotlib import pyplot as plt\n",
    "\n",
    "\n",
    "def do_pca(df):\n",
    "    pca = PCA(n_components=2)\n",
    "    pca_corr_mat = pca.fit_transform(df)\n",
    "    pca_res = pd.DataFrame(data = pca_corr_mat, columns = ['vector 1', 'vector 2'],\n",
    "                           index = df.index)#, 'vector 3'])#, 'vector 4'])\n",
    "    print(pca.explained_variance_ratio_)\n",
    "    print(sum(pca.explained_variance_ratio_))\n",
    "    return pca_res\n",
    "\n",
    "def plot_pca(pca_res_df):\n",
    "    plt.figure()\n",
    "    plt.figure(figsize=(12,10))\n",
    "    plt.axes(xlabel='Vector 1', ylabel='Vector 2')\n",
    "\n",
    "    for i in pca_res_df.index:\n",
    "        x, y = pca_res_df.loc[i][\"vector 1\"], pca_res_df.loc[i][\"vector 2\"]\n",
    "        plt.scatter(x, y, s=50)\n",
    "        plt.text(x+.005, y+.005, i, fontsize=10)\n",
    "    plt.show()"
   ]
  },
  {
   "cell_type": "code",
   "execution_count": 23,
   "metadata": {},
   "outputs": [
    {
     "name": "stdout",
     "output_type": "stream",
     "text": [
      "[0.49051107 0.18371637]\n",
      "0.6742274436607386\n"
     ]
    }
   ],
   "source": [
    "res = do_pca(result_df)"
   ]
  },
  {
   "cell_type": "code",
   "execution_count": 24,
   "metadata": {},
   "outputs": [
    {
     "data": {
      "text/plain": [
       "<Figure size 432x288 with 0 Axes>"
      ]
     },
     "metadata": {},
     "output_type": "display_data"
    },
    {
     "data": {
      "image/png": "[encoded data removed]",
      "text/plain": [
       "<Figure size 864x720 with 1 Axes>"
      ]
     },
     "metadata": {
      "needs_background": "light"
     },
     "output_type": "display_data"
    }
   ],
   "source": [
    "plot_pca(res)"
   ]
  },
  {
   "cell_type": "code",
   "execution_count": 25,
   "metadata": {},
   "outputs": [
    {
     "data": {
      "image/png": "[encoded data removed]",
      "text/plain": [
       "<Figure size 720x720 with 1 Axes>"
      ]
     },
     "metadata": {
      "needs_background": "light"
     },
     "output_type": "display_data"
    }
   ],
   "source": [
    "from scipy.cluster.hierarchy import dendrogram, linkage\n",
    "\n",
    "plt.rcParams[\"figure.figsize\"] = [10,10]\n",
    "\n",
    "linkage_matrix = linkage(result_df, \"ward\")\n",
    "dendrogram(linkage_matrix, labels=result_df.index, orientation='left')\n",
    "# plt.savefig(os.path.expanduser('~/Desktop/dendro.pdf'))\n",
    "plt.show()"
   ]
  },
  {
   "attachments": {},
   "cell_type": "markdown",
   "metadata": {},
   "source": [
    "Vedi [qui](https://stackoverflow.com/questions/14802048/scipy-dendrogram-leaf-label-colours) per assegnare un colore alle label"
   ]
  },
  {
   "cell_type": "code",
   "execution_count": null,
   "metadata": {},
   "outputs": [
    {
     "data": {
      "text/html": [
       "<div>\n",
       "<style scoped>\n",
       "    .dataframe tbody tr th:only-of-type {\n",
       "        vertical-align: middle;\n",
       "    }\n",
       "\n",
       "    .dataframe tbody tr th {\n",
       "        vertical-align: top;\n",
       "    }\n",
       "\n",
       "    .dataframe thead th {\n",
       "        text-align: right;\n",
       "    }\n",
       "</style>\n",
       "<table border=\"1\" class=\"dataframe\">\n",
       "  <thead>\n",
       "    <tr style=\"text-align: right;\">\n",
       "      <th></th>\n",
       "      <th>Item type</th>\n",
       "      <th>Authors</th>\n",
       "      <th>Editors</th>\n",
       "      <th>Title</th>\n",
       "      <th>Publication year</th>\n",
       "      <th>Publisher</th>\n",
       "      <th>Address</th>\n",
       "      <th>Date published</th>\n",
       "      <th>Date accessed</th>\n",
       "      <th>URLs</th>\n",
       "      <th>Keywords</th>\n",
       "      <th>Short title</th>\n",
       "      <th>Series</th>\n",
       "    </tr>\n",
       "  </thead>\n",
       "  <tbody>\n",
       "    <tr>\n",
       "      <th>0</th>\n",
       "      <td>Book</td>\n",
       "      <td>Anstey F</td>\n",
       "      <td>NaN</td>\n",
       "      <td>The Brass Bottle</td>\n",
       "      <td>1900</td>\n",
       "      <td>NaN</td>\n",
       "      <td>NaN</td>\n",
       "      <td>1900</td>\n",
       "      <td>2017-09-10</td>\n",
       "      <td>https://www.gutenberg.org/ebooks/30689</td>\n",
       "      <td>ChiLit</td>\n",
       "      <td>brass</td>\n",
       "      <td>NaN</td>\n",
       "    </tr>\n",
       "    <tr>\n",
       "      <th>1</th>\n",
       "      <td>Book</td>\n",
       "      <td>Crockett SR</td>\n",
       "      <td>NaN</td>\n",
       "      <td>The Surprising Adventures of Sir Toady Lion wi...</td>\n",
       "      <td>1897</td>\n",
       "      <td>NaN</td>\n",
       "      <td>NaN</td>\n",
       "      <td>1897</td>\n",
       "      <td>2017-09-10</td>\n",
       "      <td>https://www.gutenberg.org/ebooks/39340</td>\n",
       "      <td>ChiLit</td>\n",
       "      <td>toadylion</td>\n",
       "      <td>NaN</td>\n",
       "    </tr>\n",
       "    <tr>\n",
       "      <th>2</th>\n",
       "      <td>Book</td>\n",
       "      <td>Mare W</td>\n",
       "      <td>NaN</td>\n",
       "      <td>The Three Mulla-mulgars</td>\n",
       "      <td>1910</td>\n",
       "      <td>NaN</td>\n",
       "      <td>NaN</td>\n",
       "      <td>1910</td>\n",
       "      <td>2017-09-10</td>\n",
       "      <td>https://www.gutenberg.org/ebooks/32620</td>\n",
       "      <td>ChiLit</td>\n",
       "      <td>mulgars</td>\n",
       "      <td>NaN</td>\n",
       "    </tr>\n",
       "    <tr>\n",
       "      <th>3</th>\n",
       "      <td>Book</td>\n",
       "      <td>Ewing JH</td>\n",
       "      <td>NaN</td>\n",
       "      <td>Mrs. Overtheway's Remembrances</td>\n",
       "      <td>1869</td>\n",
       "      <td>NaN</td>\n",
       "      <td>NaN</td>\n",
       "      <td>1869</td>\n",
       "      <td>2017-09-10</td>\n",
       "      <td>https://www.gutenberg.org/ebooks/17772</td>\n",
       "      <td>ChiLit</td>\n",
       "      <td>overtheway</td>\n",
       "      <td>NaN</td>\n",
       "    </tr>\n",
       "    <tr>\n",
       "      <th>4</th>\n",
       "      <td>Book</td>\n",
       "      <td>Ewing JH</td>\n",
       "      <td>NaN</td>\n",
       "      <td>Jackanapes</td>\n",
       "      <td>1883</td>\n",
       "      <td>NaN</td>\n",
       "      <td>NaN</td>\n",
       "      <td>1883</td>\n",
       "      <td>2017-09-10</td>\n",
       "      <td>https://www.gutenberg.org/ebooks/20351</td>\n",
       "      <td>ChiLit</td>\n",
       "      <td>jackanapes</td>\n",
       "      <td>NaN</td>\n",
       "    </tr>\n",
       "  </tbody>\n",
       "</table>\n",
       "</div>"
      ],
      "text/plain": [
       "  Item type      Authors Editors  \\\n",
       "0      Book     Anstey F     NaN   \n",
       "1      Book  Crockett SR     NaN   \n",
       "2      Book       Mare W     NaN   \n",
       "3      Book     Ewing JH     NaN   \n",
       "4      Book     Ewing JH     NaN   \n",
       "\n",
       "                                               Title  Publication year  \\\n",
       "0                                   The Brass Bottle              1900   \n",
       "1  The Surprising Adventures of Sir Toady Lion wi...              1897   \n",
       "2                            The Three Mulla-mulgars              1910   \n",
       "3                     Mrs. Overtheway's Remembrances              1869   \n",
       "4                                         Jackanapes              1883   \n",
       "\n",
       "  Publisher Address Date published Date accessed  \\\n",
       "0       NaN     NaN           1900    2017-09-10   \n",
       "1       NaN     NaN           1897    2017-09-10   \n",
       "2       NaN     NaN           1910    2017-09-10   \n",
       "3       NaN     NaN           1869    2017-09-10   \n",
       "4       NaN     NaN           1883    2017-09-10   \n",
       "\n",
       "                                     URLs Keywords Short title Series  \n",
       "0  https://www.gutenberg.org/ebooks/30689   ChiLit       brass    NaN  \n",
       "1  https://www.gutenberg.org/ebooks/39340   ChiLit   toadylion    NaN  \n",
       "2  https://www.gutenberg.org/ebooks/32620   ChiLit     mulgars    NaN  \n",
       "3  https://www.gutenberg.org/ebooks/17772   ChiLit  overtheway    NaN  \n",
       "4  https://www.gutenberg.org/ebooks/20351   ChiLit  jackanapes    NaN  "
      ]
     },
     "execution_count": 19,
     "metadata": {},
     "output_type": "execute_result"
    }
   ],
   "source": [
    "biblio_df = pd.read_csv('references.csv')\n",
    "biblio_df.head()"
   ]
  },
  {
   "cell_type": "code",
   "execution_count": null,
   "metadata": {},
   "outputs": [
    {
     "data": {
      "text/plain": [
       "159"
      ]
     },
     "execution_count": 26,
     "metadata": {},
     "output_type": "execute_result"
    }
   ],
   "source": [
    "len(biblio_df)"
   ]
  },
  {
   "cell_type": "code",
   "execution_count": null,
   "metadata": {},
   "outputs": [],
   "source": [
    "auth_short = {}\n",
    "for i,row in biblio_df.iterrows():\n",
    "    if row.Keywords == \"ChiLit\":\n",
    "        auth_short[f'{row[\"Short title\"]}.txt'] = row.Authors\n"
   ]
  },
  {
   "cell_type": "code",
   "execution_count": null,
   "metadata": {},
   "outputs": [
    {
     "data": {
      "text/plain": [
       "'MacDonald G'"
      ]
     },
     "execution_count": 24,
     "metadata": {},
     "output_type": "execute_result"
    }
   ],
   "source": [
    "auth_short['princess.txt']"
   ]
  },
  {
   "cell_type": "code",
   "execution_count": null,
   "metadata": {},
   "outputs": [
    {
     "data": {
      "text/plain": [
       "{'Anstey F',\n",
       " 'Austen J',\n",
       " 'Ballantyne RM',\n",
       " 'Barrie JM',\n",
       " 'Braddon ME',\n",
       " 'Brontë A',\n",
       " 'Brontë C',\n",
       " 'Brontë E',\n",
       " 'Bulwer-Lytton E',\n",
       " 'Burnett FH',\n",
       " 'Carroll L',\n",
       " 'Chesnutt CW',\n",
       " 'Chopin K',\n",
       " 'Collins W',\n",
       " 'Conrad J',\n",
       " 'Crockett SR',\n",
       " 'Dickens C',\n",
       " 'Disraeli B',\n",
       " 'Doyle AC',\n",
       " 'Dunbar PL',\n",
       " 'Eliot G',\n",
       " 'Ewing JH',\n",
       " 'Falkner JM',\n",
       " 'Farrar FW',\n",
       " 'Farrow GE',\n",
       " 'Forster EM',\n",
       " 'Gaskell EC',\n",
       " 'Gilman CP',\n",
       " 'Grahame K',\n",
       " 'Griggs SE',\n",
       " 'Haggard HR',\n",
       " 'Hardy T',\n",
       " 'Harper FE',\n",
       " 'Henty GA',\n",
       " 'Hughes T',\n",
       " 'Ingelow J',\n",
       " 'James H',\n",
       " 'Jefferies R',\n",
       " 'Johnson JW',\n",
       " 'Kingsley C',\n",
       " 'Kipling R',\n",
       " 'Lang A',\n",
       " 'Lawrence DH',\n",
       " 'MacDonald G',\n",
       " 'Mahlberg M',\n",
       " 'Mahlberg M,Wiegand V,Čermáková A',\n",
       " 'Mare W',\n",
       " 'Marryat F',\n",
       " 'Martineau H',\n",
       " 'Meade LT',\n",
       " 'Molesworth NA',\n",
       " 'Nesbit E',\n",
       " 'Northup S',\n",
       " 'Potter B',\n",
       " 'Reed TB',\n",
       " 'Rosato NJ,Rice C',\n",
       " 'Ruskin J',\n",
       " 'Sewell A',\n",
       " 'Shelley MW',\n",
       " 'Sinclair C',\n",
       " 'Sinclair U',\n",
       " 'Stevenson RL',\n",
       " 'Stoker B',\n",
       " 'Stretton H',\n",
       " 'Strickland A',\n",
       " 'Swift J',\n",
       " 'Thackeray WM',\n",
       " 'Trollope A',\n",
       " 'Twain M',\n",
       " 'Tytler AF',\n",
       " 'Wells HG',\n",
       " 'West R',\n",
       " 'Wilde O',\n",
       " 'Yonge CM',\n",
       " 'Čermáková A,Mahlberg M,Wiegand V'}"
      ]
     },
     "execution_count": 25,
     "metadata": {},
     "output_type": "execute_result"
    }
   ],
   "source": [
    "set(auth_short.values())"
   ]
  },
  {
   "cell_type": "code",
   "execution_count": null,
   "metadata": {},
   "outputs": [
    {
     "data": {
      "text/plain": [
       "the         0.599800\n",
       "and         0.307427\n",
       "curdie      0.271767\n",
       "to          0.242187\n",
       "of          0.218768\n",
       "it          0.165238\n",
       "irene       0.160164\n",
       "she         0.155560\n",
       "her         0.152311\n",
       "you         0.140889\n",
       "in          0.136242\n",
       "was         0.135870\n",
       "he          0.125833\n",
       "that        0.116354\n",
       "princess    0.099725\n",
       "had         0.093864\n",
       "but         0.091633\n",
       "lootie      0.086045\n",
       "as          0.083455\n",
       "they        0.082340\n",
       "Name: princess.txt, dtype: float64"
      ]
     },
     "execution_count": 28,
     "metadata": {},
     "output_type": "execute_result"
    }
   ],
   "source": [
    "df.loc['princess.txt'].sort_values(ascending=False).head(20)"
   ]
  },
  {
   "cell_type": "code",
   "execution_count": null,
   "metadata": {},
   "outputs": [
    {
     "data": {
      "text/plain": [
       "nutkin          0.617768\n",
       "the             0.388168\n",
       "and             0.318082\n",
       "squirrels       0.192407\n",
       "of              0.150954\n",
       "in              0.134780\n",
       "brown           0.123947\n",
       "twinkleberry    0.123554\n",
       "old             0.120266\n",
       "riddle          0.116956\n",
       "hitty           0.098843\n",
       "cuck            0.098843\n",
       "his             0.097042\n",
       "to              0.091651\n",
       "mr              0.087699\n",
       "but             0.086259\n",
       "pitty           0.083895\n",
       "up              0.080868\n",
       "as              0.080868\n",
       "nuts            0.077658\n",
       "Name: squirrel.txt, dtype: float64"
      ]
     },
     "execution_count": 30,
     "metadata": {},
     "output_type": "execute_result"
    }
   ],
   "source": [
    "df.loc['squirrel.txt'].sort_values(ascending=False).head(20)"
   ]
  },
  {
   "cell_type": "code",
   "execution_count": null,
   "metadata": {},
   "outputs": [
    {
     "data": {
      "text/plain": [
       "Index(['Item type', 'Authors', 'Editors', 'Title', 'Publication year',\n",
       "       'Publisher', 'Address', 'Date published', 'Date accessed', 'URLs',\n",
       "       'Keywords', 'Short title', 'Series'],\n",
       "      dtype='object')"
      ]
     },
     "execution_count": 21,
     "metadata": {},
     "output_type": "execute_result"
    }
   ],
   "source": [
    "biblio_df.columns"
   ]
  },
  {
   "cell_type": "code",
   "execution_count": null,
   "metadata": {},
   "outputs": [
    {
     "data": {
      "text/plain": [
       "38"
      ]
     },
     "execution_count": 30,
     "metadata": {},
     "output_type": "execute_result"
    }
   ],
   "source": [
    "len(biblio_df[biblio_df.Keywords == 'ChiLit']['Authors'].value_counts().index)"
   ]
  },
  {
   "cell_type": "code",
   "execution_count": null,
   "metadata": {},
   "outputs": [],
   "source": []
  }
 ],
 "metadata": {
  "kernelspec": {
   "display_name": "data-env",
   "language": "python",
   "name": "data-env"
  },
  "language_info": {
   "codemirror_mode": {
    "name": "ipython",
    "version": 3
   },
   "file_extension": ".py",
   "mimetype": "text/x-python",
   "name": "python",
   "nbconvert_exporter": "python",
   "pygments_lexer": "ipython3",
   "version": "3.10.2"
  },
  "orig_nbformat": 4
 },
 "nbformat": 4,
 "nbformat_minor": 2
}
