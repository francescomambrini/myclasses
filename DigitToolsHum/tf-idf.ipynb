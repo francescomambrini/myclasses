{
 "cells": [
  {
   "cell_type": "code",
   "execution_count": 2,
   "metadata": {},
   "outputs": [],
   "source": [
    "import os\n",
    "from glob import glob\n",
    "from sklearn.feature_extraction.text import TfidfVectorizer\n",
    "from nltk.corpus.reader import PlaintextCorpusReader\n",
    "import pandas as pd"
   ]
  },
  {
   "cell_type": "code",
   "execution_count": 3,
   "metadata": {},
   "outputs": [
    {
     "data": {
      "text/plain": [
       "True"
      ]
     },
     "execution_count": 3,
     "metadata": {},
     "output_type": "execute_result"
    }
   ],
   "source": [
    "data_dir = os.path.expanduser('../../../../data/corpora/UBirmingham/corpora/ChiLit')\n",
    "os.path.isdir(data_dir)"
   ]
  },
  {
   "cell_type": "code",
   "execution_count": 5,
   "metadata": {},
   "outputs": [],
   "source": [
    "chilit = PlaintextCorpusReader(root=data_dir, fileids='.*\\.txt')"
   ]
  },
  {
   "cell_type": "code",
   "execution_count": 6,
   "metadata": {},
   "outputs": [],
   "source": [
    "flist = chilit.fileids()"
   ]
  },
  {
   "cell_type": "code",
   "execution_count": 7,
   "metadata": {},
   "outputs": [
    {
     "name": "stdout",
     "output_type": "stream",
     "text": [
      "The Princess and the Goblin\n",
      "George MacDonald\n",
      "\n",
      "CHAPTER I. WHY THE PRINCESS HAS A STORY ABOUT HER\n",
      "\n",
      "\n",
      "THERE was once a little princess who--\n",
      "\n",
      "\"_But, Mr. Author, why do you always write about princesses?_\"\n",
      "\n",
      "\"_Because every little girl is a princess._\"\n",
      "\n",
      "\"_You will make them vain if you tell them that._\"\n",
      "\n",
      "\"_Not if they understand what I mean._\"\n",
      "\n",
      "\"_Then what do you mean?_\"\n",
      "\n",
      "\"_What_ do you _mean by a princess?_\"\n",
      "\n",
      "\"_The daughter of a king._\"\n",
      "\n",
      "\"_Very well, then every little girl is a princess, and there wo\n"
     ]
    }
   ],
   "source": [
    "print(chilit.raw(fileids='princess.txt')[:500])"
   ]
  },
  {
   "cell_type": "code",
   "execution_count": 8,
   "metadata": {},
   "outputs": [
    {
     "data": {
      "text/plain": [
       "['once',\n",
       " 'a',\n",
       " 'little',\n",
       " 'princess',\n",
       " 'who',\n",
       " '--',\n",
       " '\"',\n",
       " '_But',\n",
       " ',',\n",
       " 'Mr',\n",
       " '.',\n",
       " 'Author',\n",
       " ',',\n",
       " 'why',\n",
       " 'do',\n",
       " 'you',\n",
       " 'always',\n",
       " 'write',\n",
       " 'about',\n",
       " 'princesses',\n",
       " '?',\n",
       " '_',\n",
       " '\"',\n",
       " '\"',\n",
       " '_Because',\n",
       " 'every',\n",
       " 'little',\n",
       " 'girl',\n",
       " 'is',\n",
       " 'a']"
      ]
     },
     "execution_count": 8,
     "metadata": {},
     "output_type": "execute_result"
    }
   ],
   "source": [
    "words = chilit.words(fileids='princess.txt')\n",
    "words[20:50]"
   ]
  },
  {
   "cell_type": "code",
   "execution_count": 9,
   "metadata": {},
   "outputs": [],
   "source": [
    "preproc_texts = [chilit.raw(fileids=d) for d in flist]"
   ]
  },
  {
   "cell_type": "code",
   "execution_count": 10,
   "metadata": {},
   "outputs": [],
   "source": [
    "vectorizer = TfidfVectorizer()"
   ]
  },
  {
   "cell_type": "code",
   "execution_count": 11,
   "metadata": {},
   "outputs": [],
   "source": [
    "vectors = vectorizer.fit_transform(preproc_texts)"
   ]
  },
  {
   "cell_type": "code",
   "execution_count": 12,
   "metadata": {},
   "outputs": [
    {
     "name": "stderr",
     "output_type": "stream",
     "text": [
      "/opt/homebrew/Caskroom/miniforge/base/envs/data/lib/python3.10/site-packages/sklearn/utils/deprecation.py:87: FutureWarning: Function get_feature_names is deprecated; get_feature_names is deprecated in 1.0 and will be removed in 1.2. Please use get_feature_names_out instead.\n",
      "  warnings.warn(msg, category=FutureWarning)\n"
     ]
    }
   ],
   "source": [
    "feature_names = vectorizer.get_feature_names()"
   ]
  },
  {
   "cell_type": "code",
   "execution_count": 14,
   "metadata": {},
   "outputs": [],
   "source": [
    "dense = vectors.todense()\n",
    "denselist = dense.tolist()\n",
    "df = pd.DataFrame(denselist, columns=feature_names, index=flist)"
   ]
  },
  {
   "cell_type": "code",
   "execution_count": 15,
   "metadata": {},
   "outputs": [
    {
     "data": {
      "text/plain": [
       "unlikely.txt    0.00097\n",
       "Name: 783, dtype: float64"
      ]
     },
     "execution_count": 15,
     "metadata": {},
     "output_type": "execute_result"
    }
   ],
   "source": [
    "df[df['006']> 0]['783']"
   ]
  },
  {
   "cell_type": "code",
   "execution_count": 16,
   "metadata": {},
   "outputs": [
    {
     "data": {
      "text/plain": [
       "(71, 45596)"
      ]
     },
     "execution_count": 16,
     "metadata": {},
     "output_type": "execute_result"
    }
   ],
   "source": [
    "df.shape"
   ]
  },
  {
   "attachments": {},
   "cell_type": "markdown",
   "metadata": {},
   "source": [
    "As we normalized per `l2` during the TF-IDF vectorization, we can just get the cosine distance with a simple dot product between each of the document vectors."
   ]
  },
  {
   "cell_type": "code",
   "execution_count": 17,
   "metadata": {},
   "outputs": [
    {
     "data": {
      "text/html": [
       "<div>\n",
       "<style scoped>\n",
       "    .dataframe tbody tr th:only-of-type {\n",
       "        vertical-align: middle;\n",
       "    }\n",
       "\n",
       "    .dataframe tbody tr th {\n",
       "        vertical-align: top;\n",
       "    }\n",
       "\n",
       "    .dataframe thead th {\n",
       "        text-align: right;\n",
       "    }\n",
       "</style>\n",
       "<table border=\"1\" class=\"dataframe\">\n",
       "  <thead>\n",
       "    <tr style=\"text-align: right;\">\n",
       "      <th></th>\n",
       "      <th>alice.txt</th>\n",
       "      <th>alone.txt</th>\n",
       "      <th>amulet.txt</th>\n",
       "      <th>beauty.txt</th>\n",
       "      <th>brass.txt</th>\n",
       "      <th>bunny.txt</th>\n",
       "      <th>canada.txt</th>\n",
       "      <th>carved.txt</th>\n",
       "      <th>clive.txt</th>\n",
       "      <th>coral.txt</th>\n",
       "      <th>...</th>\n",
       "      <th>tombrown.txt</th>\n",
       "      <th>treasure.txt</th>\n",
       "      <th>unlikely.txt</th>\n",
       "      <th>vice.txt</th>\n",
       "      <th>wallypug.txt</th>\n",
       "      <th>water.txt</th>\n",
       "      <th>willows.txt</th>\n",
       "      <th>wind.txt</th>\n",
       "      <th>winning.txt</th>\n",
       "      <th>woodmagic.txt</th>\n",
       "    </tr>\n",
       "  </thead>\n",
       "  <tbody>\n",
       "    <tr>\n",
       "      <th>alice.txt</th>\n",
       "      <td>1.000000</td>\n",
       "      <td>0.709823</td>\n",
       "      <td>0.814531</td>\n",
       "      <td>0.809757</td>\n",
       "      <td>0.755799</td>\n",
       "      <td>0.610989</td>\n",
       "      <td>0.781884</td>\n",
       "      <td>0.782063</td>\n",
       "      <td>0.785821</td>\n",
       "      <td>0.799495</td>\n",
       "      <td>...</td>\n",
       "      <td>0.810469</td>\n",
       "      <td>0.827673</td>\n",
       "      <td>0.855181</td>\n",
       "      <td>0.784663</td>\n",
       "      <td>0.820384</td>\n",
       "      <td>0.785912</td>\n",
       "      <td>0.787976</td>\n",
       "      <td>0.812115</td>\n",
       "      <td>0.785719</td>\n",
       "      <td>0.785999</td>\n",
       "    </tr>\n",
       "    <tr>\n",
       "      <th>alone.txt</th>\n",
       "      <td>0.709823</td>\n",
       "      <td>1.000000</td>\n",
       "      <td>0.731679</td>\n",
       "      <td>0.839114</td>\n",
       "      <td>0.749153</td>\n",
       "      <td>0.607817</td>\n",
       "      <td>0.756902</td>\n",
       "      <td>0.752237</td>\n",
       "      <td>0.732479</td>\n",
       "      <td>0.751023</td>\n",
       "      <td>...</td>\n",
       "      <td>0.812738</td>\n",
       "      <td>0.808179</td>\n",
       "      <td>0.827275</td>\n",
       "      <td>0.804314</td>\n",
       "      <td>0.779362</td>\n",
       "      <td>0.823957</td>\n",
       "      <td>0.789087</td>\n",
       "      <td>0.816050</td>\n",
       "      <td>0.745761</td>\n",
       "      <td>0.765660</td>\n",
       "    </tr>\n",
       "    <tr>\n",
       "      <th>amulet.txt</th>\n",
       "      <td>0.814531</td>\n",
       "      <td>0.731679</td>\n",
       "      <td>1.000000</td>\n",
       "      <td>0.852099</td>\n",
       "      <td>0.789632</td>\n",
       "      <td>0.642381</td>\n",
       "      <td>0.825717</td>\n",
       "      <td>0.777700</td>\n",
       "      <td>0.836802</td>\n",
       "      <td>0.852366</td>\n",
       "      <td>...</td>\n",
       "      <td>0.867655</td>\n",
       "      <td>0.885208</td>\n",
       "      <td>0.895656</td>\n",
       "      <td>0.822716</td>\n",
       "      <td>0.850200</td>\n",
       "      <td>0.833684</td>\n",
       "      <td>0.844210</td>\n",
       "      <td>0.841169</td>\n",
       "      <td>0.836124</td>\n",
       "      <td>0.833316</td>\n",
       "    </tr>\n",
       "    <tr>\n",
       "      <th>beauty.txt</th>\n",
       "      <td>0.809757</td>\n",
       "      <td>0.839114</td>\n",
       "      <td>0.852099</td>\n",
       "      <td>1.000000</td>\n",
       "      <td>0.840299</td>\n",
       "      <td>0.666229</td>\n",
       "      <td>0.875022</td>\n",
       "      <td>0.872078</td>\n",
       "      <td>0.833839</td>\n",
       "      <td>0.878769</td>\n",
       "      <td>...</td>\n",
       "      <td>0.912961</td>\n",
       "      <td>0.933027</td>\n",
       "      <td>0.921984</td>\n",
       "      <td>0.888425</td>\n",
       "      <td>0.884818</td>\n",
       "      <td>0.928833</td>\n",
       "      <td>0.890593</td>\n",
       "      <td>0.904125</td>\n",
       "      <td>0.847580</td>\n",
       "      <td>0.866987</td>\n",
       "    </tr>\n",
       "    <tr>\n",
       "      <th>brass.txt</th>\n",
       "      <td>0.755799</td>\n",
       "      <td>0.749153</td>\n",
       "      <td>0.789632</td>\n",
       "      <td>0.840299</td>\n",
       "      <td>1.000000</td>\n",
       "      <td>0.592466</td>\n",
       "      <td>0.800843</td>\n",
       "      <td>0.779188</td>\n",
       "      <td>0.777650</td>\n",
       "      <td>0.806326</td>\n",
       "      <td>...</td>\n",
       "      <td>0.823358</td>\n",
       "      <td>0.841377</td>\n",
       "      <td>0.827528</td>\n",
       "      <td>0.864627</td>\n",
       "      <td>0.818578</td>\n",
       "      <td>0.806022</td>\n",
       "      <td>0.801161</td>\n",
       "      <td>0.836511</td>\n",
       "      <td>0.794143</td>\n",
       "      <td>0.791102</td>\n",
       "    </tr>\n",
       "  </tbody>\n",
       "</table>\n",
       "<p>5 rows × 71 columns</p>\n",
       "</div>"
      ],
      "text/plain": [
       "            alice.txt  alone.txt  amulet.txt  beauty.txt  brass.txt  \\\n",
       "alice.txt    1.000000   0.709823    0.814531    0.809757   0.755799   \n",
       "alone.txt    0.709823   1.000000    0.731679    0.839114   0.749153   \n",
       "amulet.txt   0.814531   0.731679    1.000000    0.852099   0.789632   \n",
       "beauty.txt   0.809757   0.839114    0.852099    1.000000   0.840299   \n",
       "brass.txt    0.755799   0.749153    0.789632    0.840299   1.000000   \n",
       "\n",
       "            bunny.txt  canada.txt  carved.txt  clive.txt  coral.txt  ...  \\\n",
       "alice.txt    0.610989    0.781884    0.782063   0.785821   0.799495  ...   \n",
       "alone.txt    0.607817    0.756902    0.752237   0.732479   0.751023  ...   \n",
       "amulet.txt   0.642381    0.825717    0.777700   0.836802   0.852366  ...   \n",
       "beauty.txt   0.666229    0.875022    0.872078   0.833839   0.878769  ...   \n",
       "brass.txt    0.592466    0.800843    0.779188   0.777650   0.806326  ...   \n",
       "\n",
       "            tombrown.txt  treasure.txt  unlikely.txt  vice.txt  wallypug.txt  \\\n",
       "alice.txt       0.810469      0.827673      0.855181  0.784663      0.820384   \n",
       "alone.txt       0.812738      0.808179      0.827275  0.804314      0.779362   \n",
       "amulet.txt      0.867655      0.885208      0.895656  0.822716      0.850200   \n",
       "beauty.txt      0.912961      0.933027      0.921984  0.888425      0.884818   \n",
       "brass.txt       0.823358      0.841377      0.827528  0.864627      0.818578   \n",
       "\n",
       "            water.txt  willows.txt  wind.txt  winning.txt  woodmagic.txt  \n",
       "alice.txt    0.785912     0.787976  0.812115     0.785719       0.785999  \n",
       "alone.txt    0.823957     0.789087  0.816050     0.745761       0.765660  \n",
       "amulet.txt   0.833684     0.844210  0.841169     0.836124       0.833316  \n",
       "beauty.txt   0.928833     0.890593  0.904125     0.847580       0.866987  \n",
       "brass.txt    0.806022     0.801161  0.836511     0.794143       0.791102  \n",
       "\n",
       "[5 rows x 71 columns]"
      ]
     },
     "execution_count": 17,
     "metadata": {},
     "output_type": "execute_result"
    }
   ],
   "source": [
    "import numpy as np\n",
    "\n",
    "dat = {}\n",
    "\n",
    "for f in df.index:\n",
    "    dat[f] = df.dot(df.loc[f])\n",
    "\n",
    "result_df = pd.DataFrame.from_dict(data=dat)\n",
    "result_df.head()"
   ]
  },
  {
   "cell_type": "code",
   "execution_count": 18,
   "metadata": {},
   "outputs": [],
   "source": [
    "from sklearn.decomposition import PCA\n",
    "from matplotlib import pyplot as plt\n",
    "\n",
    "\n",
    "def do_pca(df):\n",
    "    pca = PCA(n_components=2)\n",
    "    pca_corr_mat = pca.fit_transform(df)\n",
    "    pca_res = pd.DataFrame(data = pca_corr_mat, columns = ['vector 1', 'vector 2'],\n",
    "                           index = df.index)#, 'vector 3'])#, 'vector 4'])\n",
    "    print(pca.explained_variance_ratio_)\n",
    "    print(sum(pca.explained_variance_ratio_))\n",
    "    return pca_res\n",
    "\n",
    "def plot_pca(pca_res_df):\n",
    "    plt.figure()\n",
    "    plt.figure(figsize=(12,10))\n",
    "    plt.axes(xlabel='Vector 1', ylabel='Vector 2')\n",
    "\n",
    "    for i in pca_res_df.index:\n",
    "        x, y = pca_res_df.loc[i][\"vector 1\"], pca_res_df.loc[i][\"vector 2\"]\n",
    "        plt.scatter(x, y, s=50)\n",
    "        plt.text(x+.005, y+.005, i, fontsize=10)\n",
    "    plt.show()"
   ]
  },
  {
   "cell_type": "code",
   "execution_count": 19,
   "metadata": {},
   "outputs": [
    {
     "name": "stdout",
     "output_type": "stream",
     "text": [
      "[0.83257844 0.03822933]\n",
      "0.870807772210189\n"
     ]
    }
   ],
   "source": [
    "res = do_pca(result_df)"
   ]
  },
  {
   "cell_type": "code",
   "execution_count": 20,
   "metadata": {},
   "outputs": [
    {
     "data": {
      "text/plain": [
       "<Figure size 432x288 with 0 Axes>"
      ]
     },
     "metadata": {},
     "output_type": "display_data"
    },
    {
     "data": {
      "image/png": "[encoded data removed]",
      "text/plain": [
       "<Figure size 864x720 with 1 Axes>"
      ]
     },
     "metadata": {
      "needs_background": "light"
     },
     "output_type": "display_data"
    }
   ],
   "source": [
    "plot_pca(res)"
   ]
  },
  {
   "cell_type": "code",
   "execution_count": 21,
   "metadata": {},
   "outputs": [
    {
     "data": {
      "image/png": "[encoded data removed]",
      "text/plain": [
       "<Figure size 720x720 with 1 Axes>"
      ]
     },
     "metadata": {
      "needs_background": "light"
     },
     "output_type": "display_data"
    }
   ],
   "source": [
    "from scipy.cluster.hierarchy import dendrogram, linkage\n",
    "\n",
    "plt.rcParams[\"figure.figsize\"] = [10,10]\n",
    "\n",
    "linkage_matrix = linkage(result_df, \"ward\")\n",
    "dendrogram(linkage_matrix, labels=result_df.index, orientation='left')\n",
    "# plt.savefig(os.path.expanduser('~/Desktop/dendro.pdf'))\n",
    "plt.show()"
   ]
  },
  {
   "attachments": {},
   "cell_type": "markdown",
   "metadata": {},
   "source": [
    "Vedi [qui](https://stackoverflow.com/questions/14802048/scipy-dendrogram-leaf-label-colours) per assegnare un colore alle label"
   ]
  },
  {
   "cell_type": "code",
   "execution_count": 22,
   "metadata": {},
   "outputs": [
    {
     "data": {
      "text/html": [
       "<div>\n",
       "<style scoped>\n",
       "    .dataframe tbody tr th:only-of-type {\n",
       "        vertical-align: middle;\n",
       "    }\n",
       "\n",
       "    .dataframe tbody tr th {\n",
       "        vertical-align: top;\n",
       "    }\n",
       "\n",
       "    .dataframe thead th {\n",
       "        text-align: right;\n",
       "    }\n",
       "</style>\n",
       "<table border=\"1\" class=\"dataframe\">\n",
       "  <thead>\n",
       "    <tr style=\"text-align: right;\">\n",
       "      <th></th>\n",
       "      <th>Item type</th>\n",
       "      <th>Authors</th>\n",
       "      <th>Editors</th>\n",
       "      <th>Title</th>\n",
       "      <th>Publication year</th>\n",
       "      <th>Publisher</th>\n",
       "      <th>Address</th>\n",
       "      <th>Date published</th>\n",
       "      <th>Date accessed</th>\n",
       "      <th>URLs</th>\n",
       "      <th>Keywords</th>\n",
       "      <th>Short title</th>\n",
       "      <th>Series</th>\n",
       "    </tr>\n",
       "  </thead>\n",
       "  <tbody>\n",
       "    <tr>\n",
       "      <th>0</th>\n",
       "      <td>Book</td>\n",
       "      <td>Anstey F</td>\n",
       "      <td>NaN</td>\n",
       "      <td>The Brass Bottle</td>\n",
       "      <td>1900</td>\n",
       "      <td>NaN</td>\n",
       "      <td>NaN</td>\n",
       "      <td>1900</td>\n",
       "      <td>2017-09-10</td>\n",
       "      <td>https://www.gutenberg.org/ebooks/30689</td>\n",
       "      <td>ChiLit</td>\n",
       "      <td>brass</td>\n",
       "      <td>NaN</td>\n",
       "    </tr>\n",
       "    <tr>\n",
       "      <th>1</th>\n",
       "      <td>Book</td>\n",
       "      <td>Crockett SR</td>\n",
       "      <td>NaN</td>\n",
       "      <td>The Surprising Adventures of Sir Toady Lion wi...</td>\n",
       "      <td>1897</td>\n",
       "      <td>NaN</td>\n",
       "      <td>NaN</td>\n",
       "      <td>1897</td>\n",
       "      <td>2017-09-10</td>\n",
       "      <td>https://www.gutenberg.org/ebooks/39340</td>\n",
       "      <td>ChiLit</td>\n",
       "      <td>toadylion</td>\n",
       "      <td>NaN</td>\n",
       "    </tr>\n",
       "    <tr>\n",
       "      <th>2</th>\n",
       "      <td>Book</td>\n",
       "      <td>Mare W</td>\n",
       "      <td>NaN</td>\n",
       "      <td>The Three Mulla-mulgars</td>\n",
       "      <td>1910</td>\n",
       "      <td>NaN</td>\n",
       "      <td>NaN</td>\n",
       "      <td>1910</td>\n",
       "      <td>2017-09-10</td>\n",
       "      <td>https://www.gutenberg.org/ebooks/32620</td>\n",
       "      <td>ChiLit</td>\n",
       "      <td>mulgars</td>\n",
       "      <td>NaN</td>\n",
       "    </tr>\n",
       "    <tr>\n",
       "      <th>3</th>\n",
       "      <td>Book</td>\n",
       "      <td>Ewing JH</td>\n",
       "      <td>NaN</td>\n",
       "      <td>Mrs. Overtheway's Remembrances</td>\n",
       "      <td>1869</td>\n",
       "      <td>NaN</td>\n",
       "      <td>NaN</td>\n",
       "      <td>1869</td>\n",
       "      <td>2017-09-10</td>\n",
       "      <td>https://www.gutenberg.org/ebooks/17772</td>\n",
       "      <td>ChiLit</td>\n",
       "      <td>overtheway</td>\n",
       "      <td>NaN</td>\n",
       "    </tr>\n",
       "    <tr>\n",
       "      <th>4</th>\n",
       "      <td>Book</td>\n",
       "      <td>Ewing JH</td>\n",
       "      <td>NaN</td>\n",
       "      <td>Jackanapes</td>\n",
       "      <td>1883</td>\n",
       "      <td>NaN</td>\n",
       "      <td>NaN</td>\n",
       "      <td>1883</td>\n",
       "      <td>2017-09-10</td>\n",
       "      <td>https://www.gutenberg.org/ebooks/20351</td>\n",
       "      <td>ChiLit</td>\n",
       "      <td>jackanapes</td>\n",
       "      <td>NaN</td>\n",
       "    </tr>\n",
       "  </tbody>\n",
       "</table>\n",
       "</div>"
      ],
      "text/plain": [
       "  Item type      Authors Editors  \\\n",
       "0      Book     Anstey F     NaN   \n",
       "1      Book  Crockett SR     NaN   \n",
       "2      Book       Mare W     NaN   \n",
       "3      Book     Ewing JH     NaN   \n",
       "4      Book     Ewing JH     NaN   \n",
       "\n",
       "                                               Title  Publication year  \\\n",
       "0                                   The Brass Bottle              1900   \n",
       "1  The Surprising Adventures of Sir Toady Lion wi...              1897   \n",
       "2                            The Three Mulla-mulgars              1910   \n",
       "3                     Mrs. Overtheway's Remembrances              1869   \n",
       "4                                         Jackanapes              1883   \n",
       "\n",
       "  Publisher Address Date published Date accessed  \\\n",
       "0       NaN     NaN           1900    2017-09-10   \n",
       "1       NaN     NaN           1897    2017-09-10   \n",
       "2       NaN     NaN           1910    2017-09-10   \n",
       "3       NaN     NaN           1869    2017-09-10   \n",
       "4       NaN     NaN           1883    2017-09-10   \n",
       "\n",
       "                                     URLs Keywords Short title Series  \n",
       "0  https://www.gutenberg.org/ebooks/30689   ChiLit       brass    NaN  \n",
       "1  https://www.gutenberg.org/ebooks/39340   ChiLit   toadylion    NaN  \n",
       "2  https://www.gutenberg.org/ebooks/32620   ChiLit     mulgars    NaN  \n",
       "3  https://www.gutenberg.org/ebooks/17772   ChiLit  overtheway    NaN  \n",
       "4  https://www.gutenberg.org/ebooks/20351   ChiLit  jackanapes    NaN  "
      ]
     },
     "execution_count": 22,
     "metadata": {},
     "output_type": "execute_result"
    }
   ],
   "source": [
    "biblio_df = pd.read_csv('references.csv')\n",
    "biblio_df.head()"
   ]
  },
  {
   "cell_type": "code",
   "execution_count": 23,
   "metadata": {},
   "outputs": [],
   "source": [
    "auth_short = {}\n",
    "for i,row in biblio_df.iterrows():\n",
    "    if row.Keywords == \"ChiLit\":\n",
    "        auth_short[f'{row[\"Short title\"]}.txt'] = row.Authors\n"
   ]
  },
  {
   "cell_type": "code",
   "execution_count": 24,
   "metadata": {},
   "outputs": [
    {
     "data": {
      "text/plain": [
       "'MacDonald G'"
      ]
     },
     "execution_count": 24,
     "metadata": {},
     "output_type": "execute_result"
    }
   ],
   "source": [
    "auth_short['princess.txt']"
   ]
  },
  {
   "cell_type": "code",
   "execution_count": 25,
   "metadata": {},
   "outputs": [
    {
     "data": {
      "text/plain": [
       "{'Anstey F',\n",
       " 'Austen J',\n",
       " 'Ballantyne RM',\n",
       " 'Barrie JM',\n",
       " 'Braddon ME',\n",
       " 'Brontë A',\n",
       " 'Brontë C',\n",
       " 'Brontë E',\n",
       " 'Bulwer-Lytton E',\n",
       " 'Burnett FH',\n",
       " 'Carroll L',\n",
       " 'Chesnutt CW',\n",
       " 'Chopin K',\n",
       " 'Collins W',\n",
       " 'Conrad J',\n",
       " 'Crockett SR',\n",
       " 'Dickens C',\n",
       " 'Disraeli B',\n",
       " 'Doyle AC',\n",
       " 'Dunbar PL',\n",
       " 'Eliot G',\n",
       " 'Ewing JH',\n",
       " 'Falkner JM',\n",
       " 'Farrar FW',\n",
       " 'Farrow GE',\n",
       " 'Forster EM',\n",
       " 'Gaskell EC',\n",
       " 'Gilman CP',\n",
       " 'Grahame K',\n",
       " 'Griggs SE',\n",
       " 'Haggard HR',\n",
       " 'Hardy T',\n",
       " 'Harper FE',\n",
       " 'Henty GA',\n",
       " 'Hughes T',\n",
       " 'Ingelow J',\n",
       " 'James H',\n",
       " 'Jefferies R',\n",
       " 'Johnson JW',\n",
       " 'Kingsley C',\n",
       " 'Kipling R',\n",
       " 'Lang A',\n",
       " 'Lawrence DH',\n",
       " 'MacDonald G',\n",
       " 'Mahlberg M',\n",
       " 'Mahlberg M,Wiegand V,Čermáková A',\n",
       " 'Mare W',\n",
       " 'Marryat F',\n",
       " 'Martineau H',\n",
       " 'Meade LT',\n",
       " 'Molesworth NA',\n",
       " 'Nesbit E',\n",
       " 'Northup S',\n",
       " 'Potter B',\n",
       " 'Reed TB',\n",
       " 'Rosato NJ,Rice C',\n",
       " 'Ruskin J',\n",
       " 'Sewell A',\n",
       " 'Shelley MW',\n",
       " 'Sinclair C',\n",
       " 'Sinclair U',\n",
       " 'Stevenson RL',\n",
       " 'Stoker B',\n",
       " 'Stretton H',\n",
       " 'Strickland A',\n",
       " 'Swift J',\n",
       " 'Thackeray WM',\n",
       " 'Trollope A',\n",
       " 'Twain M',\n",
       " 'Tytler AF',\n",
       " 'Wells HG',\n",
       " 'West R',\n",
       " 'Wilde O',\n",
       " 'Yonge CM',\n",
       " 'Čermáková A,Mahlberg M,Wiegand V'}"
      ]
     },
     "execution_count": 25,
     "metadata": {},
     "output_type": "execute_result"
    }
   ],
   "source": [
    "set(auth_short.values())"
   ]
  },
  {
   "cell_type": "code",
   "execution_count": 28,
   "metadata": {},
   "outputs": [
    {
     "data": {
      "text/plain": [
       "the         0.599800\n",
       "and         0.307427\n",
       "curdie      0.271767\n",
       "to          0.242187\n",
       "of          0.218768\n",
       "it          0.165238\n",
       "irene       0.160164\n",
       "she         0.155560\n",
       "her         0.152311\n",
       "you         0.140889\n",
       "in          0.136242\n",
       "was         0.135870\n",
       "he          0.125833\n",
       "that        0.116354\n",
       "princess    0.099725\n",
       "had         0.093864\n",
       "but         0.091633\n",
       "lootie      0.086045\n",
       "as          0.083455\n",
       "they        0.082340\n",
       "Name: princess.txt, dtype: float64"
      ]
     },
     "execution_count": 28,
     "metadata": {},
     "output_type": "execute_result"
    }
   ],
   "source": [
    "df.loc['princess.txt'].sort_values(ascending=False).head(20)"
   ]
  },
  {
   "cell_type": "code",
   "execution_count": 30,
   "metadata": {},
   "outputs": [
    {
     "data": {
      "text/plain": [
       "nutkin          0.617768\n",
       "the             0.388168\n",
       "and             0.318082\n",
       "squirrels       0.192407\n",
       "of              0.150954\n",
       "in              0.134780\n",
       "brown           0.123947\n",
       "twinkleberry    0.123554\n",
       "old             0.120266\n",
       "riddle          0.116956\n",
       "hitty           0.098843\n",
       "cuck            0.098843\n",
       "his             0.097042\n",
       "to              0.091651\n",
       "mr              0.087699\n",
       "but             0.086259\n",
       "pitty           0.083895\n",
       "up              0.080868\n",
       "as              0.080868\n",
       "nuts            0.077658\n",
       "Name: squirrel.txt, dtype: float64"
      ]
     },
     "execution_count": 30,
     "metadata": {},
     "output_type": "execute_result"
    }
   ],
   "source": [
    "df.loc['squirrel.txt'].sort_values(ascending=False).head(20)"
   ]
  },
  {
   "cell_type": "code",
   "execution_count": null,
   "metadata": {},
   "outputs": [],
   "source": []
  }
 ],
 "metadata": {
  "kernelspec": {
   "display_name": "data-env",
   "language": "python",
   "name": "data-env"
  },
  "language_info": {
   "codemirror_mode": {
    "name": "ipython",
    "version": 3
   },
   "file_extension": ".py",
   "mimetype": "text/x-python",
   "name": "python",
   "nbconvert_exporter": "python",
   "pygments_lexer": "ipython3",
   "version": "3.10.2"
  },
  "orig_nbformat": 4
 },
 "nbformat": 4,
 "nbformat_minor": 2
}
