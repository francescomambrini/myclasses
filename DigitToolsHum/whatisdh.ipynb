{
 "cells": [
  {
   "cell_type": "markdown",
   "metadata": {},
   "source": [
    "# What are the Digital Humanities"
   ]
  },
  {
   "cell_type": "markdown",
   "metadata": {},
   "source": [
    "A few lines of code to explore the dataset used by the [What is Digital Humanities](https://whatisdigitalhumanities.com/). The website randomly loads one of 817 definitions collected from participants from the Day of DH between 2009-2014.\n",
    "\n",
    "We load the definitions stored in a [CSV file](https://github.com/hepplerj/whatisdigitalhumanities/blob/master/dayofquotes_full.csv) downloaded from the GitHub repository of the project. We count the words and we use a simple visualization (a word cloud) to explore the vocabulary."
   ]
  },
  {
   "cell_type": "markdown",
   "metadata": {},
   "source": [
    "## Load the data"
   ]
  },
  {
   "cell_type": "code",
   "execution_count": 11,
   "metadata": {},
   "outputs": [],
   "source": [
    "import csv\n",
    "\n",
    "with open('../data/dayofquotes_edited.csv', 'r') as csvfile:\n",
    "    csvreader = csv.reader(csvfile)\n",
    "    lines = [r for r in csvreader]\n"
   ]
  },
  {
   "cell_type": "code",
   "execution_count": null,
   "metadata": {},
   "outputs": [],
   "source": [
    "lines[1]"
   ]
  },
  {
   "cell_type": "code",
   "execution_count": 14,
   "metadata": {},
   "outputs": [],
   "source": [
    "definitions = '\\n'.join([l[0] for l in lines[1:]]).lower()"
   ]
  },
  {
   "cell_type": "code",
   "execution_count": null,
   "metadata": {},
   "outputs": [],
   "source": [
    "definitions[:40]"
   ]
  },
  {
   "cell_type": "markdown",
   "metadata": {},
   "source": [
    "We can use a couple of options to search and counts the occurrences of a certain pattern or a string within the text of the definitions that we saved in the `definition` variable, like:\n",
    "- `finditer` of the `re` library to search for all occurrences using regular expression\n",
    "- the `count` method to simply get the number of occurrences\n",
    "\n",
    "For instances, how many times is the string \"digital_humanities\" used? Or what all the occurrences of the acronym dh (also spelled DH)?"
   ]
  },
  {
   "cell_type": "code",
   "execution_count": 39,
   "metadata": {},
   "outputs": [],
   "source": [
    "import re\n",
    "\n",
    "matches = re.finditer(r'\\bdh\\b', definitions, re.IGNORECASE)"
   ]
  },
  {
   "cell_type": "code",
   "execution_count": null,
   "metadata": {},
   "outputs": [],
   "source": [
    "for m in matches:\n",
    "    start, stop = m.span()\n",
    "    try:\n",
    "        print(definitions[start -25: stop + 25].replace('\\n', ' '))\n",
    "    except IndexError:\n",
    "        print(m.group(), start, stop)\n",
    "\n",
    "# let's print the total number of matches \n",
    "print(definitions.count('digital_humanities'))"
   ]
  },
  {
   "cell_type": "markdown",
   "metadata": {},
   "source": [
    "## Get rid of the most frequent words (stopwords)"
   ]
  },
  {
   "cell_type": "code",
   "execution_count": 44,
   "metadata": {},
   "outputs": [],
   "source": [
    "with open('../data/en-stopwords.txt') as f:\n",
    "    stops = [w.strip('\\n') for w in f.readlines()]"
   ]
  },
  {
   "cell_type": "code",
   "execution_count": null,
   "metadata": {},
   "outputs": [],
   "source": [
    "stops[-5:]"
   ]
  },
  {
   "cell_type": "markdown",
   "metadata": {},
   "source": [
    "However, it's not enough to get rid of frequent words like 'that' or 'of'. Since we're dealing with a list of definitions of Digital Humanities, I expect the phrase \"Digital Humanities\" and the acronym \"DH\" to be quite frequent, but not very informative (we *know* that this texts talk about DH!). At the same time I'd like to keep the separate words `digital` and `humanities` too...\n",
    "\n",
    "How do we do that?"
   ]
  },
  {
   "cell_type": "code",
   "execution_count": 55,
   "metadata": {},
   "outputs": [],
   "source": [
    "stops += ['digital_humanities', 'dh']"
   ]
  },
  {
   "cell_type": "markdown",
   "metadata": {},
   "source": [
    "## Create the wordclouds"
   ]
  },
  {
   "cell_type": "markdown",
   "metadata": {},
   "source": [
    "We need a library to be able to do that..."
   ]
  },
  {
   "cell_type": "code",
   "execution_count": null,
   "metadata": {},
   "outputs": [],
   "source": [
    "%pip install wordcloud pip matplotlib"
   ]
  },
  {
   "cell_type": "code",
   "execution_count": 56,
   "metadata": {},
   "outputs": [],
   "source": [
    "from wordcloud import WordCloud\n",
    "import matplotlib.pyplot as plt\n",
    "\n",
    "wordcloud = WordCloud(width=800, height=400, \n",
    "                      background_color='white', \n",
    "                    #   collocations=False,\n",
    "                      stopwords=stops).generate(definitions)"
   ]
  },
  {
   "cell_type": "code",
   "execution_count": null,
   "metadata": {},
   "outputs": [],
   "source": [
    "plt.figure(figsize=(12, 12))\n",
    "plt.imshow(wordcloud, interpolation='bilinear')\n",
    "plt.axis('off')\n",
    "plt.show()"
   ]
  },
  {
   "cell_type": "code",
   "execution_count": null,
   "metadata": {},
   "outputs": [],
   "source": []
  }
 ],
 "metadata": {
  "kernelspec": {
   "display_name": "data-env",
   "language": "python",
   "name": "data-env"
  },
  "language_info": {
   "codemirror_mode": {
    "name": "ipython",
    "version": 3
   },
   "file_extension": ".py",
   "mimetype": "text/x-python",
   "name": "python",
   "nbconvert_exporter": "python",
   "pygments_lexer": "ipython3",
   "version": "3.10.2"
  },
  "orig_nbformat": 4
 },
 "nbformat": 4,
 "nbformat_minor": 2
}
