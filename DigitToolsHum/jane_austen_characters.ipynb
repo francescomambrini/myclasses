{
 "cells": [
  {
   "cell_type": "markdown",
   "metadata": {},
   "source": [
    "# Explore the language of characters in J. Austen's novels"
   ]
  },
  {
   "cell_type": "code",
   "execution_count": 315,
   "metadata": {},
   "outputs": [],
   "source": [
    "from sklearn.feature_extraction.text import TfidfVectorizer, CountVectorizer\n",
    "from nltk.tokenize import WordPunctTokenizer\n",
    "from nltk.stem import WordNetLemmatizer\n",
    "import pandas as pd\n"
   ]
  },
  {
   "cell_type": "markdown",
   "metadata": {},
   "source": [
    "## Introduction"
   ]
  },
  {
   "cell_type": "markdown",
   "metadata": {},
   "source": [
    "In 1987 J.F. Burrows published his computational study on the language of the characters in the 6 complete novels of Jane Austen ([*Computation into Criticism*](https://archive.org/details/computationintoc0000burr), Oxford University Press, 1987). We will talk again about Burrows’ methodology and results.\n",
    "\n",
    "In his introduction, the author discusses the great amount of work (it was 1987!) required to prepare the data to support his intended analyses. Burrows’ team had to tag the full text of Austen’s novels, by marking information on a series of linguistic aspects (e.g. multiwords, mentions of persons, disambiguation of POSs, like $to_{conjunction}$ vs $to_{preposition}$). But in particular, Burrows had the direct speech (with character attribution) marked into the text.\n",
    "\n",
    "Eventually, these tagged texts were made publicly available. They are currently distributed by the Oxford Text Archive ([OTA](https://ota.bodleian.ox.ac.uk/repository/xmlui/)), which is also part of [CLARIN-UK](https://www.clarin.ac.uk/oxford-text-archive).\n",
    "\n",
    "[This](https://ota.bodleian.ox.ac.uk/repository/xmlui/handle/20.500.12024/1227), for instance, is the data page for *Mansfield Park*. The following is a snippet of how the data are encoded:\n",
    "\n",
    "```tsv\n",
    "101:  3, 1'  !| It is a truth universally acknowledged, that$3$ a single man\n",
    "101:  3, 2'  !| in possession of a good fortune, must be in want$0$ of a wife.\n",
    "101:  3, 3'  !| However little known the feelings or views of such a\n",
    "101:  3, 4'  !| man may$1$ be on$4$ his first entering a neighbourhood, this\n",
    "101:  3, 5'  !| truth is so$5#1$ well$9$ fixed in the minds of the surrounding\n",
    "101:  3, 6'  !| families, that$3$ he is considered as the rightful property of\n",
    "101:  3, 7'  !| some one or other of their daughters.\n",
    "101:  3, 8D  !| \"My dear$2#1$ $PP#C$Mr%*Bennet,\"\n",
    "101:  3, 8'  !| said his lady to$4$ him one day,\n",
    "101:  3, 9D  !| \"have you heard that$3$ Netherfield*Park is let at last$0$?\"\n",
    "101:  3,10'  !| $PP#C$Mr%*Bennet replied that$3$ he had not.\n",
    "101:  3,11D  !| \"But it is,\"\n",
    "101:  3,11'  !| returned she;\n",
    "\n",
    "\n",
    "```"
   ]
  },
  {
   "cell_type": "markdown",
   "metadata": {},
   "source": [
    "Although I have worked quite a bit with Burrows' analyses (see [here](https://classics-at.chs.harvard.edu/the-syntax-of-the-heroes-a-treebank-based-approach-to-the-language-of-the-sophoclean-characters/) for instance), I have *just* discovered this dataset!\n",
    "\n",
    "For today's class I have done a (quick and dirty) extraction of the direct speeches, so that we can apply some of the simple exploratory and analytical techniques that we discussed so far to get a glimpse of how the characters talk in JA's novels and of what. I have prepared two dataframes: one with every line in the encoded files, with a code representing the speaking character, and a dataframe with some metadata about the characters (including, first and foremost, the decoding of the character codes like `3A` used by Burrows). These metadata were derived from the calculations printed in the tables of the \"Appendix C\" of *Computation into Criticism\" (Burrows 1987: 228-246)\n",
    "\n",
    "We will talk again about more in-depth stylistic analyses!"
   ]
  },
  {
   "cell_type": "markdown",
   "metadata": {},
   "source": [
    "## Load and preprocess"
   ]
  },
  {
   "cell_type": "markdown",
   "metadata": {},
   "source": [
    "First, we load the CSV file with the lines and speakers in a pandas DataFrame"
   ]
  },
  {
   "cell_type": "code",
   "execution_count": 287,
   "metadata": {},
   "outputs": [
    {
     "data": {
      "text/html": [
       "<div>\n",
       "<style scoped>\n",
       "    .dataframe tbody tr th:only-of-type {\n",
       "        vertical-align: middle;\n",
       "    }\n",
       "\n",
       "    .dataframe tbody tr th {\n",
       "        vertical-align: top;\n",
       "    }\n",
       "\n",
       "    .dataframe thead th {\n",
       "        text-align: right;\n",
       "    }\n",
       "</style>\n",
       "<table border=\"1\" class=\"dataframe\">\n",
       "  <thead>\n",
       "    <tr style=\"text-align: right;\">\n",
       "      <th></th>\n",
       "      <th>Character</th>\n",
       "      <th>Line</th>\n",
       "      <th>Ref</th>\n",
       "    </tr>\n",
       "  </thead>\n",
       "  <tbody>\n",
       "    <tr>\n",
       "      <th>0</th>\n",
       "      <td>1A</td>\n",
       "      <td>\"How uncomfortable it is,\"</td>\n",
       "      <td>102: 22,20A  !</td>\n",
       "    </tr>\n",
       "    <tr>\n",
       "      <th>1</th>\n",
       "      <td>1A</td>\n",
       "      <td>\"not</td>\n",
       "      <td>102: 22,20A  !</td>\n",
       "    </tr>\n",
       "    <tr>\n",
       "      <th>2</th>\n",
       "      <td>1A</td>\n",
       "      <td>to have a single acquaintance here|\"</td>\n",
       "      <td>102: 22,21A  !</td>\n",
       "    </tr>\n",
       "    <tr>\n",
       "      <th>3</th>\n",
       "      <td>1A</td>\n",
       "      <td>\"What shall we do? ~ The gentlemen and ladies at</td>\n",
       "      <td>102: 22,22A  !</td>\n",
       "    </tr>\n",
       "    <tr>\n",
       "      <th>4</th>\n",
       "      <td>1A</td>\n",
       "      <td>this table look as if they wondered why we cam...</td>\n",
       "      <td>102: 22,23A  !</td>\n",
       "    </tr>\n",
       "  </tbody>\n",
       "</table>\n",
       "</div>"
      ],
      "text/plain": [
       "  Character                                               Line             Ref\n",
       "0        1A                         \"How uncomfortable it is,\"  102: 22,20A  !\n",
       "1        1A                                               \"not  102: 22,20A  !\n",
       "2        1A               to have a single acquaintance here|\"  102: 22,21A  !\n",
       "3        1A   \"What shall we do? ~ The gentlemen and ladies at  102: 22,22A  !\n",
       "4        1A  this table look as if they wondered why we cam...  102: 22,23A  !"
      ]
     },
     "execution_count": 287,
     "metadata": {},
     "output_type": "execute_result"
    }
   ],
   "source": [
    "df = pd.read_csv('austen_dir_speech.txt', sep='\\t', quoting=3, names=['Character', 'Line', 'Ref'])\n",
    "df.head()"
   ]
  },
  {
   "cell_type": "markdown",
   "metadata": {},
   "source": [
    "Then we load the second table with the character metadata in another dataframe"
   ]
  },
  {
   "cell_type": "code",
   "execution_count": 288,
   "metadata": {},
   "outputs": [
    {
     "data": {
      "text/html": [
       "<div>\n",
       "<style scoped>\n",
       "    .dataframe tbody tr th:only-of-type {\n",
       "        vertical-align: middle;\n",
       "    }\n",
       "\n",
       "    .dataframe tbody tr th {\n",
       "        vertical-align: top;\n",
       "    }\n",
       "\n",
       "    .dataframe thead th {\n",
       "        text-align: right;\n",
       "    }\n",
       "</style>\n",
       "<table border=\"1\" class=\"dataframe\">\n",
       "  <thead>\n",
       "    <tr style=\"text-align: right;\">\n",
       "      <th></th>\n",
       "      <th>Name</th>\n",
       "      <th>isMain</th>\n",
       "      <th>isFemale</th>\n",
       "      <th>NovelAbbr</th>\n",
       "      <th>TokenNr</th>\n",
       "    </tr>\n",
       "    <tr>\n",
       "      <th>Code</th>\n",
       "      <th></th>\n",
       "      <th></th>\n",
       "      <th></th>\n",
       "      <th></th>\n",
       "      <th></th>\n",
       "    </tr>\n",
       "  </thead>\n",
       "  <tbody>\n",
       "    <tr>\n",
       "      <th>1A</th>\n",
       "      <td>Catherine</td>\n",
       "      <td>True</td>\n",
       "      <td>True</td>\n",
       "      <td>D1</td>\n",
       "      <td>7040</td>\n",
       "    </tr>\n",
       "    <tr>\n",
       "      <th>1B</th>\n",
       "      <td>Henry Tilney</td>\n",
       "      <td>True</td>\n",
       "      <td>False</td>\n",
       "      <td>D1</td>\n",
       "      <td>6149</td>\n",
       "    </tr>\n",
       "    <tr>\n",
       "      <th>1D</th>\n",
       "      <td>Isabella Thorpe</td>\n",
       "      <td>False</td>\n",
       "      <td>True</td>\n",
       "      <td>D1</td>\n",
       "      <td>5657</td>\n",
       "    </tr>\n",
       "    <tr>\n",
       "      <th>1E</th>\n",
       "      <td>John Thorpe</td>\n",
       "      <td>False</td>\n",
       "      <td>False</td>\n",
       "      <td>D1</td>\n",
       "      <td>2928</td>\n",
       "    </tr>\n",
       "    <tr>\n",
       "      <th>1C</th>\n",
       "      <td>Eleanor Tilney</td>\n",
       "      <td>False</td>\n",
       "      <td>True</td>\n",
       "      <td>D1</td>\n",
       "      <td>1938</td>\n",
       "    </tr>\n",
       "  </tbody>\n",
       "</table>\n",
       "</div>"
      ],
      "text/plain": [
       "                 Name  isMain  isFemale NovelAbbr  TokenNr\n",
       "Code                                                      \n",
       "1A          Catherine    True      True        D1     7040\n",
       "1B       Henry Tilney    True     False        D1     6149\n",
       "1D    Isabella Thorpe   False      True        D1     5657\n",
       "1E        John Thorpe   False     False        D1     2928\n",
       "1C     Eleanor Tilney   False      True        D1     1938"
      ]
     },
     "execution_count": 288,
     "metadata": {},
     "output_type": "execute_result"
    }
   ],
   "source": [
    "char_df = pd.read_csv('characters.csv', index_col='Code')\n",
    "char_df.head()"
   ]
  },
  {
   "cell_type": "markdown",
   "metadata": {},
   "source": [
    "### Preprocess"
   ]
  },
  {
   "cell_type": "markdown",
   "metadata": {},
   "source": [
    "We instantiate the default tokenizer of NLTK and define the usual function to get rid of all punctuation and tokens not made by unicode characters"
   ]
  },
  {
   "cell_type": "code",
   "execution_count": 226,
   "metadata": {},
   "outputs": [],
   "source": [
    "punkt_tok = WordPunctTokenizer()"
   ]
  },
  {
   "cell_type": "code",
   "execution_count": 227,
   "metadata": {},
   "outputs": [],
   "source": [
    "def clean(tok):\n",
    "    import regex\n",
    "    return regex.sub(r'[^\\p{L}]+', '', tok)"
   ]
  },
  {
   "cell_type": "markdown",
   "metadata": {},
   "source": [
    "There is a lot of typografic encoding in Burrows! For the presence, we get rid of all of it. Let's see how our function works with one example from our corpus:"
   ]
  },
  {
   "cell_type": "code",
   "execution_count": 228,
   "metadata": {},
   "outputs": [
    {
     "name": "stdout",
     "output_type": "stream",
     "text": [
      "No\n",
      "\n",
      "indeed\n",
      "\n",
      "it\n",
      "looks\n",
      "very\n",
      "nice\n",
      "\n",
      "But\n",
      "\n",
      "dear\n",
      "Mrs\n",
      "\n",
      "Allen\n"
     ]
    }
   ],
   "source": [
    "s = 'No, indeed, it looks very nice.~ But, dear Mrs% Allen'\n",
    "for tok in punkt_tok.tokenize(s):\n",
    "    print(clean(tok))"
   ]
  },
  {
   "cell_type": "markdown",
   "metadata": {},
   "source": [
    "Before we go on, however, we must group all the direct speeches of each character in a document in and of itself."
   ]
  },
  {
   "cell_type": "code",
   "execution_count": 230,
   "metadata": {},
   "outputs": [],
   "source": [
    "from collections import defaultdict\n",
    "from tqdm import tqdm\n",
    "\n",
    "char_texts = defaultdict(str)\n",
    "\n",
    "for t in df.itertuples():\n",
    "    # doc = nlp(t.Line)\n",
    "    char_texts[t.Character] += ' ' + t.Line.rstrip()"
   ]
  },
  {
   "cell_type": "markdown",
   "metadata": {},
   "source": [
    "This is the whole string of Fanny Price's speeches (*Mansfield Park*), without processing"
   ]
  },
  {
   "cell_type": "code",
   "execution_count": 350,
   "metadata": {},
   "outputs": [
    {
     "data": {
      "text/plain": [
       "' \"no, no ~ not at all ~ no, thank you;\" \"William did not like she should come away ~ he had told her'"
      ]
     },
     "execution_count": 350,
     "metadata": {},
     "output_type": "execute_result"
    }
   ],
   "source": [
    "char_texts['4A'][:100]"
   ]
  },
  {
   "cell_type": "code",
   "execution_count": 236,
   "metadata": {},
   "outputs": [
    {
     "data": {
      "text/plain": [
       "['\"', 'no', ',', 'no', '~', 'not', 'at', 'all', '~', 'no']"
      ]
     },
     "execution_count": 236,
     "metadata": {},
     "output_type": "execute_result"
    }
   ],
   "source": [
    "punkt_tok.tokenize(char_texts['4A'])[:10]"
   ]
  },
  {
   "cell_type": "code",
   "execution_count": 316,
   "metadata": {},
   "outputs": [],
   "source": [
    "char_tok_dict = defaultdict(list)\n",
    "wnl = WordNetLemmatizer()\n",
    "\n",
    "for ch, txt in char_texts.items():\n",
    "    toks = [clean(t.lower()) for t in punkt_tok.tokenize(txt)]\n",
    "    toks = [t for t in toks if t.strip() != '']\n",
    "    toks = [wnl.lemmatize(t) for t in toks]\n",
    "    char_tok_dict[ch] += toks"
   ]
  },
  {
   "cell_type": "code",
   "execution_count": 317,
   "metadata": {},
   "outputs": [
    {
     "data": {
      "text/plain": [
       "['no', 'no', 'not', 'at', 'all', 'no', 'thank', 'you', 'william', 'did']"
      ]
     },
     "execution_count": 317,
     "metadata": {},
     "output_type": "execute_result"
    }
   ],
   "source": [
    "char_tok_dict['4A'][:10]"
   ]
  },
  {
   "cell_type": "markdown",
   "metadata": {},
   "source": [
    "### Optional: filter the number of characters"
   ]
  },
  {
   "cell_type": "code",
   "execution_count": 320,
   "metadata": {},
   "outputs": [],
   "source": [
    "main_chs = list(char_df[char_df.isMain == True].index)"
   ]
  },
  {
   "cell_type": "code",
   "execution_count": 321,
   "metadata": {},
   "outputs": [
    {
     "data": {
      "text/plain": [
       "48"
      ]
     },
     "execution_count": 321,
     "metadata": {},
     "output_type": "execute_result"
    }
   ],
   "source": [
    "keep = list(char_tok_dict)\n",
    "len(keep)"
   ]
  },
  {
   "cell_type": "markdown",
   "metadata": {},
   "source": [
    "Uncomment the following if you want to keep only the main characters. Or save any other list of characters as `keep`"
   ]
  },
  {
   "cell_type": "code",
   "execution_count": null,
   "metadata": {},
   "outputs": [],
   "source": [
    "# uncomment to filter\n",
    "# keep = main_chs"
   ]
  },
  {
   "cell_type": "code",
   "execution_count": 322,
   "metadata": {},
   "outputs": [
    {
     "name": "stdout",
     "output_type": "stream",
     "text": [
      "48 48\n"
     ]
    }
   ],
   "source": [
    "docs = []\n",
    "chars = []\n",
    "\n",
    "for k,v in char_tok_dict.items():\n",
    "    if k in keep:\n",
    "        chars.append(k)\n",
    "        docs.append(v)\n",
    "\n",
    "assert len(docs) == len(chars), \"Doc and character lists not in sync!\"\n",
    "\n",
    "print(len(docs), len(chars))"
   ]
  },
  {
   "cell_type": "markdown",
   "metadata": {},
   "source": [
    "## D-T Matrix and Tf-Idf Matrix"
   ]
  },
  {
   "cell_type": "code",
   "execution_count": 323,
   "metadata": {},
   "outputs": [
    {
     "data": {
      "text/html": [
       "<div>\n",
       "<style scoped>\n",
       "    .dataframe tbody tr th:only-of-type {\n",
       "        vertical-align: middle;\n",
       "    }\n",
       "\n",
       "    .dataframe tbody tr th {\n",
       "        vertical-align: top;\n",
       "    }\n",
       "\n",
       "    .dataframe thead th {\n",
       "        text-align: right;\n",
       "    }\n",
       "</style>\n",
       "<table border=\"1\" class=\"dataframe\">\n",
       "  <thead>\n",
       "    <tr style=\"text-align: right;\">\n",
       "      <th></th>\n",
       "      <th>abbey</th>\n",
       "      <th>abhor</th>\n",
       "      <th>abhorrence</th>\n",
       "      <th>abide</th>\n",
       "      <th>ability</th>\n",
       "      <th>able</th>\n",
       "      <th>abode</th>\n",
       "      <th>abominable</th>\n",
       "      <th>abominably</th>\n",
       "      <th>above</th>\n",
       "      <th>...</th>\n",
       "      <th>yielding</th>\n",
       "      <th>york</th>\n",
       "      <th>yorkshire</th>\n",
       "      <th>younge</th>\n",
       "      <th>younger</th>\n",
       "      <th>youngest</th>\n",
       "      <th>yours</th>\n",
       "      <th>yourself</th>\n",
       "      <th>yourselves</th>\n",
       "      <th>youth</th>\n",
       "    </tr>\n",
       "  </thead>\n",
       "  <tbody>\n",
       "    <tr>\n",
       "      <th>1A</th>\n",
       "      <td>0.001736</td>\n",
       "      <td>0.000000</td>\n",
       "      <td>0.0</td>\n",
       "      <td>0.0</td>\n",
       "      <td>0.000000</td>\n",
       "      <td>0.001157</td>\n",
       "      <td>0.0</td>\n",
       "      <td>0.0</td>\n",
       "      <td>0.000000</td>\n",
       "      <td>0.000000</td>\n",
       "      <td>...</td>\n",
       "      <td>0.0</td>\n",
       "      <td>0.000000</td>\n",
       "      <td>0.0</td>\n",
       "      <td>0.0</td>\n",
       "      <td>0.000000</td>\n",
       "      <td>0.0</td>\n",
       "      <td>0.000000</td>\n",
       "      <td>0.002315</td>\n",
       "      <td>0.000000</td>\n",
       "      <td>0.000000</td>\n",
       "    </tr>\n",
       "    <tr>\n",
       "      <th>1B</th>\n",
       "      <td>0.001003</td>\n",
       "      <td>0.000000</td>\n",
       "      <td>0.0</td>\n",
       "      <td>0.0</td>\n",
       "      <td>0.000502</td>\n",
       "      <td>0.002508</td>\n",
       "      <td>0.0</td>\n",
       "      <td>0.0</td>\n",
       "      <td>0.000000</td>\n",
       "      <td>0.000000</td>\n",
       "      <td>...</td>\n",
       "      <td>0.0</td>\n",
       "      <td>0.000000</td>\n",
       "      <td>0.0</td>\n",
       "      <td>0.0</td>\n",
       "      <td>0.000000</td>\n",
       "      <td>0.0</td>\n",
       "      <td>0.001003</td>\n",
       "      <td>0.003009</td>\n",
       "      <td>0.000000</td>\n",
       "      <td>0.000000</td>\n",
       "    </tr>\n",
       "    <tr>\n",
       "      <th>1D</th>\n",
       "      <td>0.000000</td>\n",
       "      <td>0.001221</td>\n",
       "      <td>0.0</td>\n",
       "      <td>0.0</td>\n",
       "      <td>0.000000</td>\n",
       "      <td>0.000000</td>\n",
       "      <td>0.0</td>\n",
       "      <td>0.0</td>\n",
       "      <td>0.000611</td>\n",
       "      <td>0.001221</td>\n",
       "      <td>...</td>\n",
       "      <td>0.0</td>\n",
       "      <td>0.000000</td>\n",
       "      <td>0.0</td>\n",
       "      <td>0.0</td>\n",
       "      <td>0.000000</td>\n",
       "      <td>0.0</td>\n",
       "      <td>0.001221</td>\n",
       "      <td>0.003053</td>\n",
       "      <td>0.000611</td>\n",
       "      <td>0.000611</td>\n",
       "    </tr>\n",
       "    <tr>\n",
       "      <th>1E</th>\n",
       "      <td>0.000000</td>\n",
       "      <td>0.000000</td>\n",
       "      <td>0.0</td>\n",
       "      <td>0.0</td>\n",
       "      <td>0.000000</td>\n",
       "      <td>0.002268</td>\n",
       "      <td>0.0</td>\n",
       "      <td>0.0</td>\n",
       "      <td>0.000000</td>\n",
       "      <td>0.001134</td>\n",
       "      <td>...</td>\n",
       "      <td>0.0</td>\n",
       "      <td>0.001134</td>\n",
       "      <td>0.0</td>\n",
       "      <td>0.0</td>\n",
       "      <td>0.001134</td>\n",
       "      <td>0.0</td>\n",
       "      <td>0.001134</td>\n",
       "      <td>0.002268</td>\n",
       "      <td>0.000000</td>\n",
       "      <td>0.000000</td>\n",
       "    </tr>\n",
       "    <tr>\n",
       "      <th>1C</th>\n",
       "      <td>0.000000</td>\n",
       "      <td>0.000000</td>\n",
       "      <td>0.0</td>\n",
       "      <td>0.0</td>\n",
       "      <td>0.000000</td>\n",
       "      <td>0.000000</td>\n",
       "      <td>0.0</td>\n",
       "      <td>0.0</td>\n",
       "      <td>0.000000</td>\n",
       "      <td>0.000000</td>\n",
       "      <td>...</td>\n",
       "      <td>0.0</td>\n",
       "      <td>0.000000</td>\n",
       "      <td>0.0</td>\n",
       "      <td>0.0</td>\n",
       "      <td>0.000000</td>\n",
       "      <td>0.0</td>\n",
       "      <td>0.000000</td>\n",
       "      <td>0.001795</td>\n",
       "      <td>0.000000</td>\n",
       "      <td>0.000000</td>\n",
       "    </tr>\n",
       "  </tbody>\n",
       "</table>\n",
       "<p>5 rows × 4629 columns</p>\n",
       "</div>"
      ],
      "text/plain": [
       "       abbey     abhor  abhorrence  abide   ability      able  abode  \\\n",
       "1A  0.001736  0.000000         0.0    0.0  0.000000  0.001157    0.0   \n",
       "1B  0.001003  0.000000         0.0    0.0  0.000502  0.002508    0.0   \n",
       "1D  0.000000  0.001221         0.0    0.0  0.000000  0.000000    0.0   \n",
       "1E  0.000000  0.000000         0.0    0.0  0.000000  0.002268    0.0   \n",
       "1C  0.000000  0.000000         0.0    0.0  0.000000  0.000000    0.0   \n",
       "\n",
       "    abominable  abominably     above  ...  yielding      york  yorkshire  \\\n",
       "1A         0.0    0.000000  0.000000  ...       0.0  0.000000        0.0   \n",
       "1B         0.0    0.000000  0.000000  ...       0.0  0.000000        0.0   \n",
       "1D         0.0    0.000611  0.001221  ...       0.0  0.000000        0.0   \n",
       "1E         0.0    0.000000  0.001134  ...       0.0  0.001134        0.0   \n",
       "1C         0.0    0.000000  0.000000  ...       0.0  0.000000        0.0   \n",
       "\n",
       "    younge   younger  youngest     yours  yourself  yourselves     youth  \n",
       "1A     0.0  0.000000       0.0  0.000000  0.002315    0.000000  0.000000  \n",
       "1B     0.0  0.000000       0.0  0.001003  0.003009    0.000000  0.000000  \n",
       "1D     0.0  0.000000       0.0  0.001221  0.003053    0.000611  0.000611  \n",
       "1E     0.0  0.001134       0.0  0.001134  0.002268    0.000000  0.000000  \n",
       "1C     0.0  0.000000       0.0  0.000000  0.001795    0.000000  0.000000  \n",
       "\n",
       "[5 rows x 4629 columns]"
      ]
     },
     "execution_count": 323,
     "metadata": {},
     "output_type": "execute_result"
    }
   ],
   "source": [
    "raw_vectorizer = TfidfVectorizer(analyzer=lambda x: x,\n",
    "                            use_idf=False,\n",
    "                            max_df=.90,\n",
    "                            min_df=2,\n",
    "                            norm='l1',\n",
    "                            # max_features=1000,\n",
    "                            lowercase=False, \n",
    "                            # stop_words=sw, \n",
    "                            binary=False)\n",
    "vect_matrix = raw_vectorizer.fit_transform(docs)\n",
    "feature_names = raw_vectorizer.get_feature_names_out()\n",
    "raw_df = pd.DataFrame(vect_matrix.toarray(), columns=feature_names, index=chars)\n",
    "raw_df.head()"
   ]
  },
  {
   "cell_type": "code",
   "execution_count": 324,
   "metadata": {},
   "outputs": [
    {
     "data": {
      "text/html": [
       "<div>\n",
       "<style scoped>\n",
       "    .dataframe tbody tr th:only-of-type {\n",
       "        vertical-align: middle;\n",
       "    }\n",
       "\n",
       "    .dataframe tbody tr th {\n",
       "        vertical-align: top;\n",
       "    }\n",
       "\n",
       "    .dataframe thead th {\n",
       "        text-align: right;\n",
       "    }\n",
       "</style>\n",
       "<table border=\"1\" class=\"dataframe\">\n",
       "  <thead>\n",
       "    <tr style=\"text-align: right;\">\n",
       "      <th></th>\n",
       "      <th>abbey</th>\n",
       "      <th>abhor</th>\n",
       "      <th>abhorrence</th>\n",
       "      <th>abide</th>\n",
       "      <th>ability</th>\n",
       "      <th>able</th>\n",
       "      <th>abode</th>\n",
       "      <th>abominable</th>\n",
       "      <th>abominably</th>\n",
       "      <th>above</th>\n",
       "      <th>...</th>\n",
       "      <th>yielding</th>\n",
       "      <th>york</th>\n",
       "      <th>yorkshire</th>\n",
       "      <th>younge</th>\n",
       "      <th>younger</th>\n",
       "      <th>youngest</th>\n",
       "      <th>yours</th>\n",
       "      <th>yourself</th>\n",
       "      <th>yourselves</th>\n",
       "      <th>youth</th>\n",
       "    </tr>\n",
       "  </thead>\n",
       "  <tbody>\n",
       "    <tr>\n",
       "      <th>1A</th>\n",
       "      <td>0.002737</td>\n",
       "      <td>0.0000</td>\n",
       "      <td>0.0</td>\n",
       "      <td>0.0</td>\n",
       "      <td>0.00000</td>\n",
       "      <td>0.000828</td>\n",
       "      <td>0.0</td>\n",
       "      <td>0.0</td>\n",
       "      <td>0.000000</td>\n",
       "      <td>0.000000</td>\n",
       "      <td>...</td>\n",
       "      <td>0.0</td>\n",
       "      <td>0.000000</td>\n",
       "      <td>0.0</td>\n",
       "      <td>0.0</td>\n",
       "      <td>0.00000</td>\n",
       "      <td>0.0</td>\n",
       "      <td>0.000000</td>\n",
       "      <td>0.001372</td>\n",
       "      <td>0.000000</td>\n",
       "      <td>0.000000</td>\n",
       "    </tr>\n",
       "    <tr>\n",
       "      <th>1B</th>\n",
       "      <td>0.001406</td>\n",
       "      <td>0.0000</td>\n",
       "      <td>0.0</td>\n",
       "      <td>0.0</td>\n",
       "      <td>0.00074</td>\n",
       "      <td>0.001595</td>\n",
       "      <td>0.0</td>\n",
       "      <td>0.0</td>\n",
       "      <td>0.000000</td>\n",
       "      <td>0.000000</td>\n",
       "      <td>...</td>\n",
       "      <td>0.0</td>\n",
       "      <td>0.000000</td>\n",
       "      <td>0.0</td>\n",
       "      <td>0.0</td>\n",
       "      <td>0.00000</td>\n",
       "      <td>0.0</td>\n",
       "      <td>0.000780</td>\n",
       "      <td>0.001586</td>\n",
       "      <td>0.000000</td>\n",
       "      <td>0.000000</td>\n",
       "    </tr>\n",
       "    <tr>\n",
       "      <th>1D</th>\n",
       "      <td>0.000000</td>\n",
       "      <td>0.0021</td>\n",
       "      <td>0.0</td>\n",
       "      <td>0.0</td>\n",
       "      <td>0.00000</td>\n",
       "      <td>0.000000</td>\n",
       "      <td>0.0</td>\n",
       "      <td>0.0</td>\n",
       "      <td>0.000992</td>\n",
       "      <td>0.001021</td>\n",
       "      <td>...</td>\n",
       "      <td>0.0</td>\n",
       "      <td>0.000000</td>\n",
       "      <td>0.0</td>\n",
       "      <td>0.0</td>\n",
       "      <td>0.00000</td>\n",
       "      <td>0.0</td>\n",
       "      <td>0.001045</td>\n",
       "      <td>0.001772</td>\n",
       "      <td>0.000828</td>\n",
       "      <td>0.000798</td>\n",
       "    </tr>\n",
       "    <tr>\n",
       "      <th>1E</th>\n",
       "      <td>0.000000</td>\n",
       "      <td>0.0000</td>\n",
       "      <td>0.0</td>\n",
       "      <td>0.0</td>\n",
       "      <td>0.00000</td>\n",
       "      <td>0.001505</td>\n",
       "      <td>0.0</td>\n",
       "      <td>0.0</td>\n",
       "      <td>0.000000</td>\n",
       "      <td>0.000899</td>\n",
       "      <td>...</td>\n",
       "      <td>0.0</td>\n",
       "      <td>0.001974</td>\n",
       "      <td>0.0</td>\n",
       "      <td>0.0</td>\n",
       "      <td>0.00123</td>\n",
       "      <td>0.0</td>\n",
       "      <td>0.000920</td>\n",
       "      <td>0.001248</td>\n",
       "      <td>0.000000</td>\n",
       "      <td>0.000000</td>\n",
       "    </tr>\n",
       "    <tr>\n",
       "      <th>1C</th>\n",
       "      <td>0.000000</td>\n",
       "      <td>0.0000</td>\n",
       "      <td>0.0</td>\n",
       "      <td>0.0</td>\n",
       "      <td>0.00000</td>\n",
       "      <td>0.000000</td>\n",
       "      <td>0.0</td>\n",
       "      <td>0.0</td>\n",
       "      <td>0.000000</td>\n",
       "      <td>0.000000</td>\n",
       "      <td>...</td>\n",
       "      <td>0.0</td>\n",
       "      <td>0.000000</td>\n",
       "      <td>0.0</td>\n",
       "      <td>0.0</td>\n",
       "      <td>0.00000</td>\n",
       "      <td>0.0</td>\n",
       "      <td>0.000000</td>\n",
       "      <td>0.001011</td>\n",
       "      <td>0.000000</td>\n",
       "      <td>0.000000</td>\n",
       "    </tr>\n",
       "  </tbody>\n",
       "</table>\n",
       "<p>5 rows × 4629 columns</p>\n",
       "</div>"
      ],
      "text/plain": [
       "       abbey   abhor  abhorrence  abide  ability      able  abode  abominable  \\\n",
       "1A  0.002737  0.0000         0.0    0.0  0.00000  0.000828    0.0         0.0   \n",
       "1B  0.001406  0.0000         0.0    0.0  0.00074  0.001595    0.0         0.0   \n",
       "1D  0.000000  0.0021         0.0    0.0  0.00000  0.000000    0.0         0.0   \n",
       "1E  0.000000  0.0000         0.0    0.0  0.00000  0.001505    0.0         0.0   \n",
       "1C  0.000000  0.0000         0.0    0.0  0.00000  0.000000    0.0         0.0   \n",
       "\n",
       "    abominably     above  ...  yielding      york  yorkshire  younge  younger  \\\n",
       "1A    0.000000  0.000000  ...       0.0  0.000000        0.0     0.0  0.00000   \n",
       "1B    0.000000  0.000000  ...       0.0  0.000000        0.0     0.0  0.00000   \n",
       "1D    0.000992  0.001021  ...       0.0  0.000000        0.0     0.0  0.00000   \n",
       "1E    0.000000  0.000899  ...       0.0  0.001974        0.0     0.0  0.00123   \n",
       "1C    0.000000  0.000000  ...       0.0  0.000000        0.0     0.0  0.00000   \n",
       "\n",
       "    youngest     yours  yourself  yourselves     youth  \n",
       "1A       0.0  0.000000  0.001372    0.000000  0.000000  \n",
       "1B       0.0  0.000780  0.001586    0.000000  0.000000  \n",
       "1D       0.0  0.001045  0.001772    0.000828  0.000798  \n",
       "1E       0.0  0.000920  0.001248    0.000000  0.000000  \n",
       "1C       0.0  0.000000  0.001011    0.000000  0.000000  \n",
       "\n",
       "[5 rows x 4629 columns]"
      ]
     },
     "execution_count": 324,
     "metadata": {},
     "output_type": "execute_result"
    }
   ],
   "source": [
    "tfidf_vectorizer = TfidfVectorizer(analyzer=lambda x: x,\n",
    "                            max_df=.90,\n",
    "                            min_df=2,\n",
    "                            norm='l1',\n",
    "                            # max_features=1000,\n",
    "                            lowercase=False, \n",
    "                            # stop_words=sw, \n",
    "                            binary=False)\n",
    "vect_matrix = tfidf_vectorizer.fit_transform(docs)\n",
    "feature_names = tfidf_vectorizer.get_feature_names_out()\n",
    "tfidf_df = pd.DataFrame(vect_matrix.toarray(), columns=feature_names, index=chars)\n",
    "tfidf_df.head()"
   ]
  },
  {
   "cell_type": "markdown",
   "metadata": {},
   "source": [
    "### Exploration"
   ]
  },
  {
   "cell_type": "code",
   "execution_count": 325,
   "metadata": {},
   "outputs": [
    {
     "data": {
      "text/plain": [
       "oh           0.297000\n",
       "wish         0.200330\n",
       "sir          0.177446\n",
       "again        0.172669\n",
       "father       0.165311\n",
       "poor         0.160111\n",
       "let          0.154041\n",
       "fanny        0.153803\n",
       "many         0.149622\n",
       "something    0.149150\n",
       "mother       0.147470\n",
       "love         0.146171\n",
       "going        0.142012\n",
       "really       0.141822\n",
       "brother      0.141276\n",
       "came         0.139960\n",
       "room         0.135108\n",
       "body         0.133335\n",
       "certainly    0.130985\n",
       "want         0.130131\n",
       "letter       0.129190\n",
       "however      0.128636\n",
       "get          0.126633\n",
       "home         0.125887\n",
       "word         0.120859\n",
       "ought        0.116519\n",
       "yourself     0.113977\n",
       "heard        0.113935\n",
       "glad         0.113150\n",
       "dare         0.112097\n",
       "dtype: float64"
      ]
     },
     "execution_count": 325,
     "metadata": {},
     "output_type": "execute_result"
    }
   ],
   "source": [
    "column_sums = raw_df.sum(axis=0)\n",
    "\n",
    "column_sums.sort_values(ascending=False).head(30)"
   ]
  },
  {
   "cell_type": "code",
   "execution_count": 326,
   "metadata": {},
   "outputs": [],
   "source": [
    "names= char_df.loc[raw_df.index].Name\n",
    "genres = char_df.loc[raw_df.index].isFemale\n",
    "novels = char_df.loc[raw_df.index].NovelAbbr\n",
    "mains = char_df.loc[raw_df.index].isMain"
   ]
  },
  {
   "cell_type": "code",
   "execution_count": 351,
   "metadata": {},
   "outputs": [
    {
     "data": {
      "image/png": "[encoded data removed]",
      "text/plain": [
       "<Figure size 864x864 with 1 Axes>"
      ]
     },
     "metadata": {
      "needs_background": "light"
     },
     "output_type": "display_data"
    }
   ],
   "source": [
    "from matplotlib import pyplot as plt\n",
    "\n",
    "colors = ['deeppink' if val else 'blue' for val in genres]\n",
    "\n",
    "ax = raw_df['oh'].plot(kind='bar', xlabel='Characters', color=colors, rot=90)\n",
    "ax.set_xticks(range(len(names)))\n",
    "ax.set_xticklabels(names)\n",
    "plt.show()"
   ]
  },
  {
   "cell_type": "code",
   "execution_count": 330,
   "metadata": {},
   "outputs": [
    {
     "data": {
      "image/png": "[encoded data removed]",
      "text/plain": [
       "<Figure size 864x864 with 1 Axes>"
      ]
     },
     "metadata": {
      "needs_background": "light"
     },
     "output_type": "display_data"
    }
   ],
   "source": [
    "colors = ['darkblue' if val else 'gray' for val in mains]\n",
    "\n",
    "ax = raw_df['oh'].plot(kind='bar', xlabel='Characters', color=colors, rot=90)\n",
    "ax.set_xticks(range(len(names)))\n",
    "ax.set_xticklabels(names)\n",
    "plt.show()"
   ]
  },
  {
   "cell_type": "code",
   "execution_count": 340,
   "metadata": {},
   "outputs": [
    {
     "data": {
      "text/plain": [
       "darcy        0.030207\n",
       "pride        0.014308\n",
       "father       0.014308\n",
       "manner       0.009539\n",
       "living       0.007949\n",
       "often        0.007949\n",
       "late         0.006359\n",
       "society      0.006359\n",
       "best         0.006359\n",
       "part         0.006359\n",
       "ought        0.006359\n",
       "fortune      0.006359\n",
       "opinion      0.006359\n",
       "certain      0.006359\n",
       "sort         0.006359\n",
       "remember     0.004769\n",
       "many         0.004769\n",
       "hour         0.004769\n",
       "bourgh       0.004769\n",
       "together     0.004769\n",
       "chuses       0.004769\n",
       "mention      0.004769\n",
       "given        0.004769\n",
       "connected    0.004769\n",
       "aunt         0.004769\n",
       "wish         0.004769\n",
       "seen         0.004769\n",
       "different    0.004769\n",
       "agreeable    0.004769\n",
       "le           0.004769\n",
       "Name: 3V, dtype: float64"
      ]
     },
     "execution_count": 340,
     "metadata": {},
     "output_type": "execute_result"
    }
   ],
   "source": [
    "raw_df.loc['3V'].sort_values(ascending=False).head(30)"
   ]
  },
  {
   "cell_type": "markdown",
   "metadata": {},
   "source": [
    "### Clustered heatmap"
   ]
  },
  {
   "cell_type": "code",
   "execution_count": 349,
   "metadata": {},
   "outputs": [
    {
     "name": "stderr",
     "output_type": "stream",
     "text": [
      "/opt/homebrew/Caskroom/miniforge/base/envs/data/lib/python3.10/site-packages/seaborn/matrix.py:624: ClusterWarning: scipy.cluster: The symmetric non-negative hollow observation matrix looks suspiciously like an uncondensed distance matrix\n",
      "  linkage = hierarchy.linkage(self.array, method=self.method,\n",
      "/opt/homebrew/Caskroom/miniforge/base/envs/data/lib/python3.10/site-packages/seaborn/matrix.py:624: ClusterWarning: scipy.cluster: The symmetric non-negative hollow observation matrix looks suspiciously like an uncondensed distance matrix\n",
      "  linkage = hierarchy.linkage(self.array, method=self.method,\n"
     ]
    },
    {
     "data": {
      "text/plain": [
       "<Figure size 720x720 with 0 Axes>"
      ]
     },
     "metadata": {},
     "output_type": "display_data"
    },
    {
     "data": {
      "image/png": "[encoded data removed]",
      "text/plain": [
       "<Figure size 720x720 with 4 Axes>"
      ]
     },
     "metadata": {
      "needs_background": "light"
     },
     "output_type": "display_data"
    }
   ],
   "source": [
    "import seaborn as sns\n",
    "\n",
    "from scipy.spatial.distance import pdist, squareform\n",
    "\n",
    "data_array = raw_df.to_numpy()\n",
    "distances = pdist(data_array, metric='cosine')\n",
    "square_distance_matrix = squareform(distances)\n",
    "square_distance_df = pd.DataFrame(square_distance_matrix, index=names, columns=names)\n",
    "\n",
    "from matplotlib import pyplot as plt\n",
    "plt.figure(figsize=(10, 10))\n",
    "\n",
    "sns.clustermap(square_distance_df, xticklabels=True, yticklabels=True)\n",
    "\n",
    "plt.show()\n"
   ]
  },
  {
   "cell_type": "markdown",
   "metadata": {},
   "source": [
    "---"
   ]
  },
  {
   "cell_type": "markdown",
   "metadata": {},
   "source": [
    "## Appendix: Extract direct speech"
   ]
  },
  {
   "cell_type": "markdown",
   "metadata": {},
   "source": [
    "The code below details how the file `austen_dir_speech.txt` was created starting from J.F. Burrow's original annotated text on OTA. The original files were downloaded and stored in the folder: `~/Documents/sync/data/corpora/OTA/Austen_Burrows`."
   ]
  },
  {
   "cell_type": "code",
   "execution_count": 18,
   "metadata": {},
   "outputs": [],
   "source": [
    "ja_dir_speech = []"
   ]
  },
  {
   "cell_type": "code",
   "execution_count": 19,
   "metadata": {},
   "outputs": [
    {
     "ename": "NameError",
     "evalue": "name 'mansf' is not defined",
     "output_type": "error",
     "traceback": [
      "\u001b[0;31m---------------------------------------------------------------------------\u001b[0m",
      "\u001b[0;31mNameError\u001b[0m                                 Traceback (most recent call last)",
      "Input \u001b[0;32mIn [19]\u001b[0m, in \u001b[0;36m<module>\u001b[0;34m\u001b[0m\n\u001b[1;32m      2\u001b[0m     \u001b[38;5;28;01mimport\u001b[39;00m \u001b[38;5;21;01mre\u001b[39;00m\n\u001b[1;32m      3\u001b[0m     \u001b[38;5;28;01mreturn\u001b[39;00m re\u001b[38;5;241m.\u001b[39msub(\u001b[38;5;124mr\u001b[39m\u001b[38;5;124m'\u001b[39m\u001b[38;5;124m\\\u001b[39m\u001b[38;5;124m$.*?\u001b[39m\u001b[38;5;124m\\\u001b[39m\u001b[38;5;124m$\u001b[39m\u001b[38;5;124m'\u001b[39m, \u001b[38;5;124m'\u001b[39m\u001b[38;5;124m'\u001b[39m, text)\n\u001b[0;32m----> 5\u001b[0m remove_dollar_comment(\u001b[43mmansf\u001b[49m[\u001b[38;5;241m2\u001b[39m][\u001b[38;5;241m1\u001b[39m])\n",
      "\u001b[0;31mNameError\u001b[0m: name 'mansf' is not defined"
     ]
    }
   ],
   "source": [
    "\n",
    "def remove_dollar_comment(text):\n",
    "    import re\n",
    "    return re.sub(r'\\$.*?\\$', '', text)\n",
    "\n",
    "remove_dollar_comment(mansf[2][1])"
   ]
  },
  {
   "cell_type": "code",
   "execution_count": null,
   "metadata": {},
   "outputs": [],
   "source": [
    "def pre_process(lines):\n",
    "    lns = []\n",
    "    for i,l in enumerate(lines):\n",
    "        if l.strip() == \"\" or l.strip() == '~~~':\n",
    "            continue\n",
    "        try:\n",
    "            meta, tx = l.split('|', maxsplit=1)\n",
    "        except ValueError:\n",
    "            raise ValueError(f'At line {i}: {l}')\n",
    "        tx = tx.lstrip(' ').rstrip('\\n')\n",
    "        tx = remove_dollar_comment(tx)\n",
    "        tx = tx.replace('*', ' ')\n",
    "        lns.append((meta, tx))\n",
    "    return lns\n",
    "\n",
    "def extract_direct_speech(lines, char_code_list, novel_code):\n",
    "    ds = []\n",
    "    pattern = re.compile(r'[0-9]([A-Z])[0-9]*\\s+!')\n",
    "    for meta, t in lines:\n",
    "        match = pattern.search(meta)\n",
    "        if match:\n",
    "            char_code = match.group(1)\n",
    "            if char_code in char_code_list:\n",
    "                ds.append((f\"{novel_code}{char_code}\", t, meta))\n",
    "    return ds\n",
    "\n",
    "def process_novel(file_name, char_code_list, novel_code):\n",
    "    dir = os.path.expanduser('~/Documents/sync/data/corpora/OTA/Austen_Burrows')\n",
    "    with open(os.path.join(dir, file_name)) as f:\n",
    "        txt = f.readlines()\n",
    "    lns = pre_process(txt)\n",
    "    ds = extract_direct_speech(lns, char_code_list, novel_code)\n",
    "    return ds"
   ]
  },
  {
   "cell_type": "code",
   "execution_count": null,
   "metadata": {},
   "outputs": [],
   "source": [
    "na = process_novel('north-1228.txt', ['A', 'B', 'D', 'E', 'C'], novel_code=1)\n",
    "ss = process_novel('sense-1224.txt', ['A', 'C','K', 'S', 'F', 'Q', 'H', 'D', 'B', 'P'], novel_code=2)\n",
    "pp = process_novel('pride-1229.txt', ['A', 'B', 'D', 'E', 'K', 'C', 'O', 'L', 'H', 'J', 'V'], novel_code=3)\n",
    "mp = process_novel('mansf-1227.txt', ['B', 'C', 'D', 'J', 'A', 'E', 'G', 'F'], novel_code=4)\n",
    "em = process_novel('emma-1226.txt', ['A', 'B', 'E', 'D', 'I', 'M', 'P', 'O', 'N'], novel_code=5)\n",
    "pe = process_novel('pers-1230.txt', ['A', 'V', 'P', 'B', 'D'], novel_code=6)"
   ]
  },
  {
   "cell_type": "code",
   "execution_count": null,
   "metadata": {},
   "outputs": [],
   "source": [
    "for n in [na,ss,pp,mp,em,pe]:\n",
    "    ja_dir_speech.append(n)"
   ]
  },
  {
   "cell_type": "code",
   "execution_count": null,
   "metadata": {},
   "outputs": [],
   "source": [
    "with open('austen_dir_speech.txt', 'w') as out:\n",
    "    for n in ja_dir_speech:\n",
    "        for ch,txt,meta in n:\n",
    "            out.write(f'{ch}\\t{txt}\\t{meta}\\n')\n"
   ]
  },
  {
   "cell_type": "code",
   "execution_count": null,
   "metadata": {},
   "outputs": [
    {
     "data": {
      "text/plain": [
       "[\"101: 13, 1'  !| No*one who$6#1$ had ever seen $NA#A$Catherine*Morland in her\\n\",\n",
       " \"101: 13, 2'  !| infancy, would have supposed her born$1#1$ to$9$ be an heroine.\\n\",\n",
       " \"101: 13, 3'  !| Her situation in life, the character of her father and\\n\",\n",
       " \"101: 13, 4'  !| mother, her own$2$ person and disposition, were all equally\\n\",\n",
       " \"101: 13, 5'  !| against her. Her father was a clergyman, without being$1$\\n\"]"
      ]
     },
     "execution_count": 40,
     "metadata": {},
     "output_type": "execute_result"
    }
   ],
   "source": [
    "txt[:5]"
   ]
  },
  {
   "cell_type": "code",
   "execution_count": null,
   "metadata": {},
   "outputs": [],
   "source": []
  },
  {
   "cell_type": "code",
   "execution_count": null,
   "metadata": {},
   "outputs": [
    {
     "data": {
      "text/plain": [
       "True"
      ]
     },
     "execution_count": 44,
     "metadata": {},
     "output_type": "execute_result"
    }
   ],
   "source": [
    "len(mansf) == len([t for t in txt if t.strip() != ''])"
   ]
  },
  {
   "cell_type": "code",
   "execution_count": null,
   "metadata": {},
   "outputs": [
    {
     "data": {
      "text/plain": [
       "9135"
      ]
     },
     "execution_count": 43,
     "metadata": {},
     "output_type": "execute_result"
    }
   ],
   "source": []
  },
  {
   "cell_type": "code",
   "execution_count": null,
   "metadata": {},
   "outputs": [
    {
     "data": {
      "text/plain": [
       "(\"101:  3,11'  !\",\n",
       " 'and such of their acquaintance as thought$1$ $MP#J$Miss*Ward')"
      ]
     },
     "execution_count": 34,
     "metadata": {},
     "output_type": "execute_result"
    }
   ],
   "source": [
    "mansf[10]"
   ]
  },
  {
   "cell_type": "code",
   "execution_count": null,
   "metadata": {},
   "outputs": [
    {
     "data": {
      "text/plain": [
       "'A'"
      ]
     },
     "execution_count": 73,
     "metadata": {},
     "output_type": "execute_result"
    }
   ],
   "source": [
    "import re\n",
    "\n",
    "match = re.search(r'[0-9]([A-Z])[0-9]*\\s+!', na[i][0])\n",
    "match.group(1)"
   ]
  },
  {
   "cell_type": "code",
   "execution_count": null,
   "metadata": {},
   "outputs": [],
   "source": []
  }
 ],
 "metadata": {
  "kernelspec": {
   "display_name": "data-env",
   "language": "python",
   "name": "data-env"
  },
  "language_info": {
   "codemirror_mode": {
    "name": "ipython",
    "version": 3
   },
   "file_extension": ".py",
   "mimetype": "text/x-python",
   "name": "python",
   "nbconvert_exporter": "python",
   "pygments_lexer": "ipython3",
   "version": "3.10.2"
  }
 },
 "nbformat": 4,
 "nbformat_minor": 2
}
