{
 "cells": [
  {
   "attachments": {},
   "cell_type": "markdown",
   "metadata": {},
   "source": [
    "# Esplorazione nella distribuzione lessicale"
   ]
  },
  {
   "attachments": {},
   "cell_type": "markdown",
   "metadata": {},
   "source": [
    "Codice ispirato a [Baayen (2008:243-250)](https://www.cambridge.org/highereducation/books/analyzing-linguistic-data/B2AF752A30911F4144CA35E075C6B233#overview)"
   ]
  },
  {
   "attachments": {},
   "cell_type": "markdown",
   "metadata": {},
   "source": [
    "Qui osserveremo la distribuzione delle parole-tipo (type) in un testo (la *Divina Commedia*) e in un [corpus di commenti YouTube](https://www.clarin.si/repository/xmlui/handle/11356/1450#) annotati per Hate Speech Detection. Il corpus è stato leggermente modificato per: 1. normalizzare problemi di spaziatura mancante 2. eliminare gli handler degli utenti"
   ]
  },
  {
   "cell_type": "code",
   "execution_count": 24,
   "metadata": {},
   "outputs": [],
   "source": [
    "import matplotlib.pyplot as plt\n",
    "from matplotlib import rcParams\n",
    "import seaborn as sns\n",
    "\n",
    "sns.set_style(\"darkgrid\")\n",
    "rcParams['figure.figsize'] = 12,9"
   ]
  },
  {
   "attachments": {},
   "cell_type": "markdown",
   "metadata": {},
   "source": [
    "## La Divina Commedia"
   ]
  },
  {
   "cell_type": "code",
   "execution_count": 2,
   "metadata": {},
   "outputs": [],
   "source": [
    "import spacy\n",
    "from scipy import stats"
   ]
  },
  {
   "attachments": {},
   "cell_type": "markdown",
   "metadata": {},
   "source": [
    "Creiamo un tokenizzatore"
   ]
  },
  {
   "cell_type": "code",
   "execution_count": 3,
   "metadata": {},
   "outputs": [],
   "source": [
    "nlp = spacy.blank(\"it\")\n",
    "nlp.max_length = 20833854"
   ]
  },
  {
   "attachments": {},
   "cell_type": "markdown",
   "metadata": {},
   "source": [
    "Apriamo il file"
   ]
  },
  {
   "cell_type": "code",
   "execution_count": 4,
   "metadata": {},
   "outputs": [],
   "source": [
    "with open('../data/commedia_cleaned.txt') as f:\n",
    "    commedia = f.read()\n",
    "comm = nlp(commedia)"
   ]
  },
  {
   "attachments": {},
   "cell_type": "markdown",
   "metadata": {},
   "source": [
    "Il tokenizzatore di `spacy` ha individuato all'incirca 130.000 token"
   ]
  },
  {
   "cell_type": "code",
   "execution_count": 5,
   "metadata": {},
   "outputs": [
    {
     "data": {
      "text/plain": [
       "135533"
      ]
     },
     "execution_count": 5,
     "metadata": {},
     "output_type": "execute_result"
    }
   ],
   "source": [
    "len(comm)"
   ]
  },
  {
   "attachments": {},
   "cell_type": "markdown",
   "metadata": {},
   "source": [
    "Ora eliminiamo i caratteri di nuova riga e i segni di punteggiatura"
   ]
  },
  {
   "cell_type": "code",
   "execution_count": 13,
   "metadata": {},
   "outputs": [],
   "source": [
    "import re\n",
    "# comm_toks = [c.lower_ for c in comm if not re.search(r'\\n+', c.lower_) and not c.is_punct]\n",
    "comm_toks = [c.lower_ for c in comm if c.lower_ != '\\n' and not c.is_punct]"
   ]
  },
  {
   "attachments": {},
   "cell_type": "markdown",
   "metadata": {},
   "source": [
    "Rimangono circa 100.000 token"
   ]
  },
  {
   "cell_type": "code",
   "execution_count": 14,
   "metadata": {},
   "outputs": [
    {
     "data": {
      "text/plain": [
       "101917"
      ]
     },
     "execution_count": 14,
     "metadata": {},
     "output_type": "execute_result"
    }
   ],
   "source": [
    "len(comm_toks)"
   ]
  },
  {
   "attachments": {},
   "cell_type": "markdown",
   "metadata": {},
   "source": [
    "Creiamo un contatore per contare le frequenze delle parole-tipo (type)"
   ]
  },
  {
   "cell_type": "code",
   "execution_count": 16,
   "metadata": {},
   "outputs": [
    {
     "data": {
      "text/plain": [
       "[('e', 4065),\n",
       " ('che', 3697),\n",
       " ('la', 2360),\n",
       " ('a', 2045),\n",
       " ('di', 1897),\n",
       " (\"l'\", 1727),\n",
       " ('non', 1456),\n",
       " ('per', 1384),\n",
       " ('io', 1137),\n",
       " ('in', 1107),\n",
       " ('si', 1043),\n",
       " (\"ch'\", 1029),\n",
       " ('l', 951),\n",
       " ('le', 802)]"
      ]
     },
     "execution_count": 16,
     "metadata": {},
     "output_type": "execute_result"
    }
   ],
   "source": [
    "from collections import Counter\n",
    "\n",
    "c = Counter(comm_toks)\n",
    "c.most_common(14)"
   ]
  },
  {
   "attachments": {},
   "cell_type": "markdown",
   "metadata": {},
   "source": [
    "Questo è il codice che ho usato per calcolare la percentuale cumulativa dei primi *n* tipi di un testo"
   ]
  },
  {
   "cell_type": "code",
   "execution_count": 9,
   "metadata": {},
   "outputs": [
    {
     "name": "stdout",
     "output_type": "stream",
     "text": [
      "e 4065 3.993241451123314\n",
      "che 3697 7.624979125121565\n",
      "la 2360 9.94331856538012\n",
      "a 2045 11.952218631197383\n",
      "di 1897 13.815731308388262\n",
      "l' 1727 15.512244958102892\n",
      "non 1456 16.942542511075963\n",
      "per 1384 18.302111064176742\n",
      "io 1137 19.41903985382673\n",
      "in 1107 20.50649822686327\n",
      "si 1043 21.531086377791095\n",
      "ch' 1029 22.541921667632643\n"
     ]
    }
   ],
   "source": [
    "for i, (parola, freq) in enumerate(c.most_common(12), start=1):\n",
    "    cum = sum([f[-1] for f in c.most_common(i)])\n",
    "    perc = (cum / len(comm_toks) * 100)\n",
    "    print(parola, freq, perc)"
   ]
  },
  {
   "attachments": {},
   "cell_type": "markdown",
   "metadata": {},
   "source": [
    "Ora:\n",
    "- trasformiamo i dati di frequenza in una tabella\n",
    "- aggiungiamo 2 colonne con il logaritmo del rango e il logaritmo delle frequenze\n",
    "\n",
    "Visualizziamo le prime 5 righe della tabella"
   ]
  },
  {
   "cell_type": "code",
   "execution_count": 10,
   "metadata": {},
   "outputs": [
    {
     "data": {
      "text/html": [
       "<div>\n",
       "<style scoped>\n",
       "    .dataframe tbody tr th:only-of-type {\n",
       "        vertical-align: middle;\n",
       "    }\n",
       "\n",
       "    .dataframe tbody tr th {\n",
       "        vertical-align: top;\n",
       "    }\n",
       "\n",
       "    .dataframe thead th {\n",
       "        text-align: right;\n",
       "    }\n",
       "</style>\n",
       "<table border=\"1\" class=\"dataframe\">\n",
       "  <thead>\n",
       "    <tr style=\"text-align: right;\">\n",
       "      <th></th>\n",
       "      <th>rank</th>\n",
       "      <th>freq</th>\n",
       "      <th>word</th>\n",
       "      <th>log_rank</th>\n",
       "      <th>log_freq</th>\n",
       "    </tr>\n",
       "  </thead>\n",
       "  <tbody>\n",
       "    <tr>\n",
       "      <th>0</th>\n",
       "      <td>1</td>\n",
       "      <td>4065</td>\n",
       "      <td>e</td>\n",
       "      <td>0.000000</td>\n",
       "      <td>8.310169</td>\n",
       "    </tr>\n",
       "    <tr>\n",
       "      <th>1</th>\n",
       "      <td>2</td>\n",
       "      <td>3697</td>\n",
       "      <td>che</td>\n",
       "      <td>0.693147</td>\n",
       "      <td>8.215277</td>\n",
       "    </tr>\n",
       "    <tr>\n",
       "      <th>2</th>\n",
       "      <td>3</td>\n",
       "      <td>2360</td>\n",
       "      <td>la</td>\n",
       "      <td>1.098612</td>\n",
       "      <td>7.766417</td>\n",
       "    </tr>\n",
       "    <tr>\n",
       "      <th>3</th>\n",
       "      <td>4</td>\n",
       "      <td>2045</td>\n",
       "      <td>a</td>\n",
       "      <td>1.386294</td>\n",
       "      <td>7.623153</td>\n",
       "    </tr>\n",
       "    <tr>\n",
       "      <th>4</th>\n",
       "      <td>5</td>\n",
       "      <td>1897</td>\n",
       "      <td>di</td>\n",
       "      <td>1.609438</td>\n",
       "      <td>7.548029</td>\n",
       "    </tr>\n",
       "    <tr>\n",
       "      <th>5</th>\n",
       "      <td>6</td>\n",
       "      <td>1727</td>\n",
       "      <td>l'</td>\n",
       "      <td>1.791759</td>\n",
       "      <td>7.454141</td>\n",
       "    </tr>\n",
       "    <tr>\n",
       "      <th>6</th>\n",
       "      <td>7</td>\n",
       "      <td>1456</td>\n",
       "      <td>non</td>\n",
       "      <td>1.945910</td>\n",
       "      <td>7.283448</td>\n",
       "    </tr>\n",
       "    <tr>\n",
       "      <th>7</th>\n",
       "      <td>8</td>\n",
       "      <td>1384</td>\n",
       "      <td>per</td>\n",
       "      <td>2.079442</td>\n",
       "      <td>7.232733</td>\n",
       "    </tr>\n",
       "    <tr>\n",
       "      <th>8</th>\n",
       "      <td>9</td>\n",
       "      <td>1137</td>\n",
       "      <td>io</td>\n",
       "      <td>2.197225</td>\n",
       "      <td>7.036148</td>\n",
       "    </tr>\n",
       "    <tr>\n",
       "      <th>9</th>\n",
       "      <td>10</td>\n",
       "      <td>1107</td>\n",
       "      <td>in</td>\n",
       "      <td>2.302585</td>\n",
       "      <td>7.009409</td>\n",
       "    </tr>\n",
       "  </tbody>\n",
       "</table>\n",
       "</div>"
      ],
      "text/plain": [
       "   rank  freq word  log_rank  log_freq\n",
       "0     1  4065    e  0.000000  8.310169\n",
       "1     2  3697  che  0.693147  8.215277\n",
       "2     3  2360   la  1.098612  7.766417\n",
       "3     4  2045    a  1.386294  7.623153\n",
       "4     5  1897   di  1.609438  7.548029\n",
       "5     6  1727   l'  1.791759  7.454141\n",
       "6     7  1456  non  1.945910  7.283448\n",
       "7     8  1384  per  2.079442  7.232733\n",
       "8     9  1137   io  2.197225  7.036148\n",
       "9    10  1107   in  2.302585  7.009409"
      ]
     },
     "execution_count": 10,
     "metadata": {},
     "output_type": "execute_result"
    }
   ],
   "source": [
    "import pandas as pd\n",
    "import numpy as np\n",
    "\n",
    "\n",
    "ranks = [i for i, _ in enumerate(c.most_common(), start=1)]\n",
    "words = [w[0] for w in c.most_common()]\n",
    "freqs = [w[1] for w in c.most_common()]\n",
    "\n",
    "df = pd.DataFrame(data={'rank': ranks, 'freq': freqs, 'word': words})\n",
    "df['log_rank'] = np.log(df['rank'])\n",
    "\n",
    "df['log_freq'] = np.log(df['freq'])\n",
    "df.head(10)"
   ]
  },
  {
   "cell_type": "markdown",
   "metadata": {},
   "source": [
    "Creaiamo una funzione per fare questa trasformazione più velocemente!"
   ]
  },
  {
   "cell_type": "code",
   "execution_count": 21,
   "metadata": {},
   "outputs": [
    {
     "data": {
      "text/html": [
       "<div>\n",
       "<style scoped>\n",
       "    .dataframe tbody tr th:only-of-type {\n",
       "        vertical-align: middle;\n",
       "    }\n",
       "\n",
       "    .dataframe tbody tr th {\n",
       "        vertical-align: top;\n",
       "    }\n",
       "\n",
       "    .dataframe thead th {\n",
       "        text-align: right;\n",
       "    }\n",
       "</style>\n",
       "<table border=\"1\" class=\"dataframe\">\n",
       "  <thead>\n",
       "    <tr style=\"text-align: right;\">\n",
       "      <th></th>\n",
       "      <th>rank</th>\n",
       "      <th>freq</th>\n",
       "      <th>word</th>\n",
       "      <th>log_rank</th>\n",
       "      <th>log_freq</th>\n",
       "    </tr>\n",
       "  </thead>\n",
       "  <tbody>\n",
       "    <tr>\n",
       "      <th>0</th>\n",
       "      <td>1</td>\n",
       "      <td>4065</td>\n",
       "      <td>e</td>\n",
       "      <td>0.000000</td>\n",
       "      <td>8.310169</td>\n",
       "    </tr>\n",
       "    <tr>\n",
       "      <th>1</th>\n",
       "      <td>2</td>\n",
       "      <td>3697</td>\n",
       "      <td>che</td>\n",
       "      <td>0.693147</td>\n",
       "      <td>8.215277</td>\n",
       "    </tr>\n",
       "    <tr>\n",
       "      <th>2</th>\n",
       "      <td>3</td>\n",
       "      <td>2360</td>\n",
       "      <td>la</td>\n",
       "      <td>1.098612</td>\n",
       "      <td>7.766417</td>\n",
       "    </tr>\n",
       "    <tr>\n",
       "      <th>3</th>\n",
       "      <td>4</td>\n",
       "      <td>2045</td>\n",
       "      <td>a</td>\n",
       "      <td>1.386294</td>\n",
       "      <td>7.623153</td>\n",
       "    </tr>\n",
       "    <tr>\n",
       "      <th>4</th>\n",
       "      <td>5</td>\n",
       "      <td>1897</td>\n",
       "      <td>di</td>\n",
       "      <td>1.609438</td>\n",
       "      <td>7.548029</td>\n",
       "    </tr>\n",
       "    <tr>\n",
       "      <th>5</th>\n",
       "      <td>6</td>\n",
       "      <td>1727</td>\n",
       "      <td>l'</td>\n",
       "      <td>1.791759</td>\n",
       "      <td>7.454141</td>\n",
       "    </tr>\n",
       "    <tr>\n",
       "      <th>6</th>\n",
       "      <td>7</td>\n",
       "      <td>1456</td>\n",
       "      <td>non</td>\n",
       "      <td>1.945910</td>\n",
       "      <td>7.283448</td>\n",
       "    </tr>\n",
       "    <tr>\n",
       "      <th>7</th>\n",
       "      <td>8</td>\n",
       "      <td>1384</td>\n",
       "      <td>per</td>\n",
       "      <td>2.079442</td>\n",
       "      <td>7.232733</td>\n",
       "    </tr>\n",
       "    <tr>\n",
       "      <th>8</th>\n",
       "      <td>9</td>\n",
       "      <td>1137</td>\n",
       "      <td>io</td>\n",
       "      <td>2.197225</td>\n",
       "      <td>7.036148</td>\n",
       "    </tr>\n",
       "    <tr>\n",
       "      <th>9</th>\n",
       "      <td>10</td>\n",
       "      <td>1107</td>\n",
       "      <td>in</td>\n",
       "      <td>2.302585</td>\n",
       "      <td>7.009409</td>\n",
       "    </tr>\n",
       "  </tbody>\n",
       "</table>\n",
       "</div>"
      ],
      "text/plain": [
       "   rank  freq word  log_rank  log_freq\n",
       "0     1  4065    e  0.000000  8.310169\n",
       "1     2  3697  che  0.693147  8.215277\n",
       "2     3  2360   la  1.098612  7.766417\n",
       "3     4  2045    a  1.386294  7.623153\n",
       "4     5  1897   di  1.609438  7.548029\n",
       "5     6  1727   l'  1.791759  7.454141\n",
       "6     7  1456  non  1.945910  7.283448\n",
       "7     8  1384  per  2.079442  7.232733\n",
       "8     9  1137   io  2.197225  7.036148\n",
       "9    10  1107   in  2.302585  7.009409"
      ]
     },
     "execution_count": 21,
     "metadata": {},
     "output_type": "execute_result"
    }
   ],
   "source": [
    "import pandas as pd\n",
    "import numpy as np\n",
    "\n",
    "\n",
    "def get_rank_table(type_counter):\n",
    "    ranks = [i for i, _ in enumerate(type_counter.most_common(), start=1)]\n",
    "    words = [w[0] for w in type_counter.most_common()]\n",
    "    freqs = [w[1] for w in type_counter.most_common()]\n",
    "    df = pd.DataFrame(data={'rank': ranks, 'freq': freqs, 'word': words})\n",
    "    df['log_rank'] = np.log(df['rank'])\n",
    "    df['log_freq'] = np.log(df['freq'])\n",
    "    return df\n",
    "\n",
    "newdf = get_rank_table(c)\n",
    "\n",
    "\n",
    "newdf.head(10)"
   ]
  },
  {
   "cell_type": "code",
   "execution_count": 14,
   "metadata": {},
   "outputs": [
    {
     "data": {
      "image/png": "[encoded data removed]",
      "text/plain": [
       "<Figure size 864x648 with 1 Axes>"
      ]
     },
     "metadata": {},
     "output_type": "display_data"
    }
   ],
   "source": [
    "import seaborn as sns\n",
    "from matplotlib import pyplot as plt\n",
    "\n",
    "ax = sns.barplot(x='word', y='freq', data=df.iloc[:45])\n",
    "#ax.set_xticklabels([w[0] for w in c.most_common(50)])\n",
    "ax.tick_params(axis='x', rotation=90)\n",
    "plt.show()"
   ]
  },
  {
   "attachments": {},
   "cell_type": "markdown",
   "metadata": {},
   "source": [
    "Qui creiamo il grafico in scala log/log, lasciando che una libreria python (`seaborn`) si occupi della regressione (disegnando la retta ideale)"
   ]
  },
  {
   "cell_type": "code",
   "execution_count": 15,
   "metadata": {},
   "outputs": [
    {
     "data": {
      "text/plain": [
       "<Axes: xlabel='log_rank', ylabel='log_freq'>"
      ]
     },
     "execution_count": 15,
     "metadata": {},
     "output_type": "execute_result"
    },
    {
     "data": {
      "image/png": "[encoded data removed]",
      "text/plain": [
       "<Figure size 864x648 with 1 Axes>"
      ]
     },
     "metadata": {},
     "output_type": "display_data"
    }
   ],
   "source": [
    "sns.regplot(data = df, x='log_rank', y='log_freq')"
   ]
  },
  {
   "attachments": {},
   "cell_type": "markdown",
   "metadata": {},
   "source": [
    "Possiamo avere informazioni più precise sulla pendenza e intercetto della regressione:"
   ]
  },
  {
   "cell_type": "code",
   "execution_count": 183,
   "metadata": {},
   "outputs": [
    {
     "name": "stdout",
     "output_type": "stream",
     "text": [
      "-1.0301318191529754\n"
     ]
    }
   ],
   "source": [
    "slope, intercept, r, p, std_err = stats.linregress(df.log_rank, df.log_freq)\n",
    "print(slope)"
   ]
  },
  {
   "attachments": {},
   "cell_type": "markdown",
   "metadata": {},
   "source": [
    "## Il corpus di commenti su YouTube per la Hate Speech detection"
   ]
  },
  {
   "attachments": {},
   "cell_type": "markdown",
   "metadata": {},
   "source": [
    "Scaricato da [CLARIN](https://hdl.handle.net/11356/1450) e \"normalizzato\" leggermente (vedi sopra).\n",
    "\n",
    "Per prima cosa, apriamo il file (compresso) TAR"
   ]
  },
  {
   "cell_type": "code",
   "execution_count": 17,
   "metadata": {},
   "outputs": [],
   "source": [
    "import tarfile\n",
    "\n",
    "tar = tarfile.open(\"../data/youtube_hate.tar.gz\")\n",
    "with tar.extractfile('youtube_hate.txt') as f:\n",
    "    corpus = f.read().decode('utf8')\n",
    "tar.close()"
   ]
  },
  {
   "attachments": {},
   "cell_type": "markdown",
   "metadata": {},
   "source": [
    "Ora facciamo la tokenizzazione! (potrebbe richiedere un po' di tempo)"
   ]
  },
  {
   "cell_type": "code",
   "execution_count": 18,
   "metadata": {},
   "outputs": [],
   "source": [
    "toks = nlp(corpus)"
   ]
  },
  {
   "attachments": {},
   "cell_type": "markdown",
   "metadata": {},
   "source": [
    "Come prima per Dante, scartiamo i caratteri di nuova riga (\\n) e la punteggiatura "
   ]
  },
  {
   "cell_type": "code",
   "execution_count": 19,
   "metadata": {},
   "outputs": [
    {
     "name": "stdout",
     "output_type": "stream",
     "text": [
      "1632113\n"
     ]
    }
   ],
   "source": [
    "yt_toks = [c.lower_ for c in toks if not re.search(r'\\n+', c.lower_) and c.is_alpha]\n",
    "print(len(yt_toks))"
   ]
  },
  {
   "attachments": {},
   "cell_type": "markdown",
   "metadata": {},
   "source": [
    "Creiamo il contatore delle frequenze e vediamo le 20 parole più frequenti. Paragoniamole alle 20 più frequenti in Dante"
   ]
  },
  {
   "cell_type": "code",
   "execution_count": 20,
   "metadata": {},
   "outputs": [
    {
     "name": "stdout",
     "output_type": "stream",
     "text": [
      "e (47099)\te (4065)\n",
      "che (44996)\tche (3697)\n",
      "di (42405)\tla (2360)\n",
      "non (32884)\ta (2045)\n",
      "il (28953)\tdi (1897)\n",
      "la (28648)\tl' (1727)\n",
      "a (28212)\tnon (1456)\n",
      "in (23955)\tper (1384)\n",
      "è (20855)\tio (1137)\n",
      "per (20081)\tin (1107)\n",
      "i (18675)\tsi (1043)\n",
      "un (17851)\tch' (1029)\n",
      "ma (15169)\tl (951)\n",
      "sono (13716)\tle (802)\n",
      "si (13230)\tsì (796)\n",
      "le (12354)\tli (781)\n",
      "da (10959)\tè (778)\n",
      "con (10875)\tmi (760)\n",
      "ci (10355)\til (671)\n",
      "se (9971)\tpiù (661)\n"
     ]
    }
   ],
   "source": [
    "cyt = Counter(yt_toks)\n",
    "for yt, dante in zip(cyt.most_common(20), c.most_common(20)):\n",
    "    print(f'{yt[0]} ({yt[1]})\\t{dante[0]} ({dante[1]})')"
   ]
  },
  {
   "cell_type": "code",
   "execution_count": 22,
   "metadata": {},
   "outputs": [
    {
     "data": {
      "text/html": [
       "<div>\n",
       "<style scoped>\n",
       "    .dataframe tbody tr th:only-of-type {\n",
       "        vertical-align: middle;\n",
       "    }\n",
       "\n",
       "    .dataframe tbody tr th {\n",
       "        vertical-align: top;\n",
       "    }\n",
       "\n",
       "    .dataframe thead th {\n",
       "        text-align: right;\n",
       "    }\n",
       "</style>\n",
       "<table border=\"1\" class=\"dataframe\">\n",
       "  <thead>\n",
       "    <tr style=\"text-align: right;\">\n",
       "      <th></th>\n",
       "      <th>rank</th>\n",
       "      <th>freq</th>\n",
       "      <th>word</th>\n",
       "      <th>log_rank</th>\n",
       "      <th>log_freq</th>\n",
       "    </tr>\n",
       "  </thead>\n",
       "  <tbody>\n",
       "    <tr>\n",
       "      <th>0</th>\n",
       "      <td>1</td>\n",
       "      <td>47099</td>\n",
       "      <td>e</td>\n",
       "      <td>0.000000</td>\n",
       "      <td>10.760007</td>\n",
       "    </tr>\n",
       "    <tr>\n",
       "      <th>1</th>\n",
       "      <td>2</td>\n",
       "      <td>44996</td>\n",
       "      <td>che</td>\n",
       "      <td>0.693147</td>\n",
       "      <td>10.714329</td>\n",
       "    </tr>\n",
       "    <tr>\n",
       "      <th>2</th>\n",
       "      <td>3</td>\n",
       "      <td>42405</td>\n",
       "      <td>di</td>\n",
       "      <td>1.098612</td>\n",
       "      <td>10.655022</td>\n",
       "    </tr>\n",
       "    <tr>\n",
       "      <th>3</th>\n",
       "      <td>4</td>\n",
       "      <td>32884</td>\n",
       "      <td>non</td>\n",
       "      <td>1.386294</td>\n",
       "      <td>10.400741</td>\n",
       "    </tr>\n",
       "    <tr>\n",
       "      <th>4</th>\n",
       "      <td>5</td>\n",
       "      <td>28953</td>\n",
       "      <td>il</td>\n",
       "      <td>1.609438</td>\n",
       "      <td>10.273429</td>\n",
       "    </tr>\n",
       "  </tbody>\n",
       "</table>\n",
       "</div>"
      ],
      "text/plain": [
       "   rank   freq word  log_rank   log_freq\n",
       "0     1  47099    e  0.000000  10.760007\n",
       "1     2  44996  che  0.693147  10.714329\n",
       "2     3  42405   di  1.098612  10.655022\n",
       "3     4  32884  non  1.386294  10.400741\n",
       "4     5  28953   il  1.609438  10.273429"
      ]
     },
     "execution_count": 22,
     "metadata": {},
     "output_type": "execute_result"
    }
   ],
   "source": [
    "ytdf = get_rank_table(cyt)\n",
    "ytdf.head()"
   ]
  },
  {
   "cell_type": "code",
   "execution_count": 25,
   "metadata": {},
   "outputs": [
    {
     "data": {
      "text/plain": [
       "<Axes: xlabel='log_rank', ylabel='log_freq'>"
      ]
     },
     "execution_count": 25,
     "metadata": {},
     "output_type": "execute_result"
    },
    {
     "data": {
      "image/png": "[encoded data removed]",
      "text/plain": [
       "<Figure size 864x648 with 1 Axes>"
      ]
     },
     "metadata": {},
     "output_type": "display_data"
    }
   ],
   "source": [
    "sns.regplot(data = ytdf, x='log_rank', y='log_freq')"
   ]
  },
  {
   "cell_type": "markdown",
   "metadata": {},
   "source": [
    "## La lista delle parole de *la Repubblica*"
   ]
  },
  {
   "cell_type": "markdown",
   "metadata": {},
   "source": [
    "Dal motore NoSketchEngine è possibile scaricare la lista delle parole tipo del corpus Repubblica. Proviamo a vedere la distribuzione"
   ]
  },
  {
   "cell_type": "code",
   "execution_count": 29,
   "metadata": {},
   "outputs": [
    {
     "data": {
      "text/html": [
       "<div>\n",
       "<style scoped>\n",
       "    .dataframe tbody tr th:only-of-type {\n",
       "        vertical-align: middle;\n",
       "    }\n",
       "\n",
       "    .dataframe tbody tr th {\n",
       "        vertical-align: top;\n",
       "    }\n",
       "\n",
       "    .dataframe thead th {\n",
       "        text-align: right;\n",
       "    }\n",
       "</style>\n",
       "<table border=\"1\" class=\"dataframe\">\n",
       "  <thead>\n",
       "    <tr style=\"text-align: right;\">\n",
       "      <th></th>\n",
       "      <th>Item</th>\n",
       "      <th>Frequency</th>\n",
       "    </tr>\n",
       "  </thead>\n",
       "  <tbody>\n",
       "    <tr>\n",
       "      <th>0</th>\n",
       "      <td>,</td>\n",
       "      <td>21095417</td>\n",
       "    </tr>\n",
       "    <tr>\n",
       "      <th>1</th>\n",
       "      <td>.</td>\n",
       "      <td>14708032</td>\n",
       "    </tr>\n",
       "    <tr>\n",
       "      <th>2</th>\n",
       "      <td>di</td>\n",
       "      <td>12649968</td>\n",
       "    </tr>\n",
       "    <tr>\n",
       "      <th>3</th>\n",
       "      <td>e</td>\n",
       "      <td>7934223</td>\n",
       "    </tr>\n",
       "    <tr>\n",
       "      <th>4</th>\n",
       "      <td>il</td>\n",
       "      <td>7227432</td>\n",
       "    </tr>\n",
       "  </tbody>\n",
       "</table>\n",
       "</div>"
      ],
      "text/plain": [
       "  Item  Frequency\n",
       "0    ,   21095417\n",
       "1    .   14708032\n",
       "2   di   12649968\n",
       "3    e    7934223\n",
       "4   il    7227432"
      ]
     },
     "execution_count": 29,
     "metadata": {},
     "output_type": "execute_result"
    }
   ],
   "source": [
    "import pandas as pd\n",
    "df = pd.read_csv('../data/wordlist_repubblica.zip')\n",
    "df.head()\n"
   ]
  },
  {
   "cell_type": "markdown",
   "metadata": {},
   "source": [
    "Filtriamo i segni di punteggiatura"
   ]
  },
  {
   "cell_type": "code",
   "execution_count": 40,
   "metadata": {},
   "outputs": [],
   "source": [
    "import string\n",
    "dff = df[~df['Item'].str[0].isin(list(string.punctuation))]"
   ]
  },
  {
   "cell_type": "code",
   "execution_count": 41,
   "metadata": {},
   "outputs": [
    {
     "data": {
      "text/html": [
       "<div>\n",
       "<style scoped>\n",
       "    .dataframe tbody tr th:only-of-type {\n",
       "        vertical-align: middle;\n",
       "    }\n",
       "\n",
       "    .dataframe tbody tr th {\n",
       "        vertical-align: top;\n",
       "    }\n",
       "\n",
       "    .dataframe thead th {\n",
       "        text-align: right;\n",
       "    }\n",
       "</style>\n",
       "<table border=\"1\" class=\"dataframe\">\n",
       "  <thead>\n",
       "    <tr style=\"text-align: right;\">\n",
       "      <th></th>\n",
       "      <th>Item</th>\n",
       "      <th>Frequency</th>\n",
       "    </tr>\n",
       "  </thead>\n",
       "  <tbody>\n",
       "    <tr>\n",
       "      <th>2</th>\n",
       "      <td>di</td>\n",
       "      <td>12649968</td>\n",
       "    </tr>\n",
       "    <tr>\n",
       "      <th>3</th>\n",
       "      <td>e</td>\n",
       "      <td>7934223</td>\n",
       "    </tr>\n",
       "    <tr>\n",
       "      <th>4</th>\n",
       "      <td>il</td>\n",
       "      <td>7227432</td>\n",
       "    </tr>\n",
       "    <tr>\n",
       "      <th>5</th>\n",
       "      <td>la</td>\n",
       "      <td>6572308</td>\n",
       "    </tr>\n",
       "    <tr>\n",
       "      <th>6</th>\n",
       "      <td>che</td>\n",
       "      <td>6442608</td>\n",
       "    </tr>\n",
       "  </tbody>\n",
       "</table>\n",
       "</div>"
      ],
      "text/plain": [
       "  Item  Frequency\n",
       "2   di   12649968\n",
       "3    e    7934223\n",
       "4   il    7227432\n",
       "5   la    6572308\n",
       "6  che    6442608"
      ]
     },
     "execution_count": 41,
     "metadata": {},
     "output_type": "execute_result"
    }
   ],
   "source": [
    "dff.head()"
   ]
  },
  {
   "cell_type": "code",
   "execution_count": 42,
   "metadata": {},
   "outputs": [
    {
     "name": "stderr",
     "output_type": "stream",
     "text": [
      "/var/folders/m7/cdsvqlhs2715rg1dhl8hm35r0000gp/T/ipykernel_22268/2651316746.py:1: SettingWithCopyWarning: \n",
      "A value is trying to be set on a copy of a slice from a DataFrame.\n",
      "Try using .loc[row_indexer,col_indexer] = value instead\n",
      "\n",
      "See the caveats in the documentation: https://pandas.pydata.org/pandas-docs/stable/user_guide/indexing.html#returning-a-view-versus-a-copy\n",
      "  dff['rank'] = [e for e, _ in enumerate(dff.index, start=1)]\n"
     ]
    },
    {
     "data": {
      "text/html": [
       "<div>\n",
       "<style scoped>\n",
       "    .dataframe tbody tr th:only-of-type {\n",
       "        vertical-align: middle;\n",
       "    }\n",
       "\n",
       "    .dataframe tbody tr th {\n",
       "        vertical-align: top;\n",
       "    }\n",
       "\n",
       "    .dataframe thead th {\n",
       "        text-align: right;\n",
       "    }\n",
       "</style>\n",
       "<table border=\"1\" class=\"dataframe\">\n",
       "  <thead>\n",
       "    <tr style=\"text-align: right;\">\n",
       "      <th></th>\n",
       "      <th>Item</th>\n",
       "      <th>Frequency</th>\n",
       "      <th>rank</th>\n",
       "    </tr>\n",
       "  </thead>\n",
       "  <tbody>\n",
       "    <tr>\n",
       "      <th>2</th>\n",
       "      <td>di</td>\n",
       "      <td>12649968</td>\n",
       "      <td>1</td>\n",
       "    </tr>\n",
       "    <tr>\n",
       "      <th>3</th>\n",
       "      <td>e</td>\n",
       "      <td>7934223</td>\n",
       "      <td>2</td>\n",
       "    </tr>\n",
       "    <tr>\n",
       "      <th>4</th>\n",
       "      <td>il</td>\n",
       "      <td>7227432</td>\n",
       "      <td>3</td>\n",
       "    </tr>\n",
       "    <tr>\n",
       "      <th>5</th>\n",
       "      <td>la</td>\n",
       "      <td>6572308</td>\n",
       "      <td>4</td>\n",
       "    </tr>\n",
       "    <tr>\n",
       "      <th>6</th>\n",
       "      <td>che</td>\n",
       "      <td>6442608</td>\n",
       "      <td>5</td>\n",
       "    </tr>\n",
       "  </tbody>\n",
       "</table>\n",
       "</div>"
      ],
      "text/plain": [
       "  Item  Frequency  rank\n",
       "2   di   12649968     1\n",
       "3    e    7934223     2\n",
       "4   il    7227432     3\n",
       "5   la    6572308     4\n",
       "6  che    6442608     5"
      ]
     },
     "execution_count": 42,
     "metadata": {},
     "output_type": "execute_result"
    }
   ],
   "source": [
    "dff['rank'] = [e for e, _ in enumerate(dff.index, start=1)]\n",
    "dff.head()"
   ]
  },
  {
   "cell_type": "code",
   "execution_count": 43,
   "metadata": {},
   "outputs": [
    {
     "name": "stderr",
     "output_type": "stream",
     "text": [
      "/var/folders/m7/cdsvqlhs2715rg1dhl8hm35r0000gp/T/ipykernel_22268/2049694484.py:1: SettingWithCopyWarning: \n",
      "A value is trying to be set on a copy of a slice from a DataFrame.\n",
      "Try using .loc[row_indexer,col_indexer] = value instead\n",
      "\n",
      "See the caveats in the documentation: https://pandas.pydata.org/pandas-docs/stable/user_guide/indexing.html#returning-a-view-versus-a-copy\n",
      "  dff['log_rank'] = np.log(dff['rank'])\n",
      "/var/folders/m7/cdsvqlhs2715rg1dhl8hm35r0000gp/T/ipykernel_22268/2049694484.py:2: SettingWithCopyWarning: \n",
      "A value is trying to be set on a copy of a slice from a DataFrame.\n",
      "Try using .loc[row_indexer,col_indexer] = value instead\n",
      "\n",
      "See the caveats in the documentation: https://pandas.pydata.org/pandas-docs/stable/user_guide/indexing.html#returning-a-view-versus-a-copy\n",
      "  dff['log_freq'] = np.log(dff['Frequency'])\n"
     ]
    },
    {
     "data": {
      "text/html": [
       "<div>\n",
       "<style scoped>\n",
       "    .dataframe tbody tr th:only-of-type {\n",
       "        vertical-align: middle;\n",
       "    }\n",
       "\n",
       "    .dataframe tbody tr th {\n",
       "        vertical-align: top;\n",
       "    }\n",
       "\n",
       "    .dataframe thead th {\n",
       "        text-align: right;\n",
       "    }\n",
       "</style>\n",
       "<table border=\"1\" class=\"dataframe\">\n",
       "  <thead>\n",
       "    <tr style=\"text-align: right;\">\n",
       "      <th></th>\n",
       "      <th>Item</th>\n",
       "      <th>Frequency</th>\n",
       "      <th>rank</th>\n",
       "      <th>log_rank</th>\n",
       "      <th>log_freq</th>\n",
       "    </tr>\n",
       "  </thead>\n",
       "  <tbody>\n",
       "    <tr>\n",
       "      <th>2</th>\n",
       "      <td>di</td>\n",
       "      <td>12649968</td>\n",
       "      <td>1</td>\n",
       "      <td>0.000000</td>\n",
       "      <td>16.353165</td>\n",
       "    </tr>\n",
       "    <tr>\n",
       "      <th>3</th>\n",
       "      <td>e</td>\n",
       "      <td>7934223</td>\n",
       "      <td>2</td>\n",
       "      <td>0.693147</td>\n",
       "      <td>15.886696</td>\n",
       "    </tr>\n",
       "    <tr>\n",
       "      <th>4</th>\n",
       "      <td>il</td>\n",
       "      <td>7227432</td>\n",
       "      <td>3</td>\n",
       "      <td>1.098612</td>\n",
       "      <td>15.793394</td>\n",
       "    </tr>\n",
       "    <tr>\n",
       "      <th>5</th>\n",
       "      <td>la</td>\n",
       "      <td>6572308</td>\n",
       "      <td>4</td>\n",
       "      <td>1.386294</td>\n",
       "      <td>15.698376</td>\n",
       "    </tr>\n",
       "    <tr>\n",
       "      <th>6</th>\n",
       "      <td>che</td>\n",
       "      <td>6442608</td>\n",
       "      <td>5</td>\n",
       "      <td>1.609438</td>\n",
       "      <td>15.678444</td>\n",
       "    </tr>\n",
       "  </tbody>\n",
       "</table>\n",
       "</div>"
      ],
      "text/plain": [
       "  Item  Frequency  rank  log_rank   log_freq\n",
       "2   di   12649968     1  0.000000  16.353165\n",
       "3    e    7934223     2  0.693147  15.886696\n",
       "4   il    7227432     3  1.098612  15.793394\n",
       "5   la    6572308     4  1.386294  15.698376\n",
       "6  che    6442608     5  1.609438  15.678444"
      ]
     },
     "execution_count": 43,
     "metadata": {},
     "output_type": "execute_result"
    }
   ],
   "source": [
    "dff['log_rank'] = np.log(dff['rank'])\n",
    "dff['log_freq'] = np.log(dff['Frequency'])\n",
    "dff.head()"
   ]
  },
  {
   "cell_type": "code",
   "execution_count": 44,
   "metadata": {},
   "outputs": [
    {
     "data": {
      "text/plain": [
       "<Axes: xlabel='log_rank', ylabel='log_freq'>"
      ]
     },
     "execution_count": 44,
     "metadata": {},
     "output_type": "execute_result"
    },
    {
     "data": {
      "image/png": "[encoded data removed]",
      "text/plain": [
       "<Figure size 864x648 with 1 Axes>"
      ]
     },
     "metadata": {},
     "output_type": "display_data"
    }
   ],
   "source": [
    "sns.regplot(data = dff, x='log_rank', y='log_freq')"
   ]
  },
  {
   "attachments": {},
   "cell_type": "markdown",
   "metadata": {},
   "source": [
    "## Esplorare le concordanze con `NLTK`"
   ]
  },
  {
   "attachments": {},
   "cell_type": "markdown",
   "metadata": {},
   "source": [
    "Esploriamo le conconrdanze del corpus di Hate Speech detection con la libreria che abbiamo già usato nella lezione sulla tokenizzazione, `NLTK`. NLTK offre una classe apposita (`Text`) per esplorare i dati testuali, utilizzando concordanze e collocazioni"
   ]
  },
  {
   "cell_type": "code",
   "execution_count": 20,
   "metadata": {},
   "outputs": [],
   "source": [
    "from nltk import Text"
   ]
  },
  {
   "attachments": {},
   "cell_type": "markdown",
   "metadata": {},
   "source": [
    "Creiamo un'istanza della classe `Text` con la lista dei token del nostro corpus"
   ]
  },
  {
   "cell_type": "code",
   "execution_count": 21,
   "metadata": {},
   "outputs": [],
   "source": [
    "t = Text(yt_toks)"
   ]
  },
  {
   "attachments": {},
   "cell_type": "markdown",
   "metadata": {},
   "source": [
    "E ora cerchiamo la chiave \"buono\""
   ]
  },
  {
   "cell_type": "code",
   "execution_count": 22,
   "metadata": {},
   "outputs": [
    {
     "name": "stdout",
     "output_type": "stream",
     "text": [
      "Displaying 25 of 135 matches:\n",
      "egno che si dovrà pagare qualcosa di buono è capiamo di essere uno tutti colleg\n",
      "atto il governo italiano per anni di buono per italia tanto peggio di prima non\n",
      "l mio paese stanno aiutando dando di buono spesa alla settimana per le famiglie\n",
      "cittadini italiani il governo è solo buono a chiedere soldi vergogna tutti ness\n",
      " mascherina che cosa fanno in giro è buono vero una italia con gente civilizzat\n",
      " o più niente da perdere se nn sarei buono con le mani ci sono altri metodi x m\n",
      "formazioni avanti cosi certo sarebbe buono sapere la situazione e il pensiero n\n",
      " mister no e già sai ogni appiglio e buono stia tranquilla signora al mondo ci \n",
      "n fosse per il mio sadismo sarei più buono con loro ma proprio non ce la faccio\n",
      "to di patente unico comunista cinese buono è quello morto la mia livorno italia\n",
      "io schiacallare ora che e il momento buono infatti la meloncina sale di consens\n",
      "agire subito italexit almeno il lato buono della cosa un di pulizia delle zone \n",
      "ro diceva la verità prodi il maschio buono ha sempre detto balle non solo ma co\n",
      "diana dei cittadini ora che fatto di buono che benefici ha prodotto agli europe\n",
      "rza e salute dalla se ne uscisse uno buono da sti tre coglioni ma sto governo è\n",
      "ioni soros grazie sei diventato così buono mmmmmm fammi state zitto va riccardo\n",
      "zza di non essere razzista di essere buono per poi sputare contro a persone che\n",
      "acchina fotografica visto che è così buono può accoglierli a casa sua ma come s\n",
      " questo è un abuso di potere bello e buono complimenti onorevole meloni dovrebb\n",
      "lvò l europa con il piano marshall e buono merluzzo essendo un popolo con scars\n",
      " unione europea non ha dato nulla di buono italia penso che italia possa resist\n",
      "no festeggiamenti almeno per un mese buono basta champagne camambert e altri fo\n",
      "buffone tu e il tu partito dimettiti buono a nulla noi italiani capiamo qualcos\n",
      "t vegan però inizio diceva di essere buono amato da tutti altruista amico di tu\n",
      "ole ascolta a me sei sempre piaciuta buono x i tuoi video patriottici ma come m\n"
     ]
    }
   ],
   "source": [
    "t.concordance('buono')"
   ]
  },
  {
   "attachments": {},
   "cell_type": "markdown",
   "metadata": {},
   "source": [
    "Di default, il metodo che stampa le concordanze a video lavora con una finestra di 80 caratteri e mostra 25 righe. Possiamo modificare questi parametri:"
   ]
  },
  {
   "cell_type": "code",
   "execution_count": 23,
   "metadata": {},
   "outputs": [
    {
     "name": "stdout",
     "output_type": "stream",
     "text": [
      "Displaying 30 of 135 matches:\n",
      "lo ma questo è il sacrificio o il pegno che si dovrà pagare qualcosa di buono è capiamo di essere uno tutti collegati fisicamente a prescindere della\n",
      "i ma poi parliamoci chiaro che ha fatto il governo italiano per anni di buono per italia tanto peggio di prima non si poteva andare magari andiamo me\n",
      "ano i primi ad essere colpiti qui al mio paese stanno aiutando dando di buono spesa alla settimana per le famiglie ottima iniziativa pratola serra av\n",
      "esiste auto assistenzialismo tra i cittadini italiani il governo è solo buono a chiedere soldi vergogna tutti nessun fenomeno che adesso rompe il caz\n",
      "nopersone con i figli piccoli senza mascherina che cosa fanno in giro è buono vero una italia con gente civilizzata inizio sono stati provati e poi r\n",
      "rei male a una mosca oggi giorno nn o più niente da perdere se nn sarei buono con le mani ci sono altri metodi x mandare al cimitero una verme io o u\n",
      "n casa ciao grazie x i dati e le informazioni avanti cosi certo sarebbe buono sapere la situazione e il pensiero nella tua nazione saluti ma cosa sta\n",
      "gio e il disaccordo di tutta italia mister no e già sai ogni appiglio e buono stia tranquilla signora al mondo ci sono malattie ben peggiori e in pas\n",
      "lo a me fanno quasi tenerezza se non fosse per il mio sadismo sarei più buono con loro ma proprio non ce la faccio è più forte di me devo spiattellar\n",
      " fiotti e noi in casa scema con tanto di patente unico comunista cinese buono è quello morto la mia livorno italiani se ci salviamo dal corona virus \n",
      "uto quello che e successo nooo meglio schiacallare ora che e il momento buono infatti la meloncina sale di consensi e il cazzaro scende questa guerra\n",
      "ce la grande unione europa bisogna agire subito italexit almeno il lato buono della cosa un di pulizia delle zone scusa non per offendere ma una cycl\n",
      "thatcher la cattiva la donna di ferro diceva la verità prodi il maschio buono ha sempre detto balle non solo ma con la faccia come il culo avete rott\n",
      "ro che destabilizzare la vita quotidiana dei cittadini ora che fatto di buono che benefici ha prodotto agli europei unione del ca eravamo piu uniti p\n",
      "gando per te bella italia ti amo forza e salute dalla se ne uscisse uno buono da sti tre coglioni ma sto governo è una barzelletta che noi coglioni g\n",
      "ategoria fate voi le vostre valutazioni soros grazie sei diventato così buono mmmmmm fammi state zitto va riccardo b spero abbia detto così come pres\n",
      "re tutta la tua boria la tua sicurezza di non essere razzista di essere buono per poi sputare contro a persone che non conosci solo per tuoi pregiudi\n",
      " ma chi è questo che parla con la macchina fotografica visto che è così buono può accoglierli a casa sua ma come siete sciocchi e qualunque cosa vi c\n",
      "dichiarare le tue generalità a voce questo è un abuso di potere bello e buono complimenti onorevole meloni dovrebbero sapere anche che quelle mascher\n",
      "acciamo rocco la marca l america salvò l europa con il piano marshall e buono merluzzo essendo un popolo con scarso igiene moriranno purtroppo volte \n",
      "go davvero male italia che aderisce unione europea non ha dato nulla di buono italia penso che italia possa resistere da sola con mille è stato bello\n",
      " tutto finito nelle strade ci saranno festeggiamenti almeno per un mese buono basta champagne camambert e altri formaggi o vini francesi quando ne ab\n",
      "ravate no vax e ora pezzi di merda buffone tu e il tu partito dimettiti buono a nulla noi italiani capiamo qualcosa quando è di mezzo il dio quattrin\n",
      "enisse dal centro di ricerca erika t vegan però inizio diceva di essere buono amato da tutti altruista amico di tutti una farsa continua e resti solo\n",
      "incuranza ed inadempienza delle regole ascolta a me sei sempre piaciuta buono x i tuoi video patriottici ma come me sento tantissime persone che vogl\n",
      "e col miraggio di essere mantenuti quando vedo ciò mi vergogno per loro buono a nulla presidente del coniglio dei ministri giuseppe conte sei la verg\n",
      "bbigliamento per moto è una vergogna tranquilla il tuo italiano è molto buono adina uno spettacolo bellissimo restate a casa meno male black wolf mi \n",
      "re champagne e ore che cominciare a bere tutto italiano che e anche piu buono europa ci ha voltato le spalle e anche gli usa gli unici aiuti che veng\n",
      "o stanco è da prima di carnevale che sono ai domiciliari spero avere un buono per uscire gratis di prigione quando finirà tutto questo e spero finisc\n",
      "one nel mezzogiorno italia vai a farti ma pugnetta o manco a quello sei buono stefania gualandi é la ndrangheta che gestisce la maggior parte del bus\n"
     ]
    }
   ],
   "source": [
    "t.concordance('buono', width=150, lines=30)"
   ]
  },
  {
   "attachments": {},
   "cell_type": "markdown",
   "metadata": {},
   "source": [
    "Possiamo anche cercare sequenze di più token"
   ]
  },
  {
   "cell_type": "code",
   "execution_count": 24,
   "metadata": {},
   "outputs": [
    {
     "name": "stdout",
     "output_type": "stream",
     "text": [
      "Displaying 5 of 5 matches:\n",
      "isce unione europea non ha dato nulla di buono italia penso che italia possa r\n",
      "cazzo in anni non ci ha portato nulla di buono apparte debiti loro sono il ver\n",
      "oicottata piuttosto che seguita nulla di buono arriverà dalla escluso giletti \n",
      "a del signore non possiamo fare nulla di buono e naturalmente mettendoci il no\n",
      "ria mi puzza parecchio non vedo nulla di buono mi spiace per i giovani che se \n"
     ]
    }
   ],
   "source": [
    "t.concordance([\"nulla\", 'di', \"buono\"])"
   ]
  },
  {
   "attachments": {},
   "cell_type": "markdown",
   "metadata": {},
   "source": [
    "Ma come funziona la generazione delle concordanze? Il metodo genera un indice (`_concordance_list`) dell'istanza dove viene mappato ogni tipo alle sue posizioni nel testo.\n",
    "\n",
    "Vediamo ad es. gli \"offsets\" (ovvero l'indice numerico) della parola \"buono\":"
   ]
  },
  {
   "cell_type": "code",
   "execution_count": 25,
   "metadata": {},
   "outputs": [
    {
     "data": {
      "text/plain": [
       "[3468, 12129, 27913, 28857, 34086]"
      ]
     },
     "execution_count": 25,
     "metadata": {},
     "output_type": "execute_result"
    }
   ],
   "source": [
    "t._concordance_index._offsets['buono'][:5]"
   ]
  },
  {
   "attachments": {},
   "cell_type": "markdown",
   "metadata": {},
   "source": [
    "Vediamo il primo:"
   ]
  },
  {
   "cell_type": "code",
   "execution_count": 194,
   "metadata": {},
   "outputs": [
    {
     "name": "stdout",
     "output_type": "stream",
     "text": [
      "buono\n"
     ]
    }
   ],
   "source": [
    "print(yt_toks[75763])"
   ]
  },
  {
   "attachments": {},
   "cell_type": "markdown",
   "metadata": {},
   "source": [
    "## Espressioni Regolari"
   ]
  },
  {
   "attachments": {},
   "cell_type": "markdown",
   "metadata": {},
   "source": [
    "`NLTK` mette a disposizione anche un interessante classe (`TokenSearcher`) per fare ricerche usando le espressioni regolari su una lista di token.\n",
    " \n",
    " La sintassi delle regex è la medesima che abbiamo visto a lezione, ma i token vanno scritti tra parentesi uncinate `<>`.\n",
    "\n",
    " Ad esempio: cerchiamo le sequenze *un buon x* o *una buona x* nel nostro corpus utilizzando le espressioni regolari"
   ]
  },
  {
   "cell_type": "code",
   "execution_count": 26,
   "metadata": {},
   "outputs": [],
   "source": [
    "from nltk.text import TokenSearcher"
   ]
  },
  {
   "cell_type": "code",
   "execution_count": 27,
   "metadata": {},
   "outputs": [
    {
     "data": {
      "text/plain": [
       "[['una', 'buona', 'serata'],\n",
       " ['una', 'buona', 'scuola'],\n",
       " ['una', 'buona', 'giornata'],\n",
       " ['una', 'buona', 'occasione'],\n",
       " ['una', 'buona', 'ragione'],\n",
       " ['una', 'buona', 'volta'],\n",
       " ['uno', 'buono', 'da'],\n",
       " ['una', 'buona', 'serata'],\n",
       " ['una', 'buona', 'vita'],\n",
       " ['una', 'buona', 'parte'],\n",
       " ['una', 'buona', 'scusa'],\n",
       " ['una', 'buona', 'volta'],\n",
       " ['una', 'buona', 'cosa'],\n",
       " ['una', 'buona', 'giornata'],\n",
       " ['una', 'buona', 'compagnia'],\n",
       " ['una', 'buona', 'volta'],\n",
       " ['una', 'buona', 'parte'],\n",
       " ['una', 'buona', 'volta'],\n",
       " ['un', 'buono', 'per'],\n",
       " ['una', 'buona', 'idea'],\n",
       " ['una', 'buona', 'leva'],\n",
       " ['una', 'buona', 'salute'],\n",
       " ['una', 'buona', 'parte'],\n",
       " ['una', 'buona', 'percentuale'],\n",
       " ['una', 'buona', 'causa'],\n",
       " ['una', 'buona', 'giornata'],\n",
       " ['una', 'buona', 'idea'],\n",
       " ['una', 'buona', 'parte'],\n",
       " ['una', 'buona', 'giornata'],\n",
       " ['una', 'buona', 'dose'],\n",
       " ['una', 'buona', 'idea'],\n",
       " ['una', 'buona', 'fetta'],\n",
       " ['una', 'buona', 'zona'],\n",
       " ['una', 'buona', 'parte'],\n",
       " ['una', 'buona', 'alimentazione'],\n",
       " ['un', 'buono', 'a'],\n",
       " ['una', 'buona', 'volta'],\n",
       " ['una', 'buona', 'parte'],\n",
       " ['una', 'buona', 'e'],\n",
       " ['una', 'buona', 'giornata'],\n",
       " ['una', 'buona', 'parte'],\n",
       " ['una', 'buona', 'serata'],\n",
       " ['un', 'buono', 'a'],\n",
       " ['una', 'buona', 'guarigione'],\n",
       " ['una', 'buona', 'parte'],\n",
       " ['una', 'buona', 'notizia'],\n",
       " ['una', 'buona', 'imunita'],\n",
       " ['una', 'buona', 'mossa'],\n",
       " ['una', 'buona', 'giornata'],\n",
       " ['una', 'buona', 'volta'],\n",
       " ['una', 'buona', 'prospettiva'],\n",
       " ['una', 'buona', 'volta'],\n",
       " ['una', 'buona', 'strategia'],\n",
       " ['una', 'buona', 'serata'],\n",
       " ['una', 'buona', 'notizia'],\n",
       " ['una', 'buona', 'serata'],\n",
       " ['una', 'buona', 'serata'],\n",
       " ['una', 'buona', 'serata'],\n",
       " ['una', 'buona', 'serata'],\n",
       " ['una', 'buona', 'ragione'],\n",
       " ['una', 'buona', 'scopata'],\n",
       " ['una', 'buona', 'parte'],\n",
       " ['un', 'buono', 'a'],\n",
       " ['una', 'buona', 'giornata'],\n",
       " ['una', 'buona', 'guarigione'],\n",
       " ['una', 'buona', 'idea'],\n",
       " ['una', 'buona', 'serata'],\n",
       " ['una', 'buona', 'scuola'],\n",
       " ['una', 'buona', 'parte'],\n",
       " ['una', 'buona', 'vitaat'],\n",
       " ['un', 'buono', 'per'],\n",
       " ['una', 'buona', 'cultura'],\n",
       " ['una', 'buona', 'notizia'],\n",
       " ['una', 'buona', 'giornata'],\n",
       " ['una', 'buona', 'parte'],\n",
       " ['una', 'buona', 'volontà'],\n",
       " ['una', 'buona', 'volta'],\n",
       " ['una', 'buona', 'guarigione'],\n",
       " ['una', 'buona', 'parte'],\n",
       " ['una', 'buona', 'amministrazione'],\n",
       " ['una', 'buona', 'volta'],\n",
       " ['una', 'buona', 'serata'],\n",
       " ['una', 'buona', 'volta'],\n",
       " ['una', 'buona', 'parte'],\n",
       " ['una', 'buona', 'cucina'],\n",
       " ['una', 'buona', 'festa'],\n",
       " ['una', 'buona', 'volta'],\n",
       " ['una', 'buona', 'parte'],\n",
       " ['una', 'buona', 'giornata'],\n",
       " ['una', 'buona', 'percentuale'],\n",
       " ['una', 'buona', 'parte'],\n",
       " ['una', 'buona', 'occasione'],\n",
       " ['una', 'buona', 'parte'],\n",
       " ['una', 'buona', 'volta'],\n",
       " ['una', 'buona', 'serata']]"
      ]
     },
     "execution_count": 27,
     "metadata": {},
     "output_type": "execute_result"
    }
   ],
   "source": [
    "tsearch =  TokenSearcher(yt_toks)\n",
    "tsearch.findall('<un[ao]?><buon[ao]><.*>')"
   ]
  },
  {
   "attachments": {},
   "cell_type": "markdown",
   "metadata": {},
   "source": [
    "Possiamo aggregare e contare i nomi per avere una specie di statistica:"
   ]
  },
  {
   "cell_type": "code",
   "execution_count": 28,
   "metadata": {},
   "outputs": [
    {
     "data": {
      "text/plain": [
       "[('parte', 16),\n",
       " ('volta', 12),\n",
       " ('serata', 11),\n",
       " ('giornata', 9),\n",
       " ('idea', 4),\n",
       " ('a', 3),\n",
       " ('guarigione', 3),\n",
       " ('notizia', 3),\n",
       " ('scuola', 2),\n",
       " ('occasione', 2),\n",
       " ('ragione', 2),\n",
       " ('per', 2),\n",
       " ('percentuale', 2),\n",
       " ('da', 1),\n",
       " ('vita', 1),\n",
       " ('scusa', 1),\n",
       " ('cosa', 1),\n",
       " ('compagnia', 1),\n",
       " ('leva', 1),\n",
       " ('salute', 1)]"
      ]
     },
     "execution_count": 28,
     "metadata": {},
     "output_type": "execute_result"
    }
   ],
   "source": [
    "res = tsearch.findall('<un[ao]?><buon[ao]>(<.*>)')\n",
    "ctok = Counter([r[0] for r in res])\n",
    "ctok.most_common(20)"
   ]
  },
  {
   "attachments": {},
   "cell_type": "markdown",
   "metadata": {},
   "source": [
    "# Collocations"
   ]
  },
  {
   "cell_type": "code",
   "execution_count": 29,
   "metadata": {},
   "outputs": [],
   "source": [
    "from nltk import collocations\n",
    "from nltk.collocations import BigramAssocMeasures\n",
    "\n",
    "bigram_measures = BigramAssocMeasures()"
   ]
  },
  {
   "cell_type": "code",
   "execution_count": 35,
   "metadata": {},
   "outputs": [
    {
     "data": {
      "text/plain": [
       "[('angiolina', 'belloni'),\n",
       " ('hong', 'kong'),\n",
       " ('class', 'action'),\n",
       " ('helicopter', 'money'),\n",
       " ('trevor', 'saba'),\n",
       " ('radical', 'chic'),\n",
       " ('nadia', 'agostin'),\n",
       " ('spina', 'dorsale'),\n",
       " ('urbino', 'urbano'),\n",
       " ('flash', 'mob'),\n",
       " ('sd', 'free'),\n",
       " ('squalifica', 'squalifica'),\n",
       " ('piazzale', 'loreto'),\n",
       " ('edi', 'rama'),\n",
       " ('turni', 'massacranti'),\n",
       " ('cassandra', 'paris'),\n",
       " ('extra', 'comunitari'),\n",
       " ('monica', 'castagna'),\n",
       " ('dogma', 'revolution'),\n",
       " ('frecce', 'tricolori')]"
      ]
     },
     "execution_count": 35,
     "metadata": {},
     "output_type": "execute_result"
    }
   ],
   "source": [
    "finder = collocations.BigramCollocationFinder.from_words(yt_toks)\n",
    "finder.apply_freq_filter(10)\n",
    "finder.nbest(bigram_measures.pmi, 20)"
   ]
  },
  {
   "cell_type": "code",
   "execution_count": 38,
   "metadata": {},
   "outputs": [
    {
     "data": {
      "text/plain": [
       "[('a', 'casa'),\n",
       " ('gli', 'italiani'),\n",
       " ('quello', 'che'),\n",
       " ('in', 'italia'),\n",
       " ('il', 'virus'),\n",
       " ('ci', 'sono'),\n",
       " ('tutti', 'i'),\n",
       " ('i', 'nostri'),\n",
       " ('corona', 'virus'),\n",
       " ('tutte', 'le'),\n",
       " ('non', 'è'),\n",
       " ('gli', 'altri'),\n",
       " ('la', 'gente'),\n",
       " ('in', 'giro'),\n",
       " ('popolo', 'italiano'),\n",
       " ('unione', 'europea'),\n",
       " ('il', 'governo'),\n",
       " ('la', 'nostra'),\n",
       " ('non', 'si'),\n",
       " ('di', 'merda')]"
      ]
     },
     "execution_count": 38,
     "metadata": {},
     "output_type": "execute_result"
    }
   ],
   "source": [
    "finder = collocations.BigramCollocationFinder.from_words(yt_toks)\n",
    "# finder.apply_freq_filter(5)\n",
    "finder.nbest(bigram_measures.likelihood_ratio, 20)"
   ]
  },
  {
   "cell_type": "code",
   "execution_count": 39,
   "metadata": {},
   "outputs": [],
   "source": [
    "from nltk.corpus import stopwords\n",
    "stop_words = set(stopwords.words('italian'))"
   ]
  },
  {
   "cell_type": "code",
   "execution_count": 40,
   "metadata": {},
   "outputs": [],
   "source": [
    "word_filter = lambda w: w in stop_words"
   ]
  },
  {
   "cell_type": "code",
   "execution_count": 41,
   "metadata": {},
   "outputs": [
    {
     "data": {
      "text/plain": [
       "[('corona', 'virus'),\n",
       " ('popolo', 'italiano'),\n",
       " ('unione', 'europea'),\n",
       " ('forze', 'ordine'),\n",
       " ('bla', 'bla'),\n",
       " ('forza', 'italia'),\n",
       " ('com', 'watch'),\n",
       " ('secondo', 'me'),\n",
       " ('youtube', 'com'),\n",
       " ('watch', 'v'),\n",
       " ('altri', 'paesi'),\n",
       " ('vuol', 'dire'),\n",
       " ('ogni', 'giorno'),\n",
       " ('terapia', 'intensiva'),\n",
       " ('troppo', 'tardi'),\n",
       " ('de', 'luca'),\n",
       " ('maggior', 'parte'),\n",
       " ('va', 'bene'),\n",
       " ('grazie', 'mille'),\n",
       " ('zona', 'rossa')]"
      ]
     },
     "execution_count": 41,
     "metadata": {},
     "output_type": "execute_result"
    }
   ],
   "source": [
    "finder = collocations.BigramCollocationFinder.from_words(yt_toks)\n",
    "finder.apply_word_filter(word_filter)\n",
    "finder.nbest(bigram_measures.likelihood_ratio, 20)"
   ]
  },
  {
   "cell_type": "code",
   "execution_count": 45,
   "metadata": {},
   "outputs": [
    {
     "data": {
      "text/plain": [
       "1503.7520544064232"
      ]
     },
     "execution_count": 45,
     "metadata": {},
     "output_type": "execute_result"
    }
   ],
   "source": [
    "finder.score_ngram(BigramAssocMeasures.likelihood_ratio, 'zona', 'rossa')"
   ]
  },
  {
   "cell_type": "code",
   "execution_count": 46,
   "metadata": {},
   "outputs": [
    {
     "data": {
      "text/plain": [
       "387.70701982284663"
      ]
     },
     "execution_count": 46,
     "metadata": {},
     "output_type": "execute_result"
    }
   ],
   "source": [
    "finder.score_ngram(BigramAssocMeasures.likelihood_ratio, 'gente', 'muore')"
   ]
  },
  {
   "cell_type": "markdown",
   "metadata": {},
   "source": [
    "### Subtitle of Game of Thrones"
   ]
  },
  {
   "cell_type": "code",
   "execution_count": 47,
   "metadata": {},
   "outputs": [],
   "source": [
    "from nltk.corpus import PlaintextCorpusReader"
   ]
  },
  {
   "cell_type": "code",
   "execution_count": 54,
   "metadata": {},
   "outputs": [
    {
     "data": {
      "text/plain": [
       "7"
      ]
     },
     "execution_count": 54,
     "metadata": {},
     "output_type": "execute_result"
    }
   ],
   "source": [
    "gtcorpus = PlaintextCorpusReader(root=\"/Users/francesco.mambrini/Downloads/gt_subtitles\", fileids=r\"season[0-9].txt\")\n",
    "len(gtcorpus.fileids())"
   ]
  },
  {
   "cell_type": "code",
   "execution_count": null,
   "metadata": {},
   "outputs": [],
   "source": []
  },
  {
   "cell_type": "code",
   "execution_count": 58,
   "metadata": {},
   "outputs": [
    {
     "data": {
      "text/plain": [
       "[('seven', 'kingdoms'),\n",
       " ('jon', 'snow'),\n",
       " ('font', 'color'),\n",
       " ('castle', 'black'),\n",
       " ('casterly', 'rock'),\n",
       " ('color', '=\"#'),\n",
       " ('lord', 'commander'),\n",
       " ('ned', 'stark'),\n",
       " ('iron', 'throne'),\n",
       " ('white', 'walkers'),\n",
       " ('iron', 'islands'),\n",
       " ('</', 'font'),\n",
       " ('shame', 'shame'),\n",
       " ('tywin', 'lannister'),\n",
       " ('mhysa', 'mhysa'),\n",
       " ('robb', 'stark'),\n",
       " ('ser', 'davos'),\n",
       " ('lord', 'baelish'),\n",
       " ('small', 'council'),\n",
       " ('ec14bd', '\">')]"
      ]
     },
     "execution_count": 58,
     "metadata": {},
     "output_type": "execute_result"
    }
   ],
   "source": [
    "import string\n",
    "\n",
    "gttoks = [c.lower() for c in gtcorpus.words() if c not in string.punctuation]\n",
    "\n",
    "stop_words = set(stopwords.words('english'))\n",
    "\n",
    "\n",
    "finder = collocations.BigramCollocationFinder.from_words(gttoks)\n",
    "finder.apply_word_filter(word_filter)\n",
    "finder.nbest(bigram_measures.likelihood_ratio, 20)"
   ]
  },
  {
   "cell_type": "markdown",
   "metadata": {},
   "source": [
    "### Log Dice"
   ]
  },
  {
   "cell_type": "markdown",
   "metadata": {},
   "source": [
    "Let us set the variable `toks` to whatever list of tokens we want to work with"
   ]
  },
  {
   "cell_type": "code",
   "execution_count": 103,
   "metadata": {},
   "outputs": [],
   "source": [
    "toks = yt_toks"
   ]
  },
  {
   "cell_type": "code",
   "execution_count": 104,
   "metadata": {},
   "outputs": [],
   "source": [
    "import math\n",
    "\n",
    "def log_dice(f12, f1, f2):\n",
    "    \"\"\"Calculate the Log Dice correlation measure.\"\"\"\n",
    "    return 14 + math.log2((2 * f12) / (f1 + f2))"
   ]
  },
  {
   "cell_type": "code",
   "execution_count": 105,
   "metadata": {},
   "outputs": [],
   "source": [
    "from nltk import FreqDist"
   ]
  },
  {
   "cell_type": "code",
   "execution_count": 106,
   "metadata": {},
   "outputs": [],
   "source": [
    "fdist = FreqDist(toks)"
   ]
  },
  {
   "cell_type": "code",
   "execution_count": 107,
   "metadata": {},
   "outputs": [
    {
     "data": {
      "text/plain": [
       "[('e', 47099),\n",
       " ('che', 44996),\n",
       " ('di', 42405),\n",
       " ('non', 32884),\n",
       " ('il', 28953),\n",
       " ('la', 28648),\n",
       " ('a', 28212),\n",
       " ('in', 23955),\n",
       " ('è', 20855),\n",
       " ('per', 20081)]"
      ]
     },
     "execution_count": 107,
     "metadata": {},
     "output_type": "execute_result"
    }
   ],
   "source": [
    "fdist.most_common(10)"
   ]
  },
  {
   "cell_type": "code",
   "execution_count": 114,
   "metadata": {},
   "outputs": [],
   "source": [
    "finder = collocations.BigramCollocationFinder.from_words(toks)\n",
    "threshold = 15\n",
    "finder.apply_freq_filter(threshold)"
   ]
  },
  {
   "cell_type": "markdown",
   "metadata": {},
   "source": [
    "This helps me getting `f12`"
   ]
  },
  {
   "cell_type": "code",
   "execution_count": 115,
   "metadata": {},
   "outputs": [
    {
     "name": "stdout",
     "output_type": "stream",
     "text": [
      "Bigram (f12) frequency: 0\n",
      "First-item (f1) frequency: 18675\n",
      "Second-item (f2) frequency: 13\n"
     ]
    }
   ],
   "source": [
    "print(f\"Bigram (f12) frequency: {finder.ngram_fd[('i', 'am')]}\")\n",
    "print(f\"First-item (f1) frequency: {fdist['i']}\")\n",
    "print(f\"Second-item (f2) frequency: {fdist['am']}\")"
   ]
  },
  {
   "cell_type": "code",
   "execution_count": 116,
   "metadata": {},
   "outputs": [
    {
     "data": {
      "text/plain": [
       "0"
      ]
     },
     "execution_count": 116,
     "metadata": {},
     "output_type": "execute_result"
    }
   ],
   "source": [
    "finder.ngram_fd[('i', 'am')]"
   ]
  },
  {
   "cell_type": "code",
   "execution_count": 117,
   "metadata": {},
   "outputs": [],
   "source": [
    "ldices = {}\n",
    "for big, c in finder.ngram_fd.items():\n",
    "    f12 = c\n",
    "    f1 = fdist[big[0]]\n",
    "    f2 = fdist[big[1]]\n",
    "    score = log_dice(f12, f1, f2)\n",
    "    ldices[big] = score"
   ]
  },
  {
   "cell_type": "code",
   "execution_count": 118,
   "metadata": {},
   "outputs": [
    {
     "ename": "KeyError",
     "evalue": "('don', 't')",
     "output_type": "error",
     "traceback": [
      "\u001b[0;31m---------------------------------------------------------------------------\u001b[0m",
      "\u001b[0;31mKeyError\u001b[0m                                  Traceback (most recent call last)",
      "Input \u001b[0;32mIn [118]\u001b[0m, in \u001b[0;36m<module>\u001b[0;34m\u001b[0m\n\u001b[0;32m----> 1\u001b[0m \u001b[43mldices\u001b[49m\u001b[43m[\u001b[49m\u001b[43m(\u001b[49m\u001b[38;5;124;43m'\u001b[39;49m\u001b[38;5;124;43mdon\u001b[39;49m\u001b[38;5;124;43m'\u001b[39;49m\u001b[43m,\u001b[49m\u001b[43m \u001b[49m\u001b[38;5;124;43m'\u001b[39;49m\u001b[38;5;124;43mt\u001b[39;49m\u001b[38;5;124;43m'\u001b[39;49m\u001b[43m)\u001b[49m\u001b[43m]\u001b[49m\n",
      "\u001b[0;31mKeyError\u001b[0m: ('don', 't')"
     ]
    }
   ],
   "source": [
    "ldices[('don', 't')]"
   ]
  },
  {
   "cell_type": "code",
   "execution_count": 119,
   "metadata": {},
   "outputs": [],
   "source": [
    "ldf = FreqDist(ldices)"
   ]
  },
  {
   "cell_type": "code",
   "execution_count": 120,
   "metadata": {},
   "outputs": [
    {
     "data": {
      "text/plain": [
       "[(('task', 'force'), 13.830074998557688),\n",
       " (('terapia', 'intensiva'), 13.827163403137785),\n",
       " (('flash', 'mob'), 13.79054663437105),\n",
       " (('difese', 'immunitarie'), 13.777607578663552),\n",
       " (('nik', 'lang'), 13.777607578663552),\n",
       " (('dogma', 'revolution'), 13.736965594166206),\n",
       " (('scie', 'chimiche'), 13.697437229979569),\n",
       " (('luisa', 'cerutti'), 13.691877704637669),\n",
       " (('new', 'york'), 13.665580960929441),\n",
       " (('tiziana', 'mantino'), 13.633217669328378),\n",
       " (('terapie', 'intensive'), 13.62148837674627),\n",
       " (('carri', 'armati'), 13.60407132366886),\n",
       " (('watch', 'v'), 13.583665696102704),\n",
       " (('kill', 'dogma'), 13.534336427651189),\n",
       " (('von', 'der'), 13.532873989572701),\n",
       " (('lina', 'faccani'), 13.485426827170242),\n",
       " (('arresti', 'domiciliari'), 13.485426827170242),\n",
       " (('aldo', 'moro'), 13.460841188891969),\n",
       " (('bla', 'bla'), 13.430212493113087),\n",
       " (('bill', 'gates'), 13.415037499278844),\n",
       " (('com', 'watch'), 13.409583069186736),\n",
       " (('der', 'leyen'), 13.39592867633114),\n",
       " (('unione', 'europea'), 13.30485458152842),\n",
       " (('die', 'welt'), 13.299560281858907),\n",
       " (('emilia', 'romagna'), 13.290590128354355),\n",
       " (('charlie', 'lima'), 13.27753397552891),\n",
       " (('antonella', 'elia'), 13.245112497836532),\n",
       " (('cassa', 'integrazione'), 13.201903045803492),\n",
       " (('cle', 'z'), 13.110182917750423),\n",
       " (('you', 'tube'), 13.097297201354914),\n",
       " (('claudio', 'boschini'), 13.079434467494405),\n",
       " (('reti', 'unificate'), 13.065095028221885),\n",
       " (('youtube', 'com'), 13.053039010646813),\n",
       " (('ilaria', 'capua'), 13.048909600480947),\n",
       " (('toc', 'toc'), 13.030373649043518),\n",
       " (('crescere', 'iscriviti'), 13.028014376169596),\n",
       " (('zona', 'rossa'), 13.027406157340652),\n",
       " (('forze', 'ordine'), 12.986752018561315),\n",
       " (('palazzo', 'chigi'), 12.98504965853403),\n",
       " (('alice', 'gioia'), 12.97893838447217),\n",
       " (('campagna', 'elettorale'), 12.953706347726065),\n",
       " (('associazione', 'mafiosa'), 12.921997487998727),\n",
       " (('centri', 'sociali'), 12.877603368640273),\n",
       " (('esseri', 'umani'), 12.8455286509642),\n",
       " (('partite', 'iva'), 12.84349551432001),\n",
       " (('sovranità', 'monetaria'), 12.804212935245722),\n",
       " (('protezione', 'civile'), 12.767978877465776),\n",
       " (('barbara', 'urso'), 12.722015252700235),\n",
       " (('riccardo', 'vannucci'), 12.708768702335554),\n",
       " (('fake', 'news'), 12.706735663364782)]"
      ]
     },
     "execution_count": 120,
     "metadata": {},
     "output_type": "execute_result"
    }
   ],
   "source": [
    "ldf.most_common(50)"
   ]
  },
  {
   "cell_type": "code",
   "execution_count": null,
   "metadata": {},
   "outputs": [],
   "source": []
  }
 ],
 "metadata": {
  "kernelspec": {
   "display_name": "data-env",
   "language": "python",
   "name": "data-env"
  },
  "language_info": {
   "codemirror_mode": {
    "name": "ipython",
    "version": 3
   },
   "file_extension": ".py",
   "mimetype": "text/x-python",
   "name": "python",
   "nbconvert_exporter": "python",
   "pygments_lexer": "ipython3",
   "version": "3.10.2"
  },
  "orig_nbformat": 4
 },
 "nbformat": 4,
 "nbformat_minor": 2
}
