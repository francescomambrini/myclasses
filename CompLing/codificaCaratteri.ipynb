{
 "cells": [
  {
   "cell_type": "markdown",
   "metadata": {},
   "source": [
    "# La codifica dei caratteri"
   ]
  },
  {
   "attachments": {},
   "cell_type": "markdown",
   "metadata": {},
   "source": [
    "Diamo una dimostrazione pratica delle nozioni che abbiamo discusso a lezione. La principale fonte di ispirazione nell'uso Python per illustrare il trattamento della codifica dei caratteri è stato [questo ottimo articolo](https://www.degruyter.com/document/doi/10.1515/9783110599572-009/html) di [James Tauber](https://github.com/jtauber). Lì troverete anche una miniera di informazioni utilissime e ben spiegate sull'encoding e, soprattutto, su Unicode."
   ]
  },
  {
   "attachments": {},
   "cell_type": "markdown",
   "metadata": {},
   "source": [
    "Due parole su [Python](https://www.python.org/). Python è un linguaggio di programmazione interpretato, ovvero che necessita di un particolare programma (un **interprete**) affiché i comandi che noi scriviamo utilizzando la sua sintassi vengano \"tradotte\" riga per riga nella \"lingua madre\" del computer.\n",
    "\n",
    "Questo è un [Jupyter Notebook](https://jupyter-notebook-beginner-guide.readthedocs.io/en/latest/what_is_jupyter.html), ovvero un file che contiene codice scritto in Python eseguibile dall'interprete e caselle di testo come questa. È un ottimo strumento per mischiare codice e spiegazioni!\n",
    "\n",
    "Cominciamo!"
   ]
  },
  {
   "cell_type": "code",
   "execution_count": null,
   "metadata": {},
   "outputs": [],
   "source": []
  },
  {
   "attachments": {},
   "cell_type": "markdown",
   "metadata": {},
   "source": [
    "## I punti di codice"
   ]
  },
  {
   "cell_type": "markdown",
   "metadata": {},
   "source": [
    "In Python possiamo facilmente convertire i caratteri nella loro rappresentazione numerica, ovvero i punti di codice (*code point*). I **punti di codice** sono i numeri associati ad ogni carattere all’interno di uno spazio di codice (*codespace*); ad es. ASCII assegna ad ogni carattere un punto di codice compreso nello spazio 1-128 (o 0-127, contando da zero).\n",
    "\n",
    "Ad esempio sappiamo che in Unicode e in ASCII la lettera `a` (a minuscola) è il carattere 97. Possiamo usare la funzione `ord` per conoscere il code point di un carattere e verificare se è davvero così."
   ]
  },
  {
   "cell_type": "code",
   "execution_count": null,
   "metadata": {},
   "outputs": [],
   "source": [
    "ord('a')"
   ]
  },
  {
   "attachments": {},
   "cell_type": "markdown",
   "metadata": {},
   "source": [
    "Viceversa, una funzione chiamata `chr` ci permette di convertire il punto di codice in stringa"
   ]
  },
  {
   "cell_type": "code",
   "execution_count": null,
   "metadata": {},
   "outputs": [],
   "source": [
    "print(chr(97))"
   ]
  },
  {
   "attachments": {},
   "cell_type": "markdown",
   "metadata": {},
   "source": [
    "E la `A` (a maiuscola)? Avrà lo stesso codice? di `a`. Chiediamolo a Python! "
   ]
  },
  {
   "cell_type": "code",
   "execution_count": null,
   "metadata": {},
   "outputs": [],
   "source": [
    "ord('A')"
   ]
  },
  {
   "attachments": {},
   "cell_type": "markdown",
   "metadata": {},
   "source": [
    "Chiediamogli se, per lui, `a` e `A` sono la stessa cosa:"
   ]
  },
  {
   "cell_type": "code",
   "execution_count": null,
   "metadata": {},
   "outputs": [],
   "source": [
    "ord('A') == ord('a')"
   ]
  },
  {
   "attachments": {},
   "cell_type": "markdown",
   "metadata": {},
   "source": [
    "La risposa è chiara: no!\n",
    "\n",
    "Vediamo qualche carattere che non sia nello spazio di ASCII, come ad esempio la alfa greca `α` (con qualche diacritico) o la e con accento grave `è`:"
   ]
  },
  {
   "cell_type": "code",
   "execution_count": null,
   "metadata": {},
   "outputs": [],
   "source": [
    "print(f'alfa: {ord(\"α\")}')\n",
    "print(f'e grave (è): {ord(\"è\")}')\n",
    "print(f'alfa con spirito aspro e accento acuto: {ord(\"ἅ\")}')"
   ]
  },
  {
   "attachments": {},
   "cell_type": "markdown",
   "metadata": {},
   "source": [
    "Quindi, se voglio scrivere la alfa con spirito aspro e accento acuto posso anche passare il valore numerico alla funzione `chr`:"
   ]
  },
  {
   "cell_type": "code",
   "execution_count": null,
   "metadata": {},
   "outputs": [],
   "source": [
    "chr(7941)"
   ]
  },
  {
   "attachments": {},
   "cell_type": "markdown",
   "metadata": {},
   "source": [
    "## Unicode"
   ]
  },
  {
   "attachments": {},
   "cell_type": "markdown",
   "metadata": {},
   "source": [
    "Le funzioni `ord` e `chr` restituiscono le relazioni fra i caratteri e i punti di codice definiti in Unicode. La libreria `unicodedata` permette di accedere a molte più informazioni nel database dello standard"
   ]
  },
  {
   "cell_type": "code",
   "execution_count": null,
   "metadata": {},
   "outputs": [],
   "source": [
    "import unicodedata"
   ]
  },
  {
   "attachments": {},
   "cell_type": "markdown",
   "metadata": {},
   "source": [
    "Ad esempio possiamo verificare il nome del carattere con il codice numerico che abbiamo visto sopra (7941)"
   ]
  },
  {
   "cell_type": "code",
   "execution_count": null,
   "metadata": {},
   "outputs": [],
   "source": [
    "unicodedata.name(chr(7941))"
   ]
  },
  {
   "attachments": {},
   "cell_type": "markdown",
   "metadata": {},
   "source": [
    "Possiamo sbizzarrirci. Ad esempio, qual è il carattere 10,000 nel set? Come è fatto?"
   ]
  },
  {
   "cell_type": "code",
   "execution_count": null,
   "metadata": {},
   "outputs": [],
   "source": [
    "ch = chr(10000)\n",
    "\n",
    "print(unicodedata.name(ch))\n",
    "print(ch)"
   ]
  },
  {
   "attachments": {},
   "cell_type": "markdown",
   "metadata": {},
   "source": [
    "Se cercate online informazioni sui diversi caratteri unicode (ad es. [qui](https://www.compart.com/en/unicode/U+03B1)), troverete una serie di altri dati. Vedrete che i caratteri sono convenzionalmente identificati con la stringa:\n",
    "\n",
    "```\n",
    "U+XXXX\n",
    "```\n",
    "\n",
    "Dove `XXXX` è il codepoint, espresso però **in base esadecimale!**. In Python possiamo usare una funzione `hex` per convertire i numeri in base decimale alla base esadecimale. Il carattere alfa, che come abbiamo visto ha il numero 945, in base esadecimale diventa:"
   ]
  },
  {
   "cell_type": "code",
   "execution_count": null,
   "metadata": {},
   "outputs": [],
   "source": [
    "hex(945)"
   ]
  },
  {
   "attachments": {},
   "cell_type": "markdown",
   "metadata": {},
   "source": [
    "il numero è: `3b1` (`0x` è il \"prefisso\" dei numeri esadecimale in Python). Il carattere unicode sarà:\n",
    "\n",
    "```\n",
    "U+03b1\n",
    "```\n",
    "\n",
    "Potete [verificare online](https://www.compart.com/en/unicode/U+03B1) che è proprio così. Oppure potete testare il numero esadecimale direttamente con `chr`:"
   ]
  },
  {
   "cell_type": "code",
   "execution_count": null,
   "metadata": {},
   "outputs": [],
   "source": [
    "print(chr(0x3b1))"
   ]
  },
  {
   "attachments": {},
   "cell_type": "markdown",
   "metadata": {},
   "source": [
    "## La codifica dei caratteri"
   ]
  },
  {
   "attachments": {},
   "cell_type": "markdown",
   "metadata": {},
   "source": [
    "* il metodo `encode` ci permette di convertire un carattere in byte, specificando la codifica desiderata\n",
    "* il metodo `decode` ci permette di tornare da byte a caratteri, sempre selezionando la codifica per operare la \"lettura\"\n",
    "\n",
    "Ad esempio, proviamo a coficare il carattere Unicode `è` (code point 231) in Latin-1:"
   ]
  },
  {
   "cell_type": "code",
   "execution_count": null,
   "metadata": {},
   "outputs": [],
   "source": [
    "chr(232).encode('latin1')"
   ]
  },
  {
   "attachments": {},
   "cell_type": "markdown",
   "metadata": {},
   "source": [
    "Ora proviamo a decodificarlo di nuovo"
   ]
  },
  {
   "cell_type": "code",
   "execution_count": null,
   "metadata": {},
   "outputs": [],
   "source": [
    "b'\\xe8'.decode('latin1')"
   ]
  },
  {
   "cell_type": "code",
   "execution_count": null,
   "metadata": {},
   "outputs": [],
   "source": [
    "bin(0xc3)"
   ]
  },
  {
   "attachments": {},
   "cell_type": "markdown",
   "metadata": {},
   "source": [
    "Latin-1 e UTF8 sono compatibili? Cosa succede se prendiamo una stringa (\"la vita è bella\"), e poi:\n",
    "* la codifichiamo come UTF-8\n",
    "* la decodifichiamo com Latin 1?\n",
    "\n",
    "proviamo!"
   ]
  },
  {
   "cell_type": "code",
   "execution_count": null,
   "metadata": {},
   "outputs": [],
   "source": [
    "\"la vita è bella\".encode(\"utf8\").decode('latin1')"
   ]
  },
  {
   "attachments": {},
   "cell_type": "markdown",
   "metadata": {},
   "source": [
    "ASCII e UTF-8, invece, sono compatibili! Proviamo lo stesso esperimento con un altra stringa (a proposito: perché ci serve un'altra stringa?)"
   ]
  },
  {
   "cell_type": "code",
   "execution_count": null,
   "metadata": {},
   "outputs": [],
   "source": [
    "\"arma virumque cano\".encode('ascii').decode('utf8')"
   ]
  },
  {
   "attachments": {},
   "cell_type": "markdown",
   "metadata": {},
   "source": [
    "E se provo a codificare \"perché\" in ASCII?"
   ]
  },
  {
   "cell_type": "code",
   "execution_count": null,
   "metadata": {},
   "outputs": [],
   "source": [
    "'perché'.encode('ascii')"
   ]
  },
  {
   "cell_type": "code",
   "execution_count": null,
   "metadata": {},
   "outputs": [],
   "source": [
    "f'{hex(0b01110000)} {hex(0b00000000)}'"
   ]
  },
  {
   "cell_type": "code",
   "execution_count": null,
   "metadata": {},
   "outputs": [],
   "source": [
    "'jy'.encode('utf16')"
   ]
  },
  {
   "cell_type": "code",
   "execution_count": null,
   "metadata": {},
   "outputs": [],
   "source": []
  }
 ],
 "metadata": {
  "kernelspec": {
   "display_name": "nlp",
   "language": "python",
   "name": "python3"
  },
  "language_info": {
   "codemirror_mode": {
    "name": "ipython",
    "version": 3
   },
   "file_extension": ".py",
   "mimetype": "text/x-python",
   "name": "python",
   "nbconvert_exporter": "python",
   "pygments_lexer": "ipython3",
   "version": "3.11.0"
  },
  "orig_nbformat": 4
 },
 "nbformat": 4,
 "nbformat_minor": 2
}
