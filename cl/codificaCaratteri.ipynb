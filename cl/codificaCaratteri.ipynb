{
 "cells": [
  {
   "cell_type": "markdown",
   "metadata": {},
   "source": [
    "# La codifica dei caratteri"
   ]
  },
  {
   "attachments": {},
   "cell_type": "markdown",
   "metadata": {},
   "source": [
    "Diamo una dimostrazione pratica delle nozioni che abbiamo discusso a lezione. La principale fonte di ispirazione ad usare Python per illustrare il trattamento della codifica dei caratteri usando Python è stato [questo ottimo articolo](https://www.degruyter.com/document/doi/10.1515/9783110599572-009/html) di [James Tauber](https://github.com/jtauber). Lì troverete anche una miniera di informazioni utilissime e ben spiegate sull'encoding e, soprattutto, su Unicode."
   ]
  },
  {
   "attachments": {},
   "cell_type": "markdown",
   "metadata": {},
   "source": [
    "Due parole su [Python](https://www.python.org/). Python è un linguaggio di programmazione interpretato, ovvero che necessita di un particolare programma (un **interprete**) affiché i comandi che noi scriviamo utilizzando la sua sintassi vengano \"tradotte\" riga per riga nella \"lingua madre\" del computer.\n",
    "\n",
    "Questo è un [Jupyter Notebook](https://jupyter-notebook-beginner-guide.readthedocs.io/en/latest/what_is_jupyter.html), ovvero un file che contiene codice scritto in Python eseguibile dall'interprete e caselle di testo come questa. È un ottimo strumento per mischiare codice e spiegazioni!\n",
    "\n",
    "Cominciamo!"
   ]
  },
  {
   "cell_type": "code",
   "execution_count": null,
   "metadata": {},
   "outputs": [],
   "source": []
  },
  {
   "attachments": {},
   "cell_type": "markdown",
   "metadata": {},
   "source": [
    "## I punti di codice"
   ]
  },
  {
   "attachments": {},
   "cell_type": "markdown",
   "metadata": {},
   "source": [
    "In Python possiamo facilmente convertire i caratteri nella loro rappresentazione numerica, ovvero i code point.\n",
    "\n",
    "Ad esempio sappiamo che in Unicode e in ASCII la lettera `a` (a minuscola) è il carattere 97. Possiamo usare la funzione `ord` per conoscere il code point di un carattere."
   ]
  },
  {
   "cell_type": "code",
   "execution_count": 3,
   "metadata": {},
   "outputs": [
    {
     "data": {
      "text/plain": [
       "97"
      ]
     },
     "execution_count": 3,
     "metadata": {},
     "output_type": "execute_result"
    }
   ],
   "source": [
    "ord('a')"
   ]
  },
  {
   "attachments": {},
   "cell_type": "markdown",
   "metadata": {},
   "source": [
    "Viceversa, una funzione (`chr`) ci permette di convertire il punto di codice in stringa"
   ]
  },
  {
   "cell_type": "code",
   "execution_count": 5,
   "metadata": {},
   "outputs": [
    {
     "name": "stdout",
     "output_type": "stream",
     "text": [
      "a\n"
     ]
    }
   ],
   "source": [
    "print(chr(97))"
   ]
  },
  {
   "attachments": {},
   "cell_type": "markdown",
   "metadata": {},
   "source": [
    "E la `A` (a maiuscola)? Avrà lo stesso codice? di `a`. Chiediamolo a Python! "
   ]
  },
  {
   "cell_type": "code",
   "execution_count": 6,
   "metadata": {},
   "outputs": [
    {
     "data": {
      "text/plain": [
       "65"
      ]
     },
     "execution_count": 6,
     "metadata": {},
     "output_type": "execute_result"
    }
   ],
   "source": [
    "ord('A')"
   ]
  },
  {
   "attachments": {},
   "cell_type": "markdown",
   "metadata": {},
   "source": [
    "Chiediamogli se, per lui, `a` e `A` sono la stessa cosa:"
   ]
  },
  {
   "cell_type": "code",
   "execution_count": 7,
   "metadata": {},
   "outputs": [
    {
     "data": {
      "text/plain": [
       "False"
      ]
     },
     "execution_count": 7,
     "metadata": {},
     "output_type": "execute_result"
    }
   ],
   "source": [
    "ord('A') == ord('a')"
   ]
  },
  {
   "attachments": {},
   "cell_type": "markdown",
   "metadata": {},
   "source": [
    "La risposa è chiara: no!\n",
    "\n",
    "Vediamo qualche carattere che non sia nello spazio di ASCII, come ad esempio la alfa greca `α` (con qualche diacritico) o la e con accento grave `è`:"
   ]
  },
  {
   "cell_type": "code",
   "execution_count": 12,
   "metadata": {},
   "outputs": [
    {
     "name": "stdout",
     "output_type": "stream",
     "text": [
      "alfa: 945\n",
      "e grave (è): 232\n",
      "alfa con spirito aspro e accento acuto: 7941\n"
     ]
    }
   ],
   "source": [
    "print(f'alfa: {ord(\"α\")}')\n",
    "print(f'e grave (è): {ord(\"è\")}')\n",
    "print(f'alfa con spirito aspro e accento acuto: {ord(\"ἅ\")}')"
   ]
  },
  {
   "attachments": {},
   "cell_type": "markdown",
   "metadata": {},
   "source": [
    "Quindi, se voglio scrivere la alfa con spirito aspro e accento acuto posso anche passare il valore numerico alla funzione `chr`:"
   ]
  },
  {
   "cell_type": "code",
   "execution_count": 13,
   "metadata": {},
   "outputs": [
    {
     "data": {
      "text/plain": [
       "'ἅ'"
      ]
     },
     "execution_count": 13,
     "metadata": {},
     "output_type": "execute_result"
    }
   ],
   "source": [
    "chr(7941)"
   ]
  },
  {
   "attachments": {},
   "cell_type": "markdown",
   "metadata": {},
   "source": [
    "## Unicode"
   ]
  },
  {
   "attachments": {},
   "cell_type": "markdown",
   "metadata": {},
   "source": [
    "Le funzioni `ord` e `chr` restituiscono le relazioni fra i caratteri e i punti di codice definiti in Unicode. La libreria `unicodedata` permette di accedere a molte più informazioni nel database dello standard"
   ]
  },
  {
   "cell_type": "code",
   "execution_count": 16,
   "metadata": {},
   "outputs": [],
   "source": [
    "import unicodedata"
   ]
  },
  {
   "attachments": {},
   "cell_type": "markdown",
   "metadata": {},
   "source": [
    "Ad esempio possiamo verificare il nome del carattere con il codice numerico che abbiamo visto sopra (7941)"
   ]
  },
  {
   "cell_type": "code",
   "execution_count": 30,
   "metadata": {},
   "outputs": [
    {
     "data": {
      "text/plain": [
       "'GREEK SMALL LETTER ALPHA WITH DASIA AND OXIA'"
      ]
     },
     "execution_count": 30,
     "metadata": {},
     "output_type": "execute_result"
    }
   ],
   "source": [
    "unicodedata.name(chr(7941))"
   ]
  },
  {
   "attachments": {},
   "cell_type": "markdown",
   "metadata": {},
   "source": [
    "Possiamo sbizzarrirci. Ad esempio, qual è il carattere 10,000 nel set? Come è fatto?"
   ]
  },
  {
   "cell_type": "code",
   "execution_count": 38,
   "metadata": {},
   "outputs": [
    {
     "name": "stdout",
     "output_type": "stream",
     "text": [
      "UPPER RIGHT PENCIL\n",
      "✐\n"
     ]
    }
   ],
   "source": [
    "ch = chr(10000)\n",
    "\n",
    "print(unicodedata.name(ch))\n",
    "print(ch)"
   ]
  },
  {
   "attachments": {},
   "cell_type": "markdown",
   "metadata": {},
   "source": [
    "Se cercate online informazioni sui diversi caratteri unicode (ad es. [qui](https://www.compart.com/en/unicode/U+03B1)), troverete una serie di altri dati. Vedrete che i caratteri sono convenzionalmente identificati con la stringa:\n",
    "\n",
    "```\n",
    "U+XXXX\n",
    "```\n",
    "\n",
    "Dove `XXXX` è il codepoint, espresso però **in base esadecimale!**. In Python possiamo usare una funzione `hex` per convertire i numeri in base decimale alla base esadecimale. Il carattere alfa, che come abbiamo visto ha il numero 945, in base esadecimale diventa:"
   ]
  },
  {
   "cell_type": "code",
   "execution_count": 39,
   "metadata": {},
   "outputs": [
    {
     "data": {
      "text/plain": [
       "'0x3b1'"
      ]
     },
     "execution_count": 39,
     "metadata": {},
     "output_type": "execute_result"
    }
   ],
   "source": [
    "hex(945)"
   ]
  },
  {
   "attachments": {},
   "cell_type": "markdown",
   "metadata": {},
   "source": [
    "il numero è: `3b1` (`0x` è il \"prefisso\" dei numeri esadecimale in Python). Il carattere unicode sarà:\n",
    "\n",
    "```\n",
    "U+03b1\n",
    "```\n",
    "\n",
    "Potete [verificare online](https://www.compart.com/en/unicode/U+03B1) che è proprio così. Oppure potete testare il numero esadecimale direttamente con `chr`:"
   ]
  },
  {
   "cell_type": "code",
   "execution_count": 40,
   "metadata": {},
   "outputs": [
    {
     "name": "stdout",
     "output_type": "stream",
     "text": [
      "α\n"
     ]
    }
   ],
   "source": [
    "print(chr(0x3b1))"
   ]
  },
  {
   "attachments": {},
   "cell_type": "markdown",
   "metadata": {},
   "source": [
    "## La codifica dei caratteri"
   ]
  },
  {
   "attachments": {},
   "cell_type": "markdown",
   "metadata": {},
   "source": [
    "* il metodo `encode` ci permette di convertire un carattere in byte, specificando la codifica desiderata\n",
    "* il metodo `decode` ci permette di tornare da byte a caratteri, sempre selezionando la codifica per operare la \"lettura\"\n",
    "\n",
    "Ad esempio, proviamo a coficare il carattere Unicode `è` (code point 231) in Latin-1:"
   ]
  },
  {
   "cell_type": "code",
   "execution_count": 41,
   "metadata": {},
   "outputs": [
    {
     "data": {
      "text/plain": [
       "b'\\xe8'"
      ]
     },
     "execution_count": 41,
     "metadata": {},
     "output_type": "execute_result"
    }
   ],
   "source": [
    "chr(232).encode('latin1')"
   ]
  },
  {
   "attachments": {},
   "cell_type": "markdown",
   "metadata": {},
   "source": [
    "Ora proviamo a decodificarlo di nuovo"
   ]
  },
  {
   "cell_type": "code",
   "execution_count": 43,
   "metadata": {},
   "outputs": [
    {
     "data": {
      "text/plain": [
       "'è'"
      ]
     },
     "execution_count": 43,
     "metadata": {},
     "output_type": "execute_result"
    }
   ],
   "source": [
    "b'\\xe8'.decode('latin1')"
   ]
  },
  {
   "attachments": {},
   "cell_type": "markdown",
   "metadata": {},
   "source": [
    "Latin-1 e UTF8 sono compatibili? Cosa succede se prendiamo una stringa (\"la vita è bella\"), e poi:\n",
    "* la codifichiamo come UTF-8\n",
    "* la decodifichiamo com Latin 1?\n",
    "\n",
    "proviamo!"
   ]
  },
  {
   "cell_type": "code",
   "execution_count": 45,
   "metadata": {},
   "outputs": [
    {
     "data": {
      "text/plain": [
       "'la vita Ã¨ bella'"
      ]
     },
     "execution_count": 45,
     "metadata": {},
     "output_type": "execute_result"
    }
   ],
   "source": [
    "\"la vita è bella\".encode(\"utf8\").decode('latin1')"
   ]
  },
  {
   "attachments": {},
   "cell_type": "markdown",
   "metadata": {},
   "source": [
    "ASCII e UTF-8, invece, sono compatibili! Proviamo lo stesso esperimento con un altra stringa (a proposito: perché ci serve un'altra stringa?)"
   ]
  },
  {
   "cell_type": "code",
   "execution_count": 47,
   "metadata": {},
   "outputs": [
    {
     "data": {
      "text/plain": [
       "'arma virumque cano'"
      ]
     },
     "execution_count": 47,
     "metadata": {},
     "output_type": "execute_result"
    }
   ],
   "source": [
    "\"arma virumque cano\".encode('ascii').decode('utf8')"
   ]
  },
  {
   "attachments": {},
   "cell_type": "markdown",
   "metadata": {},
   "source": [
    "E se provo a coficare \"perché\" in ASCII?"
   ]
  },
  {
   "cell_type": "code",
   "execution_count": 48,
   "metadata": {},
   "outputs": [
    {
     "ename": "UnicodeEncodeError",
     "evalue": "'ascii' codec can't encode character '\\xe9' in position 5: ordinal not in range(128)",
     "output_type": "error",
     "traceback": [
      "\u001b[0;31m---------------------------------------------------------------------------\u001b[0m",
      "\u001b[0;31mUnicodeEncodeError\u001b[0m                        Traceback (most recent call last)",
      "\u001b[1;32m/Users/francesco.mambrini/Documents/sync/sync_scripta/corsi_seminari/myclasses/cl/codificaCaratteri.ipynb Cella 38\u001b[0m in \u001b[0;36m<cell line: 1>\u001b[0;34m()\u001b[0m\n\u001b[0;32m----> <a href='vscode-notebook-cell:/Users/francesco.mambrini/Documents/sync/sync_scripta/corsi_seminari/myclasses/cl/codificaCaratteri.ipynb#X66sZmlsZQ%3D%3D?line=0'>1</a>\u001b[0m \u001b[39m'\u001b[39;49m\u001b[39mperché\u001b[39;49m\u001b[39m'\u001b[39;49m\u001b[39m.\u001b[39;49mencode(\u001b[39m'\u001b[39;49m\u001b[39mascii\u001b[39;49m\u001b[39m'\u001b[39;49m)\n",
      "\u001b[0;31mUnicodeEncodeError\u001b[0m: 'ascii' codec can't encode character '\\xe9' in position 5: ordinal not in range(128)"
     ]
    }
   ],
   "source": [
    "'perché'.encode('ascii')"
   ]
  },
  {
   "cell_type": "code",
   "execution_count": null,
   "metadata": {},
   "outputs": [],
   "source": []
  }
 ],
 "metadata": {
  "kernelspec": {
   "display_name": "Python 3",
   "language": "python",
   "name": "python3"
  },
  "language_info": {
   "codemirror_mode": {
    "name": "ipython",
    "version": 3
   },
   "file_extension": ".py",
   "mimetype": "text/x-python",
   "name": "python",
   "nbconvert_exporter": "python",
   "pygments_lexer": "ipython3",
   "version": "3.9.13"
  },
  "orig_nbformat": 4,
  "vscode": {
   "interpreter": {
    "hash": "b0fa6594d8f4cbf19f97940f81e996739fb7646882a419484c72d19e05852a7e"
   }
  }
 },
 "nbformat": 4,
 "nbformat_minor": 2
}
