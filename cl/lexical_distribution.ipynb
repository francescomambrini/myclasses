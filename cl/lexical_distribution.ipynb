{
 "cells": [
  {
   "attachments": {},
   "cell_type": "markdown",
   "metadata": {},
   "source": [
    "# Esplorazione nella distribuzione lessicale"
   ]
  },
  {
   "attachments": {},
   "cell_type": "markdown",
   "metadata": {},
   "source": [
    "Codice ispirato a [Baayen (2008:243-250)](https://www.cambridge.org/highereducation/books/analyzing-linguistic-data/B2AF752A30911F4144CA35E075C6B233#overview)"
   ]
  },
  {
   "attachments": {},
   "cell_type": "markdown",
   "metadata": {},
   "source": [
    "Qui osserveremo la distribuzione delle parole-tipo (type) in un testo (la *Divina Commedia*) e in un [corpus di commenti YouTube](https://www.clarin.si/repository/xmlui/handle/11356/1450#) annotati per Hate Speech Detection. Il corpus è stato leggermente modificato per: 1. normalizzare problemi di spaziatura mancante 2. eliminare gli handler degli utenti"
   ]
  },
  {
   "cell_type": "code",
   "execution_count": 163,
   "metadata": {},
   "outputs": [],
   "source": [
    "import matplotlib.pyplot as plt\n",
    "from matplotlib import rcParams\n",
    "import seaborn as sns\n",
    "\n",
    "sns.set_style(\"darkgrid\")\n",
    "rcParams['figure.figsize'] = 12,9"
   ]
  },
  {
   "attachments": {},
   "cell_type": "markdown",
   "metadata": {},
   "source": [
    "## La Divina Commedia"
   ]
  },
  {
   "cell_type": "code",
   "execution_count": 4,
   "metadata": {},
   "outputs": [],
   "source": [
    "import spacy\n",
    "from scipy import stats"
   ]
  },
  {
   "attachments": {},
   "cell_type": "markdown",
   "metadata": {},
   "source": [
    "Creiamo un tokenizzatore"
   ]
  },
  {
   "cell_type": "code",
   "execution_count": 126,
   "metadata": {},
   "outputs": [],
   "source": [
    "nlp = spacy.blank(\"it\")\n",
    "nlp.max_length = 20833854"
   ]
  },
  {
   "attachments": {},
   "cell_type": "markdown",
   "metadata": {},
   "source": [
    "Apriamo il file"
   ]
  },
  {
   "cell_type": "code",
   "execution_count": 105,
   "metadata": {},
   "outputs": [],
   "source": [
    "with open('../data/commedia_cleaned.txt') as f:\n",
    "    commedia = f.read()\n",
    "comm = nlp(commedia)"
   ]
  },
  {
   "attachments": {},
   "cell_type": "markdown",
   "metadata": {},
   "source": [
    "Il tokenizzatore di `spacy` ha individuato all'incirca 130.000 token"
   ]
  },
  {
   "cell_type": "code",
   "execution_count": 106,
   "metadata": {},
   "outputs": [
    {
     "data": {
      "text/plain": [
       "135533"
      ]
     },
     "execution_count": 106,
     "metadata": {},
     "output_type": "execute_result"
    }
   ],
   "source": [
    "len(comm)"
   ]
  },
  {
   "attachments": {},
   "cell_type": "markdown",
   "metadata": {},
   "source": [
    "Ora eliminiamo i caratteri di nuova riga e i segni di punteggiatura"
   ]
  },
  {
   "cell_type": "code",
   "execution_count": 107,
   "metadata": {},
   "outputs": [],
   "source": [
    "import re\n",
    "comm_toks = [c.lower_ for c in comm if not re.search(r'\\n+', c.lower_) and not c.is_punct]"
   ]
  },
  {
   "attachments": {},
   "cell_type": "markdown",
   "metadata": {},
   "source": [
    "Rimangono circa 100.000 token"
   ]
  },
  {
   "cell_type": "code",
   "execution_count": 13,
   "metadata": {},
   "outputs": [
    {
     "data": {
      "text/plain": [
       "101797"
      ]
     },
     "execution_count": 13,
     "metadata": {},
     "output_type": "execute_result"
    }
   ],
   "source": [
    "len(comm_toks)"
   ]
  },
  {
   "attachments": {},
   "cell_type": "markdown",
   "metadata": {},
   "source": [
    "Creiamo un contatore per contare le frequenze delle parole-tipo (type)"
   ]
  },
  {
   "cell_type": "code",
   "execution_count": 165,
   "metadata": {},
   "outputs": [
    {
     "data": {
      "text/plain": [
       "[('e', 4065),\n",
       " ('che', 3697),\n",
       " ('la', 2360),\n",
       " ('a', 2045),\n",
       " ('di', 1897),\n",
       " (\"l'\", 1727),\n",
       " ('non', 1456),\n",
       " ('per', 1384),\n",
       " ('io', 1137),\n",
       " ('in', 1107),\n",
       " ('si', 1043),\n",
       " (\"ch'\", 1029),\n",
       " ('l', 951),\n",
       " ('le', 802)]"
      ]
     },
     "execution_count": 165,
     "metadata": {},
     "output_type": "execute_result"
    }
   ],
   "source": [
    "from collections import Counter\n",
    "\n",
    "c = Counter(comm_toks)\n",
    "c.most_common(14)"
   ]
  },
  {
   "attachments": {},
   "cell_type": "markdown",
   "metadata": {},
   "source": [
    "Questo è il codice che ho usato per calcolare la percentuale cumulativa dei primi *n* tipi di un testo"
   ]
  },
  {
   "cell_type": "code",
   "execution_count": 115,
   "metadata": {},
   "outputs": [
    {
     "name": "stdout",
     "output_type": "stream",
     "text": [
      "e 4065 3.993241451123314\n",
      "che 3697 7.624979125121565\n",
      "la 2360 9.94331856538012\n",
      "a 2045 11.952218631197383\n",
      "di 1897 13.815731308388262\n",
      "l' 1727 15.512244958102892\n",
      "non 1456 16.942542511075963\n",
      "per 1384 18.302111064176742\n",
      "io 1137 19.41903985382673\n",
      "in 1107 20.50649822686327\n",
      "si 1043 21.531086377791095\n",
      "ch' 1029 22.541921667632643\n"
     ]
    }
   ],
   "source": [
    "for i, (parola, freq) in enumerate(c.most_common(12), start=1):\n",
    "    cum = sum([f[-1] for f in c.most_common(i)])\n",
    "    perc = (cum / len(comm_toks) * 100)\n",
    "    print(parola, freq, perc)"
   ]
  },
  {
   "attachments": {},
   "cell_type": "markdown",
   "metadata": {},
   "source": [
    "Ora:\n",
    "- trasformiamo i dati di frequenza in una tabella\n",
    "- aggiungiamo 2 colonne con il logaritmo del rango e il logaritmo delle frequenze\n",
    "\n",
    "Visualizziamo le prime 5 righe della tabella"
   ]
  },
  {
   "cell_type": "code",
   "execution_count": 167,
   "metadata": {},
   "outputs": [
    {
     "data": {
      "text/html": [
       "<div>\n",
       "<style scoped>\n",
       "    .dataframe tbody tr th:only-of-type {\n",
       "        vertical-align: middle;\n",
       "    }\n",
       "\n",
       "    .dataframe tbody tr th {\n",
       "        vertical-align: top;\n",
       "    }\n",
       "\n",
       "    .dataframe thead th {\n",
       "        text-align: right;\n",
       "    }\n",
       "</style>\n",
       "<table border=\"1\" class=\"dataframe\">\n",
       "  <thead>\n",
       "    <tr style=\"text-align: right;\">\n",
       "      <th></th>\n",
       "      <th>rank</th>\n",
       "      <th>freq</th>\n",
       "      <th>word</th>\n",
       "      <th>log_rank</th>\n",
       "      <th>log_freq</th>\n",
       "    </tr>\n",
       "  </thead>\n",
       "  <tbody>\n",
       "    <tr>\n",
       "      <th>0</th>\n",
       "      <td>1</td>\n",
       "      <td>4065</td>\n",
       "      <td>e</td>\n",
       "      <td>0.000000</td>\n",
       "      <td>8.310169</td>\n",
       "    </tr>\n",
       "    <tr>\n",
       "      <th>1</th>\n",
       "      <td>2</td>\n",
       "      <td>3697</td>\n",
       "      <td>che</td>\n",
       "      <td>0.693147</td>\n",
       "      <td>8.215277</td>\n",
       "    </tr>\n",
       "    <tr>\n",
       "      <th>2</th>\n",
       "      <td>3</td>\n",
       "      <td>2360</td>\n",
       "      <td>la</td>\n",
       "      <td>1.098612</td>\n",
       "      <td>7.766417</td>\n",
       "    </tr>\n",
       "    <tr>\n",
       "      <th>3</th>\n",
       "      <td>4</td>\n",
       "      <td>2045</td>\n",
       "      <td>a</td>\n",
       "      <td>1.386294</td>\n",
       "      <td>7.623153</td>\n",
       "    </tr>\n",
       "    <tr>\n",
       "      <th>4</th>\n",
       "      <td>5</td>\n",
       "      <td>1897</td>\n",
       "      <td>di</td>\n",
       "      <td>1.609438</td>\n",
       "      <td>7.548029</td>\n",
       "    </tr>\n",
       "    <tr>\n",
       "      <th>5</th>\n",
       "      <td>6</td>\n",
       "      <td>1727</td>\n",
       "      <td>l'</td>\n",
       "      <td>1.791759</td>\n",
       "      <td>7.454141</td>\n",
       "    </tr>\n",
       "    <tr>\n",
       "      <th>6</th>\n",
       "      <td>7</td>\n",
       "      <td>1456</td>\n",
       "      <td>non</td>\n",
       "      <td>1.945910</td>\n",
       "      <td>7.283448</td>\n",
       "    </tr>\n",
       "    <tr>\n",
       "      <th>7</th>\n",
       "      <td>8</td>\n",
       "      <td>1384</td>\n",
       "      <td>per</td>\n",
       "      <td>2.079442</td>\n",
       "      <td>7.232733</td>\n",
       "    </tr>\n",
       "    <tr>\n",
       "      <th>8</th>\n",
       "      <td>9</td>\n",
       "      <td>1137</td>\n",
       "      <td>io</td>\n",
       "      <td>2.197225</td>\n",
       "      <td>7.036148</td>\n",
       "    </tr>\n",
       "    <tr>\n",
       "      <th>9</th>\n",
       "      <td>10</td>\n",
       "      <td>1107</td>\n",
       "      <td>in</td>\n",
       "      <td>2.302585</td>\n",
       "      <td>7.009409</td>\n",
       "    </tr>\n",
       "  </tbody>\n",
       "</table>\n",
       "</div>"
      ],
      "text/plain": [
       "   rank  freq word  log_rank  log_freq\n",
       "0     1  4065    e  0.000000  8.310169\n",
       "1     2  3697  che  0.693147  8.215277\n",
       "2     3  2360   la  1.098612  7.766417\n",
       "3     4  2045    a  1.386294  7.623153\n",
       "4     5  1897   di  1.609438  7.548029\n",
       "5     6  1727   l'  1.791759  7.454141\n",
       "6     7  1456  non  1.945910  7.283448\n",
       "7     8  1384  per  2.079442  7.232733\n",
       "8     9  1137   io  2.197225  7.036148\n",
       "9    10  1107   in  2.302585  7.009409"
      ]
     },
     "execution_count": 167,
     "metadata": {},
     "output_type": "execute_result"
    }
   ],
   "source": [
    "import pandas as pd\n",
    "import numpy as np\n",
    "\n",
    "\n",
    "ranks = [i for i, _ in enumerate(c.most_common(), start=1)]\n",
    "words = [w[0] for w in c.most_common()]\n",
    "freqs = [w[1] for w in c.most_common()]\n",
    "\n",
    "df = pd.DataFrame(data={'rank': ranks, 'freq': freqs, 'word': words})\n",
    "df['log_rank'] = np.log(df['rank'])\n",
    "\n",
    "df['log_freq'] = np.log(df['freq'])\n",
    "df.head(10)"
   ]
  },
  {
   "cell_type": "code",
   "execution_count": 168,
   "metadata": {},
   "outputs": [
    {
     "data": {
      "image/png": "[encoded data removed]",
      "text/plain": [
       "<Figure size 864x648 with 1 Axes>"
      ]
     },
     "metadata": {},
     "output_type": "display_data"
    }
   ],
   "source": [
    "import seaborn as sns\n",
    "from matplotlib import pyplot as plt\n",
    "\n",
    "ax = sns.barplot(x='word', y='freq', data=df.iloc[:45])\n",
    "#ax.set_xticklabels([w[0] for w in c.most_common(50)])\n",
    "ax.tick_params(axis='x', rotation=90)\n",
    "plt.show()"
   ]
  },
  {
   "attachments": {},
   "cell_type": "markdown",
   "metadata": {},
   "source": [
    "Qui creiamo il grafico in scala log/log, lasciando che una libreria python (`seaborn`) si occupi della regressione (disegnando la retta ideale)"
   ]
  },
  {
   "cell_type": "code",
   "execution_count": 169,
   "metadata": {},
   "outputs": [
    {
     "data": {
      "text/plain": [
       "<AxesSubplot:xlabel='log_rank', ylabel='log_freq'>"
      ]
     },
     "execution_count": 169,
     "metadata": {},
     "output_type": "execute_result"
    },
    {
     "data": {
      "image/png": "[encoded data removed]",
      "text/plain": [
       "<Figure size 864x648 with 1 Axes>"
      ]
     },
     "metadata": {},
     "output_type": "display_data"
    }
   ],
   "source": [
    "sns.regplot(data = df, x='log_rank', y='log_freq')"
   ]
  },
  {
   "attachments": {},
   "cell_type": "markdown",
   "metadata": {},
   "source": [
    "Possiamo avere informazioni più precise sulla pendenza e intercetto della regressione:"
   ]
  },
  {
   "cell_type": "code",
   "execution_count": 183,
   "metadata": {},
   "outputs": [
    {
     "name": "stdout",
     "output_type": "stream",
     "text": [
      "-1.0301318191529754\n"
     ]
    }
   ],
   "source": [
    "slope, intercept, r, p, std_err = stats.linregress(df.log_rank, df.log_freq)\n",
    "print(slope)"
   ]
  },
  {
   "attachments": {},
   "cell_type": "markdown",
   "metadata": {},
   "source": [
    "## Il corpus di commenti su YouTube per la Hate Speech detection"
   ]
  },
  {
   "attachments": {},
   "cell_type": "markdown",
   "metadata": {},
   "source": [
    "Scaricato da [CLARIN](https://hdl.handle.net/11356/1450) e \"normalizzato\" leggermente (vedi sopra).\n",
    "\n",
    "Per prima cosa, apriamo il file (compresso) TAR"
   ]
  },
  {
   "cell_type": "code",
   "execution_count": 176,
   "metadata": {},
   "outputs": [],
   "source": [
    "import tarfile\n",
    "\n",
    "tar = tarfile.open(\"../data/youtube_hate.tar.gz\")\n",
    "with tar.extractfile('youtube_hate.txt') as f:\n",
    "    corpus = f.read().decode('utf8')\n",
    "tar.close()"
   ]
  },
  {
   "attachments": {},
   "cell_type": "markdown",
   "metadata": {},
   "source": [
    "Ora facciamo la tokenizzazione! (potrebbe richiedere un po' di tempo)"
   ]
  },
  {
   "cell_type": "code",
   "execution_count": 179,
   "metadata": {},
   "outputs": [],
   "source": [
    "toks = nlp(corpus)"
   ]
  },
  {
   "attachments": {},
   "cell_type": "markdown",
   "metadata": {},
   "source": [
    "Come prima per Dante, scartiamo i caratteri di nuova riga (\\n) e la punteggiatura "
   ]
  },
  {
   "cell_type": "code",
   "execution_count": 180,
   "metadata": {},
   "outputs": [
    {
     "name": "stdout",
     "output_type": "stream",
     "text": [
      "3321631\n"
     ]
    }
   ],
   "source": [
    "yt_toks = [c.lower_ for c in toks if not re.search(r'\\n+', c.lower_) and c.is_alpha]\n",
    "print(len(yt_toks))"
   ]
  },
  {
   "attachments": {},
   "cell_type": "markdown",
   "metadata": {},
   "source": [
    "Creiamo il contatore delle frequenze e vediamo le 20 parole più frequenti. Paragoniamole alle 20 più frequenti in Dante"
   ]
  },
  {
   "cell_type": "code",
   "execution_count": 182,
   "metadata": {},
   "outputs": [
    {
     "name": "stdout",
     "output_type": "stream",
     "text": [
      "e (96500)\te (4065)\n",
      "che (91130)\tche (3697)\n",
      "di (86402)\tla (2360)\n",
      "non (66552)\ta (2045)\n",
      "il (58914)\tdi (1897)\n",
      "la (58176)\tl' (1727)\n",
      "a (57302)\tnon (1456)\n",
      "in (51056)\tper (1384)\n",
      "è (42212)\tio (1137)\n",
      "per (40912)\tin (1107)\n",
      "i (37894)\tsi (1043)\n",
      "un (37506)\tch' (1029)\n",
      "ma (30646)\tl (951)\n",
      "sono (27718)\tle (802)\n",
      "si (26882)\tsì (796)\n",
      "le (25108)\tli (781)\n",
      "da (22260)\tè (778)\n",
      "con (22098)\tmi (760)\n",
      "ci (20874)\til (671)\n",
      "se (20158)\tpiù (661)\n"
     ]
    }
   ],
   "source": [
    "cyt = Counter(yt_toks)\n",
    "for yt, dante in zip(cyt.most_common(20), c.most_common(20)):\n",
    "    print(f'{yt[0]} ({yt[1]})\\t{dante[0]} ({dante[1]})')"
   ]
  },
  {
   "attachments": {},
   "cell_type": "markdown",
   "metadata": {},
   "source": [
    "## Esplorare le concordanze con `NLTK`"
   ]
  },
  {
   "attachments": {},
   "cell_type": "markdown",
   "metadata": {},
   "source": [
    "Esploriamo le conconrdanze del corpus di Hate Speech detection con la libreria che abbiamo già usato nella lezione sulla tokenizzazione, `NLTK`. NLTK offre una classe apposita (`Text`) per esplorare i dati testuali, utilizzando concordanze e collocazioni"
   ]
  },
  {
   "cell_type": "code",
   "execution_count": 184,
   "metadata": {},
   "outputs": [],
   "source": [
    "from nltk import Text"
   ]
  },
  {
   "attachments": {},
   "cell_type": "markdown",
   "metadata": {},
   "source": [
    "Creiamo un'istanza della classe `Text` con la lista dei token del nostro corpus"
   ]
  },
  {
   "cell_type": "code",
   "execution_count": 185,
   "metadata": {},
   "outputs": [],
   "source": [
    "t = Text(yt_toks)"
   ]
  },
  {
   "attachments": {},
   "cell_type": "markdown",
   "metadata": {},
   "source": [
    "E ora cerchiamo la chiave \"buono\""
   ]
  },
  {
   "cell_type": "code",
   "execution_count": 186,
   "metadata": {},
   "outputs": [
    {
     "name": "stdout",
     "output_type": "stream",
     "text": [
      "Displaying 25 of 274 matches:\n",
      "con voi bravi italia paese magnifico buono generoso che accoglie tutti no fa di\n",
      "liate luce del sole vitaminad e cibo buono queste sono le prevenzioni da prende\n",
      "egno che si dovrà pagare qualcosa di buono è capiamo di essere uno tutti colleg\n",
      "ttata piuttosto che seguita nulla di buono arriverà dalla escluso giletti un ga\n",
      " dire che il coronavirus qualcosa di buono lo ha portato ci sta facendo capire \n",
      "hanno fatto mai niente di corretto o buono sono una razza di prevaricatori mand\n",
      "nno la memoria corta dimenticando il buono ricevuto non sono gli italiani è que\n",
      "non tu in particolare ma qualcosa di buono pensatene per giuoco almeno tre buon\n",
      "a è servita a smantellare ciò che di buono aveva la scuola come rigore discipli\n",
      "bravi persone che vogliono dare vita buono per russi italiani voi vivete buona \n",
      "uole soros grazie sei diventato così buono mmmmmm fammi state zitto va non pens\n",
      "paura che avete diffuso voi vergogna buono a nulla presidente del coniglio dei \n",
      "io schiacallare ora che e il momento buono infatti la meloncina sale di consens\n",
      "e francesco oliviero come andrea del buono come carlo alberto zaccagna come jea\n",
      "cittadini italiani il governo è solo buono a chiedere soldi vergogna tutti infa\n",
      "esto cittadino è costretto a fare il buono x non pagare poi x gli altri ma fini\n",
      "ura sono solo invidiosi del cibo piu buono al mondo speriamo che quella pizza s\n",
      " bere tutto italiano che e anche piu buono che grandissimi figli di troia europ\n",
      "atto il governo italiano per anni di buono per italia tanto peggio di prima non\n",
      "on la metterà riccardo sorace troppo buono il circo deve andare a zappare il tr\n",
      " avete capito arte inganno niente di buono dietro tutto ciò e il vaticano che s\n",
      " virus ha portato almeno qualcosa di buono tempo mesi e il rituale degli sbarch\n",
      "formazioni avanti cosi certo sarebbe buono sapere la situazione e il pensiero n\n",
      " con la propria gente non può essere buono con altra gente e questo è sicuro èè\n",
      "zza di non essere razzista di essere buono per poi sputare contro a persone che\n"
     ]
    }
   ],
   "source": [
    "t.concordance('buono')"
   ]
  },
  {
   "attachments": {},
   "cell_type": "markdown",
   "metadata": {},
   "source": [
    "Di default, il metodo che stampa le concordanze a video lavora con una finestra di 80 caratteri e mostra 25 righe. Possiamo modificare questi parametri:"
   ]
  },
  {
   "cell_type": "code",
   "execution_count": 188,
   "metadata": {},
   "outputs": [
    {
     "name": "stdout",
     "output_type": "stream",
     "text": [
      "Displaying 30 of 274 matches:\n",
      "ma avete specato core che dio sara con voi bravi italia paese magnifico buono generoso che accoglie tutti no fa diferente rase italia e una mamma che\n",
      "rtificiale volte le quantità consigliate luce del sole vitaminad e cibo buono queste sono le prevenzioni da prendere e soprattutto stare calmi lo sta\n",
      "lo ma questo è il sacrificio o il pegno che si dovrà pagare qualcosa di buono è capiamo di essere uno tutti collegati fisicamente a prescindere della\n",
      "sta di parte faziosa andrebbe boicottata piuttosto che seguita nulla di buono arriverà dalla escluso giletti un galantuomo tutti gli altri sono fazio\n",
      "i soffre per questa emergenza posso dire che il coronavirus qualcosa di buono lo ha portato ci sta facendo capire bene la pochezza della classe polit\n",
      "entabile buona vita i tedeschi non hanno fatto mai niente di corretto o buono sono una razza di prevaricatori mandiamoli al diavolo insieme europa em\n",
      "tratta di politica italiani però hanno la memoria corta dimenticando il buono ricevuto non sono gli italiani è quel manipolo di politicanti che abbia\n",
      "hia fantastico marco morelli senti non tu in particolare ma qualcosa di buono pensatene per giuoco almeno tre buone e tre non buone senza controllare\n",
      " rivoluzione culturale sessantottina è servita a smantellare ciò che di buono aveva la scuola come rigore disciplina studio selezione meritocratica e\n",
      "gueri da quello che persegue molti bravi persone che vogliono dare vita buono per russi italiani voi vivete buona vita vostra vita piena di soldi rin\n",
      "le pensare a quelle gabbie delle squole soros grazie sei diventato così buono mmmmmm fammi state zitto va non pensiate che siano donazioni fatte dall\n",
      "negozianti che non lavorano per la paura che avete diffuso voi vergogna buono a nulla presidente del coniglio dei ministri giuseppe conte sei la verg\n",
      "uto quello che e successo nooo meglio schiacallare ora che e il momento buono infatti la meloncina sale di consensi e il cazzaro scende questa guerra\n",
      "no montanari e antonietta gatti come francesco oliviero come andrea del buono come carlo alberto zaccagna come jean paul vanoli come stefano scoglio \n",
      "esiste auto assistenzialismo tra i cittadini italiani il governo è solo buono a chiedere soldi vergogna tutti infatti il popolo ora ha ragione perche\n",
      "nuata leggi a personam mentre un onesto cittadino è costretto a fare il buono x non pagare poi x gli altri ma finiscila di fare campagna elettorale t\n",
      "sunto che sono dei grandissimi censura sono solo invidiosi del cibo piu buono al mondo speriamo che quella pizza sia per gozzi il traditore comprate \n",
      "re champagne e ore che cominciare a bere tutto italiano che e anche piu buono che grandissimi figli di troia europa unita moneta unica forse un solo \n",
      "i ma poi parliamoci chiaro che ha fatto il governo italiano per anni di buono per italia tanto peggio di prima non si poteva andare magari andiamo me\n",
      "rina ma lui è il primo a dire che non la metterà riccardo sorace troppo buono il circo deve andare a zappare il treno con i vagoni bara troppo divert\n",
      "x rimpiazzarvi con le risorse non l avete capito arte inganno niente di buono dietro tutto ciò e il vaticano che si è arricchito vergognosamente da s\n",
      "omagna bibiano system allora questo virus ha portato almeno qualcosa di buono tempo mesi e il rituale degli sbarchi si ripeterà chissa perche se ne s\n",
      "italia ciao grazie x i dati e le informazioni avanti cosi certo sarebbe buono sapere la situazione e il pensiero nella tua nazione saluti bisogna ved\n",
      "azie albania qualcuno che è cattivo con la propria gente non può essere buono con altra gente e questo è sicuro èè bello che lo abbia fatto ma ho mol\n",
      "re tutta la tua boria la tua sicurezza di non essere razzista di essere buono per poi sputare contro a persone che non conosci solo per tuoi pregiudi\n",
      "lla democrazia liberale quindi si tappi la fogna unico comunista cinese buono è quello morto carmine sacco si uccidendo chi usciva e portandoti in os\n",
      " dio e che noi poveri mortali siamo briciole riassumendo dire che dio è buono è una nuova forma massonica per far credere che l inferno non esiste e \n",
      "fendere la sinistra quando fate la trasmissione dite almeno una cosa di buono che abbia fatto la sinistra cosa ha fatto la liberalizzazione e gioco a\n",
      "egano tbc scabbia e hiv vanno bene perché tutto ciò che arriva africa è buono e giusto risultiamo ridicoli a lesbo la popolazione ha picchiato uno de\n",
      " questo governo ci prende per il culo grazie infinite se ne uscisse uno buono da sti tre coglioni ma sto governo è una barzelletta che noi coglioni g\n"
     ]
    }
   ],
   "source": [
    "t.concordance('buono', width=150, lines=30)"
   ]
  },
  {
   "attachments": {},
   "cell_type": "markdown",
   "metadata": {},
   "source": [
    "Possiamo anche cercare sequenze di più token"
   ]
  },
  {
   "cell_type": "code",
   "execution_count": 153,
   "metadata": {},
   "outputs": [
    {
     "name": "stdout",
     "output_type": "stream",
     "text": [
      "Displaying 10 of 10 matches:\n",
      "oicottata piuttosto che seguita nulla di buono arriverà dalla escluso giletti \n",
      "cazzo in anni non ci ha portato nulla di buono apparte debiti loro sono il ver\n",
      "ria mi puzza parecchio non vedo nulla di buono mi spiace per i giovani che se \n",
      "isce unione europea non ha dato nulla di buono italia penso che italia possa r\n",
      "a del signore non possiamo fare nulla di buono e naturalmente mettendoci il no\n",
      "ria mi puzza parecchio non vedo nulla di buono mi spiace per i giovani che se \n",
      "oicottata piuttosto che seguita nulla di buono arriverà dalla escluso giletti \n",
      "isce unione europea non ha dato nulla di buono italia penso che italia possa r\n",
      "cazzo in anni non ci ha portato nulla di buono apparte debiti loro sono il ver\n",
      "a del signore non possiamo fare nulla di buono e naturalmente mettendoci il no\n"
     ]
    }
   ],
   "source": [
    "t.concordance([\"nulla\", 'di', \"buono\"])"
   ]
  },
  {
   "attachments": {},
   "cell_type": "markdown",
   "metadata": {},
   "source": [
    "Ma come funziona la generazione delle concordanze? Il metodo genera un indice (`_concordance_list`) dell'istanza dove viene mappato ogni tipo alle sue posizioni nel testo.\n",
    "\n",
    "Vediamo ad es. gli \"offsets\" (ovvero l'indice numerico) della parola \"buono\":"
   ]
  },
  {
   "cell_type": "code",
   "execution_count": 193,
   "metadata": {},
   "outputs": [
    {
     "data": {
      "text/plain": [
       "[75763, 78799, 84470, 87685, 94322]"
      ]
     },
     "execution_count": 193,
     "metadata": {},
     "output_type": "execute_result"
    }
   ],
   "source": [
    "t._concordance_index._offsets['buono'][:5]"
   ]
  },
  {
   "attachments": {},
   "cell_type": "markdown",
   "metadata": {},
   "source": [
    "Vediamo il primo:"
   ]
  },
  {
   "cell_type": "code",
   "execution_count": 194,
   "metadata": {},
   "outputs": [
    {
     "name": "stdout",
     "output_type": "stream",
     "text": [
      "buono\n"
     ]
    }
   ],
   "source": [
    "print(yt_toks[75763])"
   ]
  },
  {
   "attachments": {},
   "cell_type": "markdown",
   "metadata": {},
   "source": [
    "## Espressioni Regolari"
   ]
  },
  {
   "attachments": {},
   "cell_type": "markdown",
   "metadata": {},
   "source": [
    "`NLTK` mette a disposizione anche un interessante classe (`TokenSearcher`) per fare ricerche usando le espressioni regolari su una lista di token.\n",
    " \n",
    " La sintassi delle regex è la medesima che abbiamo visto a lezione, ma i token vanno scritti tra parentesi uncinate `<>`.\n",
    "\n",
    " Ad esempio: cerchiamo le sequenze *un buon x* o *una buona x* nel nostro corpus utilizzando le espressioni regolari"
   ]
  },
  {
   "cell_type": "code",
   "execution_count": 196,
   "metadata": {},
   "outputs": [],
   "source": [
    "from nltk.text import TokenSearcher"
   ]
  },
  {
   "cell_type": "code",
   "execution_count": 197,
   "metadata": {},
   "outputs": [
    {
     "data": {
      "text/plain": [
       "[['una', 'buona', 'occasione'],\n",
       " ['una', 'buona', 'salute'],\n",
       " ['una', 'buona', 'ragione'],\n",
       " ['una', 'buona', 'serata'],\n",
       " ['una', 'buona', 'parte'],\n",
       " ['una', 'buona', 'volta'],\n",
       " ['una', 'buona', 'cosa'],\n",
       " ['una', 'buona', 'guarigione'],\n",
       " ['una', 'buona', 'volta'],\n",
       " ['una', 'buona', 'volta'],\n",
       " ['una', 'buona', 'parte'],\n",
       " ['una', 'buona', 'volta'],\n",
       " ['una', 'buona', 'imunita'],\n",
       " ['una', 'buona', 'parte'],\n",
       " ['una', 'buona', 'ragione'],\n",
       " ['una', 'buona', 'idea'],\n",
       " ['una', 'buona', 'parte'],\n",
       " ['una', 'buona', 'idea'],\n",
       " ['una', 'buona', 'parte'],\n",
       " ['una', 'buona', 'parte'],\n",
       " ['una', 'buona', 'alimentazione'],\n",
       " ['uno', 'buono', 'da'],\n",
       " ['una', 'buona', 'giornata'],\n",
       " ['una', 'buona', 'leva'],\n",
       " ['una', 'buona', 'serata'],\n",
       " ['una', 'buona', 'vitaat'],\n",
       " ['una', 'buona', 'festa'],\n",
       " ['una', 'buona', 'serata'],\n",
       " ['una', 'buona', 'serata'],\n",
       " ['una', 'buona', 'parte'],\n",
       " ['una', 'buona', 'parte'],\n",
       " ['una', 'buona', 'parte'],\n",
       " ['una', 'buona', 'dose'],\n",
       " ['una', 'buona', 'volta'],\n",
       " ['una', 'buona', 'causa'],\n",
       " ['una', 'buona', 'vita'],\n",
       " ['una', 'buona', 'guarigione'],\n",
       " ['una', 'buona', 'percentuale'],\n",
       " ['una', 'buona', 'serata'],\n",
       " ['una', 'buona', 'guarigione'],\n",
       " ['una', 'buona', 'scopata'],\n",
       " ['una', 'buona', 'occasione'],\n",
       " ['una', 'buona', 'parte'],\n",
       " ['una', 'buona', 'volontà'],\n",
       " ['una', 'buona', 'cultura'],\n",
       " ['una', 'buona', 'volta'],\n",
       " ['una', 'buona', 'parte'],\n",
       " ['una', 'buona', 'dose'],\n",
       " ['una', 'buona', 'parte'],\n",
       " ['un', 'buono', 'per'],\n",
       " ['una', 'buona', 'volta'],\n",
       " ['una', 'buona', 'amministrazione'],\n",
       " ['un', 'buono', 'a'],\n",
       " ['una', 'buona', 'scopata'],\n",
       " ['una', 'buona', 'serata'],\n",
       " ['una', 'buona', 'notizia'],\n",
       " ['una', 'buona', 'serata'],\n",
       " ['una', 'buona', 'parte'],\n",
       " ['una', 'buona', 'giornata'],\n",
       " ['una', 'buona', 'volta'],\n",
       " ['una', 'buona', 'parte'],\n",
       " ['una', 'buona', 'serata'],\n",
       " ['una', 'buona', 'parte'],\n",
       " ['una', 'buona', 'festa'],\n",
       " ['una', 'buona', 'parte'],\n",
       " ['una', 'buona', 'causa'],\n",
       " ['una', 'buona', 'giornata'],\n",
       " ['una', 'buona', 'guarigione'],\n",
       " ['una', 'buona', 'percentuale'],\n",
       " ['una', 'buona', 'serata'],\n",
       " ['una', 'buona', 'guarigione'],\n",
       " ['una', 'buona', 'giornata'],\n",
       " ['una', 'buona', 'compagnia'],\n",
       " ['una', 'buona', 'serata'],\n",
       " ['un', 'buono', 'per'],\n",
       " ['una', 'buona', 'scuola'],\n",
       " ['una', 'buona', 'occasione'],\n",
       " ['una', 'buona', 'strategia'],\n",
       " ['una', 'buona', 'giornata'],\n",
       " ['una', 'buona', 'notizia'],\n",
       " ['una', 'buona', 'notizia'],\n",
       " ['un', 'buono', 'a'],\n",
       " ['una', 'buona', 'leva'],\n",
       " ['una', 'buona', 'serata'],\n",
       " ['una', 'buona', 'scuola'],\n",
       " ['una', 'buona', 'volta'],\n",
       " ['un', 'buono', 'a'],\n",
       " ['una', 'buona', 'giornata'],\n",
       " ['una', 'buona', 'fetta'],\n",
       " ['una', 'buona', 'giornata'],\n",
       " ['un', 'buono', 'a'],\n",
       " ['una', 'buona', 'zona'],\n",
       " ['una', 'buona', 'mossa'],\n",
       " ['una', 'buona', 'giornata'],\n",
       " ['una', 'buona', 'serata'],\n",
       " ['una', 'buona', 'giornata'],\n",
       " ['una', 'buona', 'volta'],\n",
       " ['una', 'buona', 'cucina'],\n",
       " ['una', 'buona', 'prospettiva'],\n",
       " ['una', 'buona', 'parte'],\n",
       " ['una', 'buona', 'scusa'],\n",
       " ['una', 'buona', 'giornata'],\n",
       " ['una', 'buona', 'e'],\n",
       " ['una', 'buona', 'idea'],\n",
       " ['una', 'buona', 'volta'],\n",
       " ['una', 'buona', 'volta'],\n",
       " ['una', 'buona', 'parte'],\n",
       " ['un', 'buono', 'per'],\n",
       " ['una', 'buona', 'volta'],\n",
       " ['una', 'buona', 'vitaat'],\n",
       " ['una', 'buona', 'notizia'],\n",
       " ['una', 'buona', 'parte'],\n",
       " ['una', 'buona', 'alimentazione'],\n",
       " ['un', 'buono', 'a'],\n",
       " ['una', 'buona', 'parte'],\n",
       " ['una', 'buona', 'zona'],\n",
       " ['una', 'buona', 'cultura'],\n",
       " ['una', 'buona', 'volta'],\n",
       " ['una', 'buona', 'idea'],\n",
       " ['una', 'buona', 'volta'],\n",
       " ['una', 'buona', 'imunita'],\n",
       " ['una', 'buona', 'serata'],\n",
       " ['una', 'buona', 'parte'],\n",
       " ['una', 'buona', 'serata'],\n",
       " ['una', 'buona', 'idea'],\n",
       " ['una', 'buona', 'amministrazione'],\n",
       " ['una', 'buona', 'vita'],\n",
       " ['una', 'buona', 'serata'],\n",
       " ['una', 'buona', 'scuola'],\n",
       " ['una', 'buona', 'serata'],\n",
       " ['una', 'buona', 'percentuale'],\n",
       " ['una', 'buona', 'parte'],\n",
       " ['una', 'buona', 'parte'],\n",
       " ['una', 'buona', 'scusa'],\n",
       " ['una', 'buona', 'e'],\n",
       " ['una', 'buona', 'volta'],\n",
       " ['una', 'buona', 'serata'],\n",
       " ['una', 'buona', 'giornata'],\n",
       " ['una', 'buona', 'parte'],\n",
       " ['una', 'buona', 'volta'],\n",
       " ['una', 'buona', 'idea'],\n",
       " ['una', 'buona', 'parte'],\n",
       " ['una', 'buona', 'volta'],\n",
       " ['una', 'buona', 'serata'],\n",
       " ['una', 'buona', 'volta'],\n",
       " ['una', 'buona', 'parte'],\n",
       " ['una', 'buona', 'serata'],\n",
       " ['una', 'buona', 'strategia'],\n",
       " ['una', 'buona', 'parte'],\n",
       " ['una', 'buona', 'giornata'],\n",
       " ['un', 'buono', 'a'],\n",
       " ['una', 'buona', 'parte'],\n",
       " ['una', 'buona', 'volta'],\n",
       " ['una', 'buona', 'parte'],\n",
       " ['una', 'buona', 'volta'],\n",
       " ['una', 'buona', 'giornata'],\n",
       " ['una', 'buona', 'cosa'],\n",
       " ['una', 'buona', 'parte'],\n",
       " ['una', 'buona', 'guarigione'],\n",
       " ['una', 'buona', 'volontà'],\n",
       " ['uno', 'buono', 'da'],\n",
       " ['una', 'buona', 'giornata'],\n",
       " ['una', 'buona', 'percentuale'],\n",
       " ['una', 'buona', 'parte'],\n",
       " ['una', 'buona', 'parte'],\n",
       " ['una', 'buona', 'ragione'],\n",
       " ['una', 'buona', 'compagnia'],\n",
       " ['una', 'buona', 'parte'],\n",
       " ['un', 'buono', 'per'],\n",
       " ['una', 'buona', 'giornata'],\n",
       " ['una', 'buona', 'idea'],\n",
       " ['una', 'buona', 'scuola'],\n",
       " ['una', 'buona', 'parte'],\n",
       " ['una', 'buona', 'serata'],\n",
       " ['una', 'buona', 'serata'],\n",
       " ['una', 'buona', 'notizia'],\n",
       " ['una', 'buona', 'notizia'],\n",
       " ['una', 'buona', 'volta'],\n",
       " ['una', 'buona', 'occasione'],\n",
       " ['una', 'buona', 'idea'],\n",
       " ['una', 'buona', 'volta'],\n",
       " ['una', 'buona', 'giornata'],\n",
       " ['una', 'buona', 'volta'],\n",
       " ['una', 'buona', 'cucina'],\n",
       " ['una', 'buona', 'prospettiva'],\n",
       " ['una', 'buona', 'salute'],\n",
       " ['una', 'buona', 'ragione'],\n",
       " ['una', 'buona', 'serata'],\n",
       " ['una', 'buona', 'giornata'],\n",
       " ['una', 'buona', 'fetta'],\n",
       " ['una', 'buona', 'giornata'],\n",
       " ['una', 'buona', 'mossa']]"
      ]
     },
     "execution_count": 197,
     "metadata": {},
     "output_type": "execute_result"
    }
   ],
   "source": [
    "tsearch =  TokenSearcher(yt_toks)\n",
    "tsearch.findall('<un[ao]?><buon[ao]><.*>')"
   ]
  },
  {
   "attachments": {},
   "cell_type": "markdown",
   "metadata": {},
   "source": [
    "Possiamo aggregare e contare i nomi per avere una specie di statistica:"
   ]
  },
  {
   "cell_type": "code",
   "execution_count": 200,
   "metadata": {},
   "outputs": [
    {
     "data": {
      "text/plain": [
       "[('parte', 34),\n",
       " ('volta', 24),\n",
       " ('serata', 22),\n",
       " ('giornata', 18),\n",
       " ('idea', 8),\n",
       " ('guarigione', 6),\n",
       " ('a', 6),\n",
       " ('notizia', 6),\n",
       " ('occasione', 4),\n",
       " ('ragione', 4),\n",
       " ('percentuale', 4),\n",
       " ('per', 4),\n",
       " ('scuola', 4),\n",
       " ('salute', 2),\n",
       " ('cosa', 2),\n",
       " ('imunita', 2),\n",
       " ('alimentazione', 2),\n",
       " ('da', 2),\n",
       " ('leva', 2),\n",
       " ('vitaat', 2)]"
      ]
     },
     "execution_count": 200,
     "metadata": {},
     "output_type": "execute_result"
    }
   ],
   "source": [
    "res = tsearch.findall('<un[ao]?><buon[ao]>(<.*>)')\n",
    "ctok = Counter([r[0] for r in res])\n",
    "ctok.most_common(20)"
   ]
  },
  {
   "cell_type": "code",
   "execution_count": null,
   "metadata": {},
   "outputs": [],
   "source": []
  }
 ],
 "metadata": {
  "kernelspec": {
   "display_name": "data-env",
   "language": "python",
   "name": "data-env"
  },
  "language_info": {
   "codemirror_mode": {
    "name": "ipython",
    "version": 3
   },
   "file_extension": ".py",
   "mimetype": "text/x-python",
   "name": "python",
   "nbconvert_exporter": "python",
   "pygments_lexer": "ipython3",
   "version": "3.10.2"
  },
  "orig_nbformat": 4
 },
 "nbformat": 4,
 "nbformat_minor": 2
}
