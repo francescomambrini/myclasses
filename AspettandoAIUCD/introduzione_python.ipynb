{
 "cells": [
  {
   "attachments": {},
   "cell_type": "markdown",
   "metadata": {},
   "source": [
    "# Introduzione a Python per l’analisi dei dati testuali"
   ]
  },
  {
   "attachments": {},
   "cell_type": "markdown",
   "metadata": {},
   "source": [
    "Questo è un [Jupyter Notebook](https://jupyter-notebook-beginner-guide.readthedocs.io/en/latest/what_is_jupyter.html), ovvero un file che contiene codice scritto in Python eseguibile dall'interprete e caselle di testo come questa, formattabili utilizzando la sintassi di un linguaggio di markup chiamato [Markdown](https://it.wikipedia.org/wiki/Markdown). È un ottimo strumento per mischiare codice e spiegazioni!\n",
    "\n",
    "Cominciamo!"
   ]
  },
  {
   "attachments": {},
   "cell_type": "markdown",
   "metadata": {},
   "source": [
    "## Due parole su Python"
   ]
  },
  {
   "attachments": {},
   "cell_type": "markdown",
   "metadata": {},
   "source": [
    "Questa è una mia traduzione della risposta alla domanda [\"what is Python\"](https://docs.python.org/3/faq/general.html#what-is-python) sulle FAQ del sito [www.python.org](www.python.org):\n",
    "\n",
    "> Python è un linguaggio di programmazione `interpretato, interattivo e orientato agli oggetti`. Incorpora al proprio interno `moduli, eccezioni, tipizzazione dinamica, tipi di dati di altissimo livello e classi`. Supporta `molteplici paradigmi di programmazione`, oltre alla programmazione orientata agli oggetti, ad esempio la programmazione procedurale funzionale. Python combino un eccezionale potenza con una sintassi estremamente chiara. [...] Da ultimo, `Python e portabile`: può girare su molte varianti di UNIX, incluso Linux e MacOS, e su Windows."
   ]
  },
  {
   "attachments": {},
   "cell_type": "markdown",
   "metadata": {},
   "source": [
    "In parole molto semplici, Python è un linguaggio di programmazione interpretato, ovvero necessita di un particolare programma (un **interprete**) affiché i comandi che noi scriviamo utilizzando la sua sintassi vengano \"tradotte\" riga per riga nella \"lingua madre\" del computer.\n",
    "\n",
    "L'interprete Python può essere eseguito in **modalità interattiva**, ovvero possiamo avviarlo e scrivere istruzioni che vengono immediatamente eseguite. Non è necessario scrivere prima uno script che viene poi letto e interpretato. Possiamo \"dialogare\" con il nostro interprete e questo è una grandissima comodità quando si impara!"
   ]
  },
  {
   "attachments": {},
   "cell_type": "markdown",
   "metadata": {},
   "source": [
    "In un Jupyter notebook, noi possiamo scrivere le nostre istruzioni nelle celle di codice (**Attenzione**: dovete assicurarvi di creare celle di codice, non di testo. È sempre possibile cambiare la tipologia di una cella, )"
   ]
  },
  {
   "attachments": {},
   "cell_type": "markdown",
   "metadata": {},
   "source": [
    "Ad esempio, eseguiamo questo strano comando (non preoccupatevi: cosa significa l'istruzione `import` lo vedremo dopo!)"
   ]
  },
  {
   "cell_type": "code",
   "execution_count": 2,
   "metadata": {},
   "outputs": [
    {
     "name": "stdout",
     "output_type": "stream",
     "text": [
      "The Zen of Python, by Tim Peters\n",
      "\n",
      "Beautiful is better than ugly.\n",
      "Explicit is better than implicit.\n",
      "Simple is better than complex.\n",
      "Complex is better than complicated.\n",
      "Flat is better than nested.\n",
      "Sparse is better than dense.\n",
      "Readability counts.\n",
      "Special cases aren't special enough to break the rules.\n",
      "Although practicality beats purity.\n",
      "Errors should never pass silently.\n",
      "Unless explicitly silenced.\n",
      "In the face of ambiguity, refuse the temptation to guess.\n",
      "There should be one-- and preferably only one --obvious way to do it.\n",
      "Although that way may not be obvious at first unless you're Dutch.\n",
      "Now is better than never.\n",
      "Although never is often better than *right* now.\n",
      "If the implementation is hard to explain, it's a bad idea.\n",
      "If the implementation is easy to explain, it may be a good idea.\n",
      "Namespaces are one honking great idea -- let's do more of those!\n"
     ]
    }
   ],
   "source": [
    "import this"
   ]
  },
  {
   "cell_type": "code",
   "execution_count": 5,
   "metadata": {},
   "outputs": [
    {
     "data": {
      "text/plain": [
       "70560"
      ]
     },
     "execution_count": 5,
     "metadata": {},
     "output_type": "execute_result"
    }
   ],
   "source": [
    "60 * 24 * 7 * 7"
   ]
  },
  {
   "cell_type": "code",
   "execution_count": null,
   "metadata": {},
   "outputs": [],
   "source": []
  }
 ],
 "metadata": {
  "kernelspec": {
   "display_name": "data-env",
   "language": "python",
   "name": "data-env"
  },
  "language_info": {
   "codemirror_mode": {
    "name": "ipython",
    "version": 3
   },
   "file_extension": ".py",
   "mimetype": "text/x-python",
   "name": "python",
   "nbconvert_exporter": "python",
   "pygments_lexer": "ipython3",
   "version": "3.10.2"
  },
  "orig_nbformat": 4
 },
 "nbformat": 4,
 "nbformat_minor": 2
}
